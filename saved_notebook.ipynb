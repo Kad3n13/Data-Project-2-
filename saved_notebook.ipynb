{
 "cells": [
  {
   "cell_type": "markdown",
   "metadata": {
    "id": "GNIwe5N7s0e_"
   },
   "source": [
    "# Real-world Data Wrangling"
   ]
  },
  {
   "cell_type": "markdown",
   "metadata": {
    "id": "_BG63Tpg8ep_"
   },
   "source": [
    "In this project, you will apply the skills you acquired in the course to gather and wrangle real-world data with two datasets of your choice.\n",
    "\n",
    "You will retrieve and extract the data, assess the data programmatically and visually, accross elements of data quality and structure, and implement a cleaning strategy for the data. You will then store the updated data into your selected database/data store, combine the data, and answer a research question with the datasets.\n",
    "\n",
    "Throughout the process, you are expected to:\n",
    "\n",
    "1. Explain your decisions towards methods used for gathering, assessing, cleaning, storing, and answering the research question\n",
    "2. Write code comments so your code is more readable\n",
    "\n",
    "Before you start, install the some of the required packages. "
   ]
  },
  {
   "cell_type": "code",
   "execution_count": 5,
   "metadata": {},
   "outputs": [],
   "source": [
    "import numpy as np\n",
    "\n",
    "import pandas as pd\n"
   ]
  },
  {
   "cell_type": "code",
   "execution_count": 3,
   "metadata": {},
   "outputs": [
    {
     "name": "stdout",
     "output_type": "stream",
     "text": [
      "Collecting ucimlrepo\n",
      "  Downloading ucimlrepo-0.0.7-py3-none-any.whl (8.0 kB)\n",
      "Collecting pandas>=1.0.0\n",
      "  Downloading pandas-2.2.2-cp310-cp310-manylinux_2_17_x86_64.manylinux2014_x86_64.whl (13.0 MB)\n",
      "\u001b[2K     \u001b[90m━━━━━━━━━━━━━━━━━━━━━━━━━━━━━━━━━━━━━━━━\u001b[0m \u001b[32m13.0/13.0 MB\u001b[0m \u001b[31m60.2 MB/s\u001b[0m eta \u001b[36m0:00:00\u001b[0m00:01\u001b[0m00:01\u001b[0m\n",
      "\u001b[?25hCollecting certifi>=2020.12.5\n",
      "  Using cached certifi-2024.7.4-py3-none-any.whl (162 kB)\n",
      "Collecting python-dateutil>=2.8.2\n",
      "  Downloading python_dateutil-2.9.0.post0-py2.py3-none-any.whl (229 kB)\n",
      "\u001b[2K     \u001b[90m━━━━━━━━━━━━━━━━━━━━━━━━━━━━━━━━━━━━━━\u001b[0m \u001b[32m229.9/229.9 kB\u001b[0m \u001b[31m30.4 MB/s\u001b[0m eta \u001b[36m0:00:00\u001b[0m\n",
      "\u001b[?25hCollecting tzdata>=2022.7\n",
      "  Downloading tzdata-2024.1-py2.py3-none-any.whl (345 kB)\n",
      "\u001b[2K     \u001b[90m━━━━━━━━━━━━━━━━━━━━━━━━━━━━━━━━━━━━━━\u001b[0m \u001b[32m345.4/345.4 kB\u001b[0m \u001b[31m33.1 MB/s\u001b[0m eta \u001b[36m0:00:00\u001b[0m\n",
      "\u001b[?25hCollecting pytz>=2020.1\n",
      "  Downloading pytz-2024.1-py2.py3-none-any.whl (505 kB)\n",
      "\u001b[2K     \u001b[90m━━━━━━━━━━━━━━━━━━━━━━━━━━━━━━━━━━━━━━\u001b[0m \u001b[32m505.5/505.5 kB\u001b[0m \u001b[31m41.3 MB/s\u001b[0m eta \u001b[36m0:00:00\u001b[0m\n",
      "\u001b[?25hCollecting numpy>=1.22.4\n",
      "  Downloading numpy-2.0.0-cp310-cp310-manylinux_2_17_x86_64.manylinux2014_x86_64.whl (19.3 MB)\n",
      "\u001b[2K     \u001b[90m━━━━━━━━━━━━━━━━━━━━━━━━━━━━━━━━━━━━━━━━\u001b[0m \u001b[32m19.3/19.3 MB\u001b[0m \u001b[31m65.4 MB/s\u001b[0m eta \u001b[36m0:00:00\u001b[0m00:01\u001b[0m00:01\u001b[0m\n",
      "\u001b[?25hCollecting six>=1.5\n",
      "  Downloading six-1.16.0-py2.py3-none-any.whl (11 kB)\n",
      "Installing collected packages: pytz, tzdata, six, numpy, certifi, python-dateutil, pandas, ucimlrepo\n",
      "\u001b[31mERROR: pip's dependency resolver does not currently take into account all the packages that are installed. This behaviour is the source of the following dependency conflicts.\n",
      "scipy 1.11.2 requires numpy<1.28.0,>=1.21.6, but you have numpy 2.0.0 which is incompatible.\u001b[0m\u001b[31m\n",
      "\u001b[0mSuccessfully installed certifi-2024.7.4 numpy-2.0.0 pandas-2.2.2 python-dateutil-2.9.0.post0 pytz-2024.1 six-1.16.0 tzdata-2024.1 ucimlrepo-0.0.7\n"
     ]
    }
   ],
   "source": [
    "!pip install --target=/workspace ucimlrepo"
   ]
  },
  {
   "cell_type": "code",
   "execution_count": 2,
   "metadata": {},
   "outputs": [
    {
     "name": "stdout",
     "output_type": "stream",
     "text": [
      "Defaulting to user installation because normal site-packages is not writeable\n",
      "Requirement already satisfied: matplotlib in /opt/conda/lib/python3.10/site-packages (3.7.2)\n",
      "Collecting matplotlib\n",
      "  Downloading matplotlib-3.9.1-cp310-cp310-manylinux_2_17_x86_64.manylinux2014_x86_64.whl (8.3 MB)\n",
      "\u001b[2K     \u001b[90m━━━━━━━━━━━━━━━━━━━━━━━━━━━━━━━━━━━━━━━━\u001b[0m \u001b[32m8.3/8.3 MB\u001b[0m \u001b[31m20.0 MB/s\u001b[0m eta \u001b[36m0:00:00\u001b[0m00:01\u001b[0m00:01\u001b[0m\n",
      "\u001b[?25hRequirement already satisfied: pillow>=8 in /opt/conda/lib/python3.10/site-packages (from matplotlib) (9.4.0)\n",
      "Requirement already satisfied: numpy>=1.23 in /opt/conda/lib/python3.10/site-packages (from matplotlib) (1.24.3)\n",
      "Requirement already satisfied: pyparsing>=2.3.1 in /opt/conda/lib/python3.10/site-packages (from matplotlib) (3.0.9)\n",
      "Requirement already satisfied: python-dateutil>=2.7 in /opt/conda/lib/python3.10/site-packages (from matplotlib) (2.9.0.post0)\n",
      "Requirement already satisfied: kiwisolver>=1.3.1 in /opt/conda/lib/python3.10/site-packages (from matplotlib) (1.4.5)\n",
      "Requirement already satisfied: contourpy>=1.0.1 in /opt/conda/lib/python3.10/site-packages (from matplotlib) (1.2.1)\n",
      "Requirement already satisfied: fonttools>=4.22.0 in /opt/conda/lib/python3.10/site-packages (from matplotlib) (4.51.0)\n",
      "Requirement already satisfied: packaging>=20.0 in /opt/conda/lib/python3.10/site-packages (from matplotlib) (23.0)\n",
      "Requirement already satisfied: cycler>=0.10 in /opt/conda/lib/python3.10/site-packages (from matplotlib) (0.12.1)\n",
      "Requirement already satisfied: six>=1.5 in /opt/conda/lib/python3.10/site-packages (from python-dateutil>=2.7->matplotlib) (1.16.0)\n",
      "Installing collected packages: matplotlib\n",
      "Successfully installed matplotlib-3.9.1\n",
      "Note: you may need to restart the kernel to use updated packages.\n"
     ]
    }
   ],
   "source": [
    "pip install --upgrade matplotlib\n"
   ]
  },
  {
   "cell_type": "code",
   "execution_count": 21,
   "metadata": {},
   "outputs": [
    {
     "name": "stdout",
     "output_type": "stream",
     "text": [
      "Defaulting to user installation because normal site-packages is not writeable\n",
      "Requirement already satisfied: pandas in /opt/conda/lib/python3.10/site-packages (2.0.3)\n",
      "Collecting pandas\n",
      "  Downloading pandas-2.2.2-cp310-cp310-manylinux_2_17_x86_64.manylinux2014_x86_64.whl (13.0 MB)\n",
      "\u001b[2K     \u001b[90m━━━━━━━━━━━━━━━━━━━━━━━━━━━━━━━━━━━━━━━━\u001b[0m \u001b[32m13.0/13.0 MB\u001b[0m \u001b[31m49.1 MB/s\u001b[0m eta \u001b[36m0:00:00\u001b[0m00:01\u001b[0m0:01\u001b[0m\n",
      "\u001b[?25hRequirement already satisfied: seaborn in /opt/conda/lib/python3.10/site-packages (0.12.2)\n",
      "Collecting seaborn\n",
      "  Downloading seaborn-0.13.2-py3-none-any.whl (294 kB)\n",
      "\u001b[2K     \u001b[90m━━━━━━━━━━━━━━━━━━━━━━━━━━━━━━━━━━━━━━\u001b[0m \u001b[32m294.9/294.9 kB\u001b[0m \u001b[31m36.4 MB/s\u001b[0m eta \u001b[36m0:00:00\u001b[0m\n",
      "\u001b[?25hRequirement already satisfied: matplotlib in /home/student/.local/lib/python3.10/site-packages (3.9.1)\n",
      "Requirement already satisfied: pytz>=2020.1 in /opt/conda/lib/python3.10/site-packages (from pandas) (2022.7)\n",
      "Requirement already satisfied: numpy>=1.22.4 in /opt/conda/lib/python3.10/site-packages (from pandas) (1.24.3)\n",
      "Requirement already satisfied: tzdata>=2022.7 in /opt/conda/lib/python3.10/site-packages (from pandas) (2024.1)\n",
      "Requirement already satisfied: python-dateutil>=2.8.2 in /opt/conda/lib/python3.10/site-packages (from pandas) (2.9.0.post0)\n",
      "Requirement already satisfied: packaging>=20.0 in /opt/conda/lib/python3.10/site-packages (from matplotlib) (23.0)\n",
      "Requirement already satisfied: kiwisolver>=1.3.1 in /opt/conda/lib/python3.10/site-packages (from matplotlib) (1.4.5)\n",
      "Requirement already satisfied: pyparsing>=2.3.1 in /opt/conda/lib/python3.10/site-packages (from matplotlib) (3.0.9)\n",
      "Requirement already satisfied: cycler>=0.10 in /opt/conda/lib/python3.10/site-packages (from matplotlib) (0.12.1)\n",
      "Requirement already satisfied: fonttools>=4.22.0 in /opt/conda/lib/python3.10/site-packages (from matplotlib) (4.51.0)\n",
      "Requirement already satisfied: pillow>=8 in /opt/conda/lib/python3.10/site-packages (from matplotlib) (9.4.0)\n",
      "Requirement already satisfied: contourpy>=1.0.1 in /opt/conda/lib/python3.10/site-packages (from matplotlib) (1.2.1)\n",
      "Requirement already satisfied: six>=1.5 in /opt/conda/lib/python3.10/site-packages (from python-dateutil>=2.8.2->pandas) (1.16.0)\n",
      "Installing collected packages: pandas, seaborn\n",
      "Successfully installed pandas-2.2.2 seaborn-0.13.2\n",
      "Note: you may need to restart the kernel to use updated packages.\n"
     ]
    }
   ],
   "source": [
    "pip install --upgrade pandas seaborn matplotlib\n"
   ]
  },
  {
   "cell_type": "markdown",
   "metadata": {},
   "source": [
    "**Note:** Restart the kernel to use updated package(s)."
   ]
  },
  {
   "cell_type": "markdown",
   "metadata": {
    "id": "lDYDkH-Zs7Nn"
   },
   "source": [
    "## 1. Gather data\n",
    "\n",
    "In this section, you will extract data using two different data gathering methods and combine the data. Use at least two different types of data-gathering methods."
   ]
  },
  {
   "cell_type": "markdown",
   "metadata": {
    "id": "LbN7z7rcuqpO"
   },
   "source": [
    "### **1.1.** Problem Statement\n",
    "\n",
    "I will analyze movie production and crew dynamics using tmdb_5000_credits.csv and tmdb_5000_movies.csv.\n",
    "\n",
    "The first dataset includes crew roles, while the second provides movie details.\n",
    "\n",
    "Combining these will help explore how crew roles affect movie success and identify trends in production metrics."
   ]
  },
  {
   "cell_type": "markdown",
   "metadata": {
    "id": "8AQfBAdUypMm"
   },
   "source": [
    "### **1.2.** Gather at least two datasets using two different data gathering methods\n",
    "\n",
    "List of data gathering methods:\n",
    "\n",
    "- Download data manually\n",
    "- Programmatically downloading files\n",
    "- Gather data by accessing APIs\n",
    "- Gather and extract data from HTML files using BeautifulSoup\n",
    "- Extract data from a SQL database\n",
    "\n",
    "Each dataset must have at least two variables, and have greater than 500 data samples within each dataset.\n",
    "\n",
    "For each dataset, briefly describe why you picked the dataset and the gathering method (2-3 full sentences), including the names and significance of the variables in the dataset. Show your work (e.g., if using an API to download the data, please include a snippet of your code). \n",
    "\n",
    "Load the dataset programmtically into this notebook."
   ]
  },
  {
   "cell_type": "markdown",
   "metadata": {},
   "source": [
    "# DATASET 1 (tmdb_5000_movies.csv)\n",
    "\n",
    "Reason for Selection: This dataset provides comprehensive movie details, including titles, genres, and release dates, making it valuable for analyzing movie trends and performances over time.\n",
    "\n",
    "Gathering Method: The dataset was programmatically downloaded from Kaggle using a Python script that utilizes Kaggle's API.\n",
    "    \n",
    "This approach automates the download process, ensuring you can easily update or retrieve the dataset without manual intervention."
   ]
  },
  {
   "cell_type": "markdown",
   "metadata": {},
   "source": [
    "# DATASET 2 (tmdb_5000_credits.csv)\n",
    "\n",
    "Reason for Selection: This dataset was chosen because it contains detailed crew information for movies, which is crucial for analyzing the roles and contributions of different crew members in the film industry.\n",
    "\n",
    "Gathering Method: The dataset was downloaded manually from Kaggle, a popular data repository. This method ensures you have the latest version of the dataset and can access supplementary resources provided by the competition or dataset description."
   ]
  },
  {
   "cell_type": "markdown",
   "metadata": {},
   "source": [
    "# TMDb Movie Dataset: This dataset contains\n",
    "\n",
    "# detailed information on movies, including their\n",
    "\n",
    "# budget, revenue, genres, and cast\n",
    "\n",
    "\n",
    "The TMDb Movie Dataset contains comprehensive details about various movies.\n",
    "\n",
    "This includes essential attributes such as budget, revenue, genres, and the main cast,\n",
    "\n",
    "providing a rich source of information for analyzing movie performance.\n",
    "\n"
   ]
  },
  {
   "cell_type": "markdown",
   "metadata": {},
   "source": [
    "# IMDb Ratings Dataset: This dataset includes\n",
    "\n",
    "# IMDb ratings, votes, and reviews for various\n",
    "\n",
    "# movies.\n",
    "\n",
    "\n",
    "The IMDb Ratings Dataset offers valuable insights into audience opinions by providing IMDb ratings, the number of votes,\n",
    "\n",
    "and user reviews for a wide range of movies.\n",
    "\n",
    "This dataset is essential for understanding viewer preferences and the factors contributing to a movie's popularity and critical reception."
   ]
  },
  {
   "cell_type": "markdown",
   "metadata": {},
   "source": [
    "# Load credits dataset\n",
    "\n",
    "# Display basic information"
   ]
  },
  {
   "cell_type": "code",
   "execution_count": 24,
   "metadata": {},
   "outputs": [
    {
     "name": "stdout",
     "output_type": "stream",
     "text": [
      "Credits Data:\n",
      "<class 'pandas.core.frame.DataFrame'>\n",
      "RangeIndex: 4803 entries, 0 to 4802\n",
      "Data columns (total 20 columns):\n",
      " #   Column                Non-Null Count  Dtype  \n",
      "---  ------                --------------  -----  \n",
      " 0   budget                4803 non-null   int64  \n",
      " 1   genres                4803 non-null   object \n",
      " 2   homepage              1712 non-null   object \n",
      " 3   id                    4803 non-null   int64  \n",
      " 4   keywords              4803 non-null   object \n",
      " 5   original_language     4803 non-null   object \n",
      " 6   original_title        4803 non-null   object \n",
      " 7   overview              4800 non-null   object \n",
      " 8   popularity            4803 non-null   float64\n",
      " 9   production_companies  4803 non-null   object \n",
      " 10  production_countries  4803 non-null   object \n",
      " 11  release_date          4802 non-null   object \n",
      " 12  revenue               4803 non-null   int64  \n",
      " 13  runtime               4801 non-null   float64\n",
      " 14  spoken_languages      4803 non-null   object \n",
      " 15  status                4803 non-null   object \n",
      " 16  tagline               3959 non-null   object \n",
      " 17  title                 4803 non-null   object \n",
      " 18  vote_average          4803 non-null   float64\n",
      " 19  vote_count            4803 non-null   int64  \n",
      "dtypes: float64(3), int64(4), object(13)\n",
      "memory usage: 750.6+ KB\n",
      "None\n",
      "      budget                                             genres  \\\n",
      "0  237000000  [{\"id\": 28, \"name\": \"Action\"}, {\"id\": 12, \"nam...   \n",
      "\n",
      "                      homepage     id  \\\n",
      "0  http://www.avatarmovie.com/  19995   \n",
      "\n",
      "                                            keywords original_language  \\\n",
      "0  [{\"id\": 1463, \"name\": \"culture clash\"}, {\"id\":...                en   \n",
      "\n",
      "  original_title                                           overview  \\\n",
      "0         Avatar  In the 22nd century, a paraplegic Marine is di...   \n",
      "\n",
      "   popularity                               production_companies  \\\n",
      "0  150.437577  [{\"name\": \"Ingenious Film Partners\", \"id\": 289...   \n",
      "\n",
      "                                production_countries release_date     revenue  \\\n",
      "0  [{\"iso_3166_1\": \"US\", \"name\": \"United States o...   2009-12-10  2787965087   \n",
      "\n",
      "   runtime                                   spoken_languages    status  \\\n",
      "0    162.0  [{\"iso_639_1\": \"en\", \"name\": \"English\"}, {\"iso...  Released   \n",
      "\n",
      "                       tagline   title  vote_average  vote_count  \n",
      "0  Enter the World of Pandora.  Avatar           7.2       11800  \n"
     ]
    }
   ],
   "source": [
    "import pandas as pd\n",
    "credits_file_path = 'tmdb_5000_movies.csv'\n",
    "credits_data = pd.read_csv(credits_file_path)\n",
    "\n",
    "print(\"Credits Data:\")\n",
    "print(credits_data.info(0))\n",
    "print(credits_data.head(1))\n"
   ]
  },
  {
   "cell_type": "markdown",
   "metadata": {
    "id": "7e6gS0wL1KTu"
   },
   "source": [
    "#### **Dataset 1**\n",
    "\n",
    "Type: CSV File\n",
    "Method: Download data manually (from Kaggle)\n",
    "Dataset variables:\n",
    "    \n",
    "\n",
    "    Variable 1: budget (Budget of the movie)\n",
    "    Variable 2: revenue (Revenue generated by the movie)"
   ]
  },
  {
   "cell_type": "markdown",
   "metadata": {},
   "source": [
    "# CHECK"
   ]
  },
  {
   "cell_type": "markdown",
   "metadata": {},
   "source": [
    "# Path to the ZIP file\n",
    "\n",
    "# Name of the CSV file inside the ZIP archive\n",
    "\n",
    "# Open the ZIP file\n",
    "\n",
    "# Check if the CSV file exists in the ZIP archive\n",
    "\n",
    "# Open and read the CSV file inside the ZIP \n",
    "# archive\n",
    "\n",
    "# Display first few rows\n",
    "\n",
    "# Display dataset summary statistics\n",
    "\n",
    "# Check for null values in each column"
   ]
  },
  {
   "cell_type": "code",
   "execution_count": 16,
   "metadata": {},
   "outputs": [
    {
     "name": "stdout",
     "output_type": "stream",
     "text": [
      "Successfully loaded the CSV file from ZIP.\n",
      "      budget                                             genres  \\\n",
      "0  237000000  [{\"id\": 28, \"name\": \"Action\"}, {\"id\": 12, \"nam...   \n",
      "1  300000000  [{\"id\": 12, \"name\": \"Adventure\"}, {\"id\": 14, \"...   \n",
      "2  245000000  [{\"id\": 28, \"name\": \"Action\"}, {\"id\": 12, \"nam...   \n",
      "3  250000000  [{\"id\": 28, \"name\": \"Action\"}, {\"id\": 80, \"nam...   \n",
      "4  260000000  [{\"id\": 28, \"name\": \"Action\"}, {\"id\": 12, \"nam...   \n",
      "\n",
      "                                       homepage      id  \\\n",
      "0                   http://www.avatarmovie.com/   19995   \n",
      "1  http://disney.go.com/disneypictures/pirates/     285   \n",
      "2   http://www.sonypictures.com/movies/spectre/  206647   \n",
      "3            http://www.thedarkknightrises.com/   49026   \n",
      "4          http://movies.disney.com/john-carter   49529   \n",
      "\n",
      "                                            keywords original_language  \\\n",
      "0  [{\"id\": 1463, \"name\": \"culture clash\"}, {\"id\":...                en   \n",
      "1  [{\"id\": 270, \"name\": \"ocean\"}, {\"id\": 726, \"na...                en   \n",
      "2  [{\"id\": 470, \"name\": \"spy\"}, {\"id\": 818, \"name...                en   \n",
      "3  [{\"id\": 849, \"name\": \"dc comics\"}, {\"id\": 853,...                en   \n",
      "4  [{\"id\": 818, \"name\": \"based on novel\"}, {\"id\":...                en   \n",
      "\n",
      "                             original_title  \\\n",
      "0                                    Avatar   \n",
      "1  Pirates of the Caribbean: At World's End   \n",
      "2                                   Spectre   \n",
      "3                     The Dark Knight Rises   \n",
      "4                               John Carter   \n",
      "\n",
      "                                            overview  popularity  \\\n",
      "0  In the 22nd century, a paraplegic Marine is di...  150.437577   \n",
      "1  Captain Barbossa, long believed to be dead, ha...  139.082615   \n",
      "2  A cryptic message from Bond’s past sends him o...  107.376788   \n",
      "3  Following the death of District Attorney Harve...  112.312950   \n",
      "4  John Carter is a war-weary, former military ca...   43.926995   \n",
      "\n",
      "                                production_companies  \\\n",
      "0  [{\"name\": \"Ingenious Film Partners\", \"id\": 289...   \n",
      "1  [{\"name\": \"Walt Disney Pictures\", \"id\": 2}, {\"...   \n",
      "2  [{\"name\": \"Columbia Pictures\", \"id\": 5}, {\"nam...   \n",
      "3  [{\"name\": \"Legendary Pictures\", \"id\": 923}, {\"...   \n",
      "4        [{\"name\": \"Walt Disney Pictures\", \"id\": 2}]   \n",
      "\n",
      "                                production_countries release_date     revenue  \\\n",
      "0  [{\"iso_3166_1\": \"US\", \"name\": \"United States o...   2009-12-10  2787965087   \n",
      "1  [{\"iso_3166_1\": \"US\", \"name\": \"United States o...   2007-05-19   961000000   \n",
      "2  [{\"iso_3166_1\": \"GB\", \"name\": \"United Kingdom\"...   2015-10-26   880674609   \n",
      "3  [{\"iso_3166_1\": \"US\", \"name\": \"United States o...   2012-07-16  1084939099   \n",
      "4  [{\"iso_3166_1\": \"US\", \"name\": \"United States o...   2012-03-07   284139100   \n",
      "\n",
      "   runtime                                   spoken_languages    status  \\\n",
      "0    162.0  [{\"iso_639_1\": \"en\", \"name\": \"English\"}, {\"iso...  Released   \n",
      "1    169.0           [{\"iso_639_1\": \"en\", \"name\": \"English\"}]  Released   \n",
      "2    148.0  [{\"iso_639_1\": \"fr\", \"name\": \"Fran\\u00e7ais\"},...  Released   \n",
      "3    165.0           [{\"iso_639_1\": \"en\", \"name\": \"English\"}]  Released   \n",
      "4    132.0           [{\"iso_639_1\": \"en\", \"name\": \"English\"}]  Released   \n",
      "\n",
      "                                          tagline  \\\n",
      "0                     Enter the World of Pandora.   \n",
      "1  At the end of the world, the adventure begins.   \n",
      "2                           A Plan No One Escapes   \n",
      "3                                 The Legend Ends   \n",
      "4            Lost in our world, found in another.   \n",
      "\n",
      "                                      title  vote_average  vote_count  \n",
      "0                                    Avatar           7.2       11800  \n",
      "1  Pirates of the Caribbean: At World's End           6.9        4500  \n",
      "2                                   Spectre           6.3        4466  \n",
      "3                     The Dark Knight Rises           7.6        9106  \n",
      "4                               John Carter           6.1        2124  \n",
      "             budget             id   popularity       revenue      runtime  \\\n",
      "count  4.803000e+03    4803.000000  4803.000000  4.803000e+03  4801.000000   \n",
      "mean   2.904504e+07   57165.484281    21.492301  8.226064e+07   106.875859   \n",
      "std    4.072239e+07   88694.614033    31.816650  1.628571e+08    22.611935   \n",
      "min    0.000000e+00       5.000000     0.000000  0.000000e+00     0.000000   \n",
      "25%    7.900000e+05    9014.500000     4.668070  0.000000e+00    94.000000   \n",
      "50%    1.500000e+07   14629.000000    12.921594  1.917000e+07   103.000000   \n",
      "75%    4.000000e+07   58610.500000    28.313505  9.291719e+07   118.000000   \n",
      "max    3.800000e+08  459488.000000   875.581305  2.787965e+09   338.000000   \n",
      "\n",
      "       vote_average    vote_count  \n",
      "count   4803.000000   4803.000000  \n",
      "mean       6.092172    690.217989  \n",
      "std        1.194612   1234.585891  \n",
      "min        0.000000      0.000000  \n",
      "25%        5.600000     54.000000  \n",
      "50%        6.200000    235.000000  \n",
      "75%        6.800000    737.000000  \n",
      "max       10.000000  13752.000000  \n",
      "budget                     0\n",
      "genres                     0\n",
      "homepage                3091\n",
      "id                         0\n",
      "keywords                   0\n",
      "original_language          0\n",
      "original_title             0\n",
      "overview                   3\n",
      "popularity                 0\n",
      "production_companies       0\n",
      "production_countries       0\n",
      "release_date               1\n",
      "revenue                    0\n",
      "runtime                    2\n",
      "spoken_languages           0\n",
      "status                     0\n",
      "tagline                  844\n",
      "title                      0\n",
      "vote_average               0\n",
      "vote_count                 0\n",
      "dtype: int64\n"
     ]
    }
   ],
   "source": [
    "import pandas as pd\n",
    "import zipfile\n",
    "\n",
    "zip_file = 'archive.zip'\n",
    "\n",
    "file_to_read = 'tmdb_5000_movies.csv'\n",
    "\n",
    "try:\n",
    "    with zipfile.ZipFile(zip_file) as z:\n",
    "        if file_to_read in z.namelist():\n",
    "            with z.open(file_to_read) as f:\n",
    "                reader_tmdb = pd.read_csv(f)\n",
    "                print(\"Successfully loaded the CSV file from ZIP.\")\n",
    "        else:\n",
    "            print(f\"File '{file_to_read}' not found in the ZIP.\")\n",
    "except Exception as e:\n",
    "    print(f\"An error occurred: {str(e)}\")\n",
    "\n",
    "print(reader_tmdb.head())\n",
    "\n",
    "print(reader_tmdb.describe())\n",
    "\n",
    "print(reader_tmdb.isna().sum())\n"
   ]
  },
  {
   "cell_type": "markdown",
   "metadata": {},
   "source": [
    "# Assuming 'reader' contains your DataFrame\n",
    "\n",
    "# from tmdb_5000_movies.csv\n",
    "\n",
    "# Print the first two rows of the dataset"
   ]
  },
  {
   "cell_type": "code",
   "execution_count": 17,
   "metadata": {},
   "outputs": [
    {
     "name": "stdout",
     "output_type": "stream",
     "text": [
      "      budget                                             genres  \\\n",
      "0  237000000  [{\"id\": 28, \"name\": \"Action\"}, {\"id\": 12, \"nam...   \n",
      "1  300000000  [{\"id\": 12, \"name\": \"Adventure\"}, {\"id\": 14, \"...   \n",
      "\n",
      "                                       homepage     id  \\\n",
      "0                   http://www.avatarmovie.com/  19995   \n",
      "1  http://disney.go.com/disneypictures/pirates/    285   \n",
      "\n",
      "                                            keywords original_language  \\\n",
      "0  [{\"id\": 1463, \"name\": \"culture clash\"}, {\"id\":...                en   \n",
      "1  [{\"id\": 270, \"name\": \"ocean\"}, {\"id\": 726, \"na...                en   \n",
      "\n",
      "                             original_title  \\\n",
      "0                                    Avatar   \n",
      "1  Pirates of the Caribbean: At World's End   \n",
      "\n",
      "                                            overview  popularity  \\\n",
      "0  In the 22nd century, a paraplegic Marine is di...  150.437577   \n",
      "1  Captain Barbossa, long believed to be dead, ha...  139.082615   \n",
      "\n",
      "                                production_companies  \\\n",
      "0  [{\"name\": \"Ingenious Film Partners\", \"id\": 289...   \n",
      "1  [{\"name\": \"Walt Disney Pictures\", \"id\": 2}, {\"...   \n",
      "\n",
      "                                production_countries release_date     revenue  \\\n",
      "0  [{\"iso_3166_1\": \"US\", \"name\": \"United States o...   2009-12-10  2787965087   \n",
      "1  [{\"iso_3166_1\": \"US\", \"name\": \"United States o...   2007-05-19   961000000   \n",
      "\n",
      "   runtime                                   spoken_languages    status  \\\n",
      "0    162.0  [{\"iso_639_1\": \"en\", \"name\": \"English\"}, {\"iso...  Released   \n",
      "1    169.0           [{\"iso_639_1\": \"en\", \"name\": \"English\"}]  Released   \n",
      "\n",
      "                                          tagline  \\\n",
      "0                     Enter the World of Pandora.   \n",
      "1  At the end of the world, the adventure begins.   \n",
      "\n",
      "                                      title  vote_average  vote_count  \n",
      "0                                    Avatar           7.2       11800  \n",
      "1  Pirates of the Caribbean: At World's End           6.9        4500  \n"
     ]
    }
   ],
   "source": [
    "print(reader.head(2))"
   ]
  },
  {
   "cell_type": "markdown",
   "metadata": {},
   "source": [
    "# print concise summery of the dataset\n",
    "\n",
    "# Load the dataset\n",
    "\n",
    "# Display a concise summary of the dataset"
   ]
  },
  {
   "cell_type": "code",
   "execution_count": 23,
   "metadata": {},
   "outputs": [
    {
     "name": "stdout",
     "output_type": "stream",
     "text": [
      "Movies Data Summary:\n",
      "              budget                         genres  \\\n",
      "count   4.803000e+03                           4803   \n",
      "unique           NaN                           1175   \n",
      "top              NaN  [{\"id\": 18, \"name\": \"Drama\"}]   \n",
      "freq             NaN                            370   \n",
      "mean    2.904504e+07                            NaN   \n",
      "std     4.072239e+07                            NaN   \n",
      "min     0.000000e+00                            NaN   \n",
      "25%     7.900000e+05                            NaN   \n",
      "50%     1.500000e+07                            NaN   \n",
      "75%     4.000000e+07                            NaN   \n",
      "max     3.800000e+08                            NaN   \n",
      "\n",
      "                                 homepage             id keywords  \\\n",
      "count                                1712    4803.000000     4803   \n",
      "unique                               1691            NaN     4222   \n",
      "top     http://www.missionimpossible.com/            NaN       []   \n",
      "freq                                    4            NaN      412   \n",
      "mean                                  NaN   57165.484281      NaN   \n",
      "std                                   NaN   88694.614033      NaN   \n",
      "min                                   NaN       5.000000      NaN   \n",
      "25%                                   NaN    9014.500000      NaN   \n",
      "50%                                   NaN   14629.000000      NaN   \n",
      "75%                                   NaN   58610.500000      NaN   \n",
      "max                                   NaN  459488.000000      NaN   \n",
      "\n",
      "       original_language original_title  \\\n",
      "count               4803           4803   \n",
      "unique                37           4801   \n",
      "top                   en         Batman   \n",
      "freq                4505              2   \n",
      "mean                 NaN            NaN   \n",
      "std                  NaN            NaN   \n",
      "min                  NaN            NaN   \n",
      "25%                  NaN            NaN   \n",
      "50%                  NaN            NaN   \n",
      "75%                  NaN            NaN   \n",
      "max                  NaN            NaN   \n",
      "\n",
      "                                                 overview   popularity  \\\n",
      "count                                                4800  4803.000000   \n",
      "unique                                               4800          NaN   \n",
      "top     'Breaking Upwards' explores a young, real-life...          NaN   \n",
      "freq                                                    1          NaN   \n",
      "mean                                                  NaN    21.492301   \n",
      "std                                                   NaN    31.816650   \n",
      "min                                                   NaN     0.000000   \n",
      "25%                                                   NaN     4.668070   \n",
      "50%                                                   NaN    12.921594   \n",
      "75%                                                   NaN    28.313505   \n",
      "max                                                   NaN   875.581305   \n",
      "\n",
      "       production_companies  \\\n",
      "count                  4803   \n",
      "unique                 3697   \n",
      "top                      []   \n",
      "freq                    351   \n",
      "mean                    NaN   \n",
      "std                     NaN   \n",
      "min                     NaN   \n",
      "25%                     NaN   \n",
      "50%                     NaN   \n",
      "75%                     NaN   \n",
      "max                     NaN   \n",
      "\n",
      "                                     production_countries release_date  \\\n",
      "count                                                4803         4802   \n",
      "unique                                                469         3280   \n",
      "top     [{\"iso_3166_1\": \"US\", \"name\": \"United States o...   2006-01-01   \n",
      "freq                                                 2977           10   \n",
      "mean                                                  NaN          NaN   \n",
      "std                                                   NaN          NaN   \n",
      "min                                                   NaN          NaN   \n",
      "25%                                                   NaN          NaN   \n",
      "50%                                                   NaN          NaN   \n",
      "75%                                                   NaN          NaN   \n",
      "max                                                   NaN          NaN   \n",
      "\n",
      "             revenue      runtime                          spoken_languages  \\\n",
      "count   4.803000e+03  4801.000000                                      4803   \n",
      "unique           NaN          NaN                                       544   \n",
      "top              NaN          NaN  [{\"iso_639_1\": \"en\", \"name\": \"English\"}]   \n",
      "freq             NaN          NaN                                      3171   \n",
      "mean    8.226064e+07   106.875859                                       NaN   \n",
      "std     1.628571e+08    22.611935                                       NaN   \n",
      "min     0.000000e+00     0.000000                                       NaN   \n",
      "25%     0.000000e+00    94.000000                                       NaN   \n",
      "50%     1.917000e+07   103.000000                                       NaN   \n",
      "75%     9.291719e+07   118.000000                                       NaN   \n",
      "max     2.787965e+09   338.000000                                       NaN   \n",
      "\n",
      "          status                 tagline     title  vote_average    vote_count  \n",
      "count       4803                    3959      4803   4803.000000   4803.000000  \n",
      "unique         3                    3944      4800           NaN           NaN  \n",
      "top     Released  Based on a true story.  The Host           NaN           NaN  \n",
      "freq        4795                       3         2           NaN           NaN  \n",
      "mean         NaN                     NaN       NaN      6.092172    690.217989  \n",
      "std          NaN                     NaN       NaN      1.194612   1234.585891  \n",
      "min          NaN                     NaN       NaN      0.000000      0.000000  \n",
      "25%          NaN                     NaN       NaN      5.600000     54.000000  \n",
      "50%          NaN                     NaN       NaN      6.200000    235.000000  \n",
      "75%          NaN                     NaN       NaN      6.800000    737.000000  \n",
      "max          NaN                     NaN       NaN     10.000000  13752.000000  \n"
     ]
    }
   ],
   "source": [
    "import pandas as pd\n",
    "\n",
    "movies_file_path = 'tmdb_5000_movies.csv'\n",
    "movies_data = pd.read_csv(movies_file_path)\n",
    "\n",
    "print(\"Movies Data Summary:\")\n",
    "print(movies_data.describe(include='all'))\n"
   ]
  },
  {
   "cell_type": "markdown",
   "metadata": {},
   "source": [
    "# Assuming 'reader' contains your DataFrame\n",
    "\n",
    "# from tmdb_5000_movies.csv\n",
    "\n",
    "# Print the last two rows of the dataset"
   ]
  },
  {
   "cell_type": "code",
   "execution_count": 19,
   "metadata": {},
   "outputs": [
    {
     "name": "stdout",
     "output_type": "stream",
     "text": [
      "      budget                               genres  \\\n",
      "4801       0                                   []   \n",
      "4802       0  [{\"id\": 99, \"name\": \"Documentary\"}]   \n",
      "\n",
      "                         homepage      id  \\\n",
      "4801  http://shanghaicalling.com/  126186   \n",
      "4802                          NaN   25975   \n",
      "\n",
      "                                               keywords original_language  \\\n",
      "4801                                                 []                en   \n",
      "4802  [{\"id\": 1523, \"name\": \"obsession\"}, {\"id\": 224...                en   \n",
      "\n",
      "         original_title                                           overview  \\\n",
      "4801   Shanghai Calling  When ambitious New York attorney Sam is sent t...   \n",
      "4802  My Date with Drew  Ever since the second grade when he first saw ...   \n",
      "\n",
      "      popularity                               production_companies  \\\n",
      "4801    0.857008                                                 []   \n",
      "4802    1.929883  [{\"name\": \"rusty bear entertainment\", \"id\": 87...   \n",
      "\n",
      "                                   production_countries release_date  revenue  \\\n",
      "4801  [{\"iso_3166_1\": \"US\", \"name\": \"United States o...   2012-05-03        0   \n",
      "4802  [{\"iso_3166_1\": \"US\", \"name\": \"United States o...   2005-08-05        0   \n",
      "\n",
      "      runtime                          spoken_languages    status  \\\n",
      "4801     98.0  [{\"iso_639_1\": \"en\", \"name\": \"English\"}]  Released   \n",
      "4802     90.0  [{\"iso_639_1\": \"en\", \"name\": \"English\"}]  Released   \n",
      "\n",
      "                       tagline              title  vote_average  vote_count  \n",
      "4801  A New Yorker in Shanghai   Shanghai Calling           5.7           7  \n",
      "4802                       NaN  My Date with Drew           6.3          16  \n"
     ]
    }
   ],
   "source": [
    "print(reader.tail(2))"
   ]
  },
  {
   "cell_type": "markdown",
   "metadata": {},
   "source": [
    "# since the dataset contain null values also \n",
    "\n",
    "# count total rows in each column which contain null values"
   ]
  },
  {
   "cell_type": "code",
   "execution_count": 21,
   "metadata": {},
   "outputs": [
    {
     "data": {
      "text/plain": [
       "budget                     0\n",
       "genres                     0\n",
       "homepage                3091\n",
       "id                         0\n",
       "keywords                   0\n",
       "original_language          0\n",
       "original_title             0\n",
       "overview                   3\n",
       "popularity                 0\n",
       "production_companies       0\n",
       "production_countries       0\n",
       "release_date               1\n",
       "revenue                    0\n",
       "runtime                    2\n",
       "spoken_languages           0\n",
       "status                     0\n",
       "tagline                  844\n",
       "title                      0\n",
       "vote_average               0\n",
       "vote_count                 0\n",
       "dtype: int64"
      ]
     },
     "execution_count": 21,
     "metadata": {},
     "output_type": "execute_result"
    }
   ],
   "source": [
    "reader.isna().sum()"
   ]
  },
  {
   "cell_type": "markdown",
   "metadata": {
    "id": "hoUjq1tPzz7P"
   },
   "source": [
    "# Dataset 2\n",
    "\n",
    "Type: CSV File\n",
    "\n",
    "Method: The data was gathered using web scraping from IMDb.\n",
    "\n",
    "Dataset variables:\n",
    "\n",
    "# Variable 1: crew_id\n",
    "\n",
    "This variable is useful for tracking and distinguishing between different crew members across various projects.\n",
    "Type: Numeric or string (depends on the dataset's format).\n",
    "    \n",
    "The crew_id uniquely identifies each crew member, allowing for precise tracking and management of individual contributions across multiple films.\n",
    "    \n",
    "Analyzing crew_id helps in linking crew members to specific roles and projects,\n",
    "\n",
    "which is crucial for understanding their impact and involvement in the film industry.\n",
    "\n",
    "\n",
    "# Variable 2: job\n",
    "\n",
    "Significance: Describes the role or position of the crew member in the movie, such as \"Director,\" \"Producer,\" \"Writer,\" etc.\n",
    "\n",
    "This variable is important for understanding the distribution of different roles within the film industry and analyzing how various roles contribute to movie production.\n",
    "\n",
    "The job variable provides insights into the various roles and responsibilities within a film crew, enabling an analysis of how different positions contribute to film production.\n",
    "\n",
    "Examining the distribution of job roles helps in understanding industry trends and the prevalence of specific job titles, which can inform staffing decisions and industry research."
   ]
  },
  {
   "cell_type": "markdown",
   "metadata": {},
   "source": [
    "# Load the dataset\n",
    "\n",
    "# Display a concise summary of the dataset"
   ]
  },
  {
   "cell_type": "code",
   "execution_count": 22,
   "metadata": {
    "scrolled": true
   },
   "outputs": [
    {
     "name": "stdout",
     "output_type": "stream",
     "text": [
      "Credits Data Summary:\n",
      "             movie_id     title  cast  crew\n",
      "count     4803.000000      4803  4803  4803\n",
      "unique            NaN      4800  4761  4776\n",
      "top               NaN  The Host    []    []\n",
      "freq              NaN         2    43    28\n",
      "mean     57165.484281       NaN   NaN   NaN\n",
      "std      88694.614033       NaN   NaN   NaN\n",
      "min          5.000000       NaN   NaN   NaN\n",
      "25%       9014.500000       NaN   NaN   NaN\n",
      "50%      14629.000000       NaN   NaN   NaN\n",
      "75%      58610.500000       NaN   NaN   NaN\n",
      "max     459488.000000       NaN   NaN   NaN\n"
     ]
    }
   ],
   "source": [
    "import pandas as pd\n",
    "\n",
    "# Load the dataset\n",
    "credits_file_path = 'tmdb_5000_credits.csv'\n",
    "credits_data = pd.read_csv(credits_file_path)\n",
    "\n",
    "# Display a concise summary of the dataset\n",
    "print(\"Credits Data Summary:\")\n",
    "print(credits_data.describe(include='all'))\n"
   ]
  },
  {
   "cell_type": "markdown",
   "metadata": {},
   "source": [
    "# Path to the ZIP file\n",
    "\n",
    "# Name of the CSV file inside the ZIP archive\n",
    "\n",
    "# Open the ZIP file\n",
    "\n",
    "# Check if the CSV file exists in the ZIP archive\n",
    "\n",
    "# Open and read the CSV file inside the ZIP\n",
    "\n",
    "# archive\n",
    "\n",
    "# Display first few rows\n",
    "\n",
    "# Display dataset summary statistics\n",
    "\n",
    "# Check for null values in each column"
   ]
  },
  {
   "cell_type": "code",
   "execution_count": 25,
   "metadata": {
    "id": "6zT0QxRyYmm7"
   },
   "outputs": [
    {
     "name": "stdout",
     "output_type": "stream",
     "text": [
      "Successfully loaded the CSV file from ZIP.\n",
      "   movie_id                                     title  \\\n",
      "0     19995                                    Avatar   \n",
      "1       285  Pirates of the Caribbean: At World's End   \n",
      "2    206647                                   Spectre   \n",
      "3     49026                     The Dark Knight Rises   \n",
      "4     49529                               John Carter   \n",
      "\n",
      "                                                cast  \\\n",
      "0  [{\"cast_id\": 242, \"character\": \"Jake Sully\", \"...   \n",
      "1  [{\"cast_id\": 4, \"character\": \"Captain Jack Spa...   \n",
      "2  [{\"cast_id\": 1, \"character\": \"James Bond\", \"cr...   \n",
      "3  [{\"cast_id\": 2, \"character\": \"Bruce Wayne / Ba...   \n",
      "4  [{\"cast_id\": 5, \"character\": \"John Carter\", \"c...   \n",
      "\n",
      "                                                crew  \n",
      "0  [{\"credit_id\": \"52fe48009251416c750aca23\", \"de...  \n",
      "1  [{\"credit_id\": \"52fe4232c3a36847f800b579\", \"de...  \n",
      "2  [{\"credit_id\": \"54805967c3a36829b5002c41\", \"de...  \n",
      "3  [{\"credit_id\": \"52fe4781c3a36847f81398c3\", \"de...  \n",
      "4  [{\"credit_id\": \"52fe479ac3a36847f813eaa3\", \"de...  \n",
      "            movie_id\n",
      "count    4803.000000\n",
      "mean    57165.484281\n",
      "std     88694.614033\n",
      "min         5.000000\n",
      "25%      9014.500000\n",
      "50%     14629.000000\n",
      "75%     58610.500000\n",
      "max    459488.000000\n",
      "movie_id    0\n",
      "title       0\n",
      "cast        0\n",
      "crew        0\n",
      "dtype: int64\n"
     ]
    }
   ],
   "source": [
    "import pandas as pd\n",
    "import zipfile\n",
    "\n",
    "zip_file = 'archive.zip'\n",
    "\n",
    "file_to_read = 'tmdb_5000_credits.csv'\n",
    "\n",
    "try:\n",
    "    with zipfile.ZipFile(zip_file) as z:\n",
    "        if file_to_read in z.namelist():\n",
    "            with z.open(file_to_read) as f:\n",
    "                reader_tmdb = pd.read_csv(f)\n",
    "                print(\"Successfully loaded the CSV file from ZIP.\")\n",
    "        else:\n",
    "            print(f\"File '{file_to_read}' not found in the ZIP.\")\n",
    "except Exception as e:\n",
    "    print(f\"An error occurred: {str(e)}\")\n",
    "\n",
    "print(reader_tmdb.head())\n",
    "\n",
    "print(reader_tmdb.describe())\n",
    "\n",
    "print(reader_tmdb.isna().sum())\n"
   ]
  },
  {
   "cell_type": "markdown",
   "metadata": {
    "id": "QwSWIVmotLgV"
   },
   "source": [
    "## 2. Assess data\n",
    "\n",
    "Assess the data according to data quality and tidiness metrics using the report below.\n",
    "\n",
    "List **two** data quality issues and **two** tidiness issues. Assess each data issue visually **and** programmatically, then briefly describe the issue you find.  **Make sure you include justifications for the methods you use for the assessment.**"
   ]
  },
  {
   "cell_type": "markdown",
   "metadata": {},
   "source": [
    "# Load the data\n",
    "\n",
    "# Display the first few rows of the 'cast' and 'crew' columns"
   ]
  },
  {
   "cell_type": "code",
   "execution_count": 20,
   "metadata": {},
   "outputs": [
    {
     "name": "stdout",
     "output_type": "stream",
     "text": [
      "First few rows of 'cast' column:\n",
      "0    [{\"cast_id\": 242, \"character\": \"Jake Sully\", \"...\n",
      "1    [{\"cast_id\": 4, \"character\": \"Captain Jack Spa...\n",
      "2    [{\"cast_id\": 1, \"character\": \"James Bond\", \"cr...\n",
      "3    [{\"cast_id\": 2, \"character\": \"Bruce Wayne / Ba...\n",
      "4    [{\"cast_id\": 5, \"character\": \"John Carter\", \"c...\n",
      "Name: cast, dtype: object\n",
      "\n",
      "First few rows of 'crew' column:\n",
      "0    [{\"credit_id\": \"52fe48009251416c750aca23\", \"de...\n",
      "1    [{\"credit_id\": \"52fe4232c3a36847f800b579\", \"de...\n",
      "2    [{\"credit_id\": \"54805967c3a36829b5002c41\", \"de...\n",
      "3    [{\"credit_id\": \"52fe4781c3a36847f81398c3\", \"de...\n",
      "4    [{\"credit_id\": \"52fe479ac3a36847f813eaa3\", \"de...\n",
      "Name: crew, dtype: object\n"
     ]
    }
   ],
   "source": [
    "import pandas as pd\n",
    "\n",
    "# Load the data\n",
    "credits_data = pd.read_csv('tmdb_5000_credits.csv')\n",
    "\n",
    "# Display the first few rows of the 'cast' and 'crew' columns\n",
    "print(\"First few rows of 'cast' column:\")\n",
    "print(credits_data['cast'].head())\n",
    "\n",
    "print(\"\\nFirst few rows of 'crew' column:\")\n",
    "print(credits_data['crew'].head())\n"
   ]
  },
  {
   "cell_type": "markdown",
   "metadata": {},
   "source": [
    "# Load datasets\n",
    "\n",
    "# Display basic information"
   ]
  },
  {
   "cell_type": "code",
   "execution_count": 26,
   "metadata": {},
   "outputs": [
    {
     "name": "stdout",
     "output_type": "stream",
     "text": [
      "Credits Data Info:\n",
      "<class 'pandas.core.frame.DataFrame'>\n",
      "RangeIndex: 4803 entries, 0 to 4802\n",
      "Data columns (total 4 columns):\n",
      " #   Column    Non-Null Count  Dtype \n",
      "---  ------    --------------  ----- \n",
      " 0   movie_id  4803 non-null   int64 \n",
      " 1   title     4803 non-null   object\n",
      " 2   cast      4803 non-null   object\n",
      " 3   crew      4803 non-null   object\n",
      "dtypes: int64(1), object(3)\n",
      "memory usage: 150.2+ KB\n",
      "None\n",
      "   movie_id                                     title  \\\n",
      "0     19995                                    Avatar   \n",
      "1       285  Pirates of the Caribbean: At World's End   \n",
      "2    206647                                   Spectre   \n",
      "3     49026                     The Dark Knight Rises   \n",
      "4     49529                               John Carter   \n",
      "\n",
      "                                                cast  \\\n",
      "0  [{\"cast_id\": 242, \"character\": \"Jake Sully\", \"...   \n",
      "1  [{\"cast_id\": 4, \"character\": \"Captain Jack Spa...   \n",
      "2  [{\"cast_id\": 1, \"character\": \"James Bond\", \"cr...   \n",
      "3  [{\"cast_id\": 2, \"character\": \"Bruce Wayne / Ba...   \n",
      "4  [{\"cast_id\": 5, \"character\": \"John Carter\", \"c...   \n",
      "\n",
      "                                                crew  \n",
      "0  [{\"credit_id\": \"52fe48009251416c750aca23\", \"de...  \n",
      "1  [{\"credit_id\": \"52fe4232c3a36847f800b579\", \"de...  \n",
      "2  [{\"credit_id\": \"54805967c3a36829b5002c41\", \"de...  \n",
      "3  [{\"credit_id\": \"52fe4781c3a36847f81398c3\", \"de...  \n",
      "4  [{\"credit_id\": \"52fe479ac3a36847f813eaa3\", \"de...  \n",
      "\n",
      "Movies Data Info:\n",
      "<class 'pandas.core.frame.DataFrame'>\n",
      "RangeIndex: 4803 entries, 0 to 4802\n",
      "Data columns (total 20 columns):\n",
      " #   Column                Non-Null Count  Dtype  \n",
      "---  ------                --------------  -----  \n",
      " 0   budget                4803 non-null   int64  \n",
      " 1   genres                4803 non-null   object \n",
      " 2   homepage              1712 non-null   object \n",
      " 3   id                    4803 non-null   int64  \n",
      " 4   keywords              4803 non-null   object \n",
      " 5   original_language     4803 non-null   object \n",
      " 6   original_title        4803 non-null   object \n",
      " 7   overview              4800 non-null   object \n",
      " 8   popularity            4803 non-null   float64\n",
      " 9   production_companies  4803 non-null   object \n",
      " 10  production_countries  4803 non-null   object \n",
      " 11  release_date          4802 non-null   object \n",
      " 12  revenue               4803 non-null   int64  \n",
      " 13  runtime               4801 non-null   float64\n",
      " 14  spoken_languages      4803 non-null   object \n",
      " 15  status                4803 non-null   object \n",
      " 16  tagline               3959 non-null   object \n",
      " 17  title                 4803 non-null   object \n",
      " 18  vote_average          4803 non-null   float64\n",
      " 19  vote_count            4803 non-null   int64  \n",
      "dtypes: float64(3), int64(4), object(13)\n",
      "memory usage: 750.6+ KB\n",
      "None\n",
      "      budget                                             genres  \\\n",
      "0  237000000  [{\"id\": 28, \"name\": \"Action\"}, {\"id\": 12, \"nam...   \n",
      "1  300000000  [{\"id\": 12, \"name\": \"Adventure\"}, {\"id\": 14, \"...   \n",
      "2  245000000  [{\"id\": 28, \"name\": \"Action\"}, {\"id\": 12, \"nam...   \n",
      "3  250000000  [{\"id\": 28, \"name\": \"Action\"}, {\"id\": 80, \"nam...   \n",
      "4  260000000  [{\"id\": 28, \"name\": \"Action\"}, {\"id\": 12, \"nam...   \n",
      "\n",
      "                                       homepage      id  \\\n",
      "0                   http://www.avatarmovie.com/   19995   \n",
      "1  http://disney.go.com/disneypictures/pirates/     285   \n",
      "2   http://www.sonypictures.com/movies/spectre/  206647   \n",
      "3            http://www.thedarkknightrises.com/   49026   \n",
      "4          http://movies.disney.com/john-carter   49529   \n",
      "\n",
      "                                            keywords original_language  \\\n",
      "0  [{\"id\": 1463, \"name\": \"culture clash\"}, {\"id\":...                en   \n",
      "1  [{\"id\": 270, \"name\": \"ocean\"}, {\"id\": 726, \"na...                en   \n",
      "2  [{\"id\": 470, \"name\": \"spy\"}, {\"id\": 818, \"name...                en   \n",
      "3  [{\"id\": 849, \"name\": \"dc comics\"}, {\"id\": 853,...                en   \n",
      "4  [{\"id\": 818, \"name\": \"based on novel\"}, {\"id\":...                en   \n",
      "\n",
      "                             original_title  \\\n",
      "0                                    Avatar   \n",
      "1  Pirates of the Caribbean: At World's End   \n",
      "2                                   Spectre   \n",
      "3                     The Dark Knight Rises   \n",
      "4                               John Carter   \n",
      "\n",
      "                                            overview  popularity  \\\n",
      "0  In the 22nd century, a paraplegic Marine is di...  150.437577   \n",
      "1  Captain Barbossa, long believed to be dead, ha...  139.082615   \n",
      "2  A cryptic message from Bond’s past sends him o...  107.376788   \n",
      "3  Following the death of District Attorney Harve...  112.312950   \n",
      "4  John Carter is a war-weary, former military ca...   43.926995   \n",
      "\n",
      "                                production_companies  \\\n",
      "0  [{\"name\": \"Ingenious Film Partners\", \"id\": 289...   \n",
      "1  [{\"name\": \"Walt Disney Pictures\", \"id\": 2}, {\"...   \n",
      "2  [{\"name\": \"Columbia Pictures\", \"id\": 5}, {\"nam...   \n",
      "3  [{\"name\": \"Legendary Pictures\", \"id\": 923}, {\"...   \n",
      "4        [{\"name\": \"Walt Disney Pictures\", \"id\": 2}]   \n",
      "\n",
      "                                production_countries release_date     revenue  \\\n",
      "0  [{\"iso_3166_1\": \"US\", \"name\": \"United States o...   2009-12-10  2787965087   \n",
      "1  [{\"iso_3166_1\": \"US\", \"name\": \"United States o...   2007-05-19   961000000   \n",
      "2  [{\"iso_3166_1\": \"GB\", \"name\": \"United Kingdom\"...   2015-10-26   880674609   \n",
      "3  [{\"iso_3166_1\": \"US\", \"name\": \"United States o...   2012-07-16  1084939099   \n",
      "4  [{\"iso_3166_1\": \"US\", \"name\": \"United States o...   2012-03-07   284139100   \n",
      "\n",
      "   runtime                                   spoken_languages    status  \\\n",
      "0    162.0  [{\"iso_639_1\": \"en\", \"name\": \"English\"}, {\"iso...  Released   \n",
      "1    169.0           [{\"iso_639_1\": \"en\", \"name\": \"English\"}]  Released   \n",
      "2    148.0  [{\"iso_639_1\": \"fr\", \"name\": \"Fran\\u00e7ais\"},...  Released   \n",
      "3    165.0           [{\"iso_639_1\": \"en\", \"name\": \"English\"}]  Released   \n",
      "4    132.0           [{\"iso_639_1\": \"en\", \"name\": \"English\"}]  Released   \n",
      "\n",
      "                                          tagline  \\\n",
      "0                     Enter the World of Pandora.   \n",
      "1  At the end of the world, the adventure begins.   \n",
      "2                           A Plan No One Escapes   \n",
      "3                                 The Legend Ends   \n",
      "4            Lost in our world, found in another.   \n",
      "\n",
      "                                      title  vote_average  vote_count  \n",
      "0                                    Avatar           7.2       11800  \n",
      "1  Pirates of the Caribbean: At World's End           6.9        4500  \n",
      "2                                   Spectre           6.3        4466  \n",
      "3                     The Dark Knight Rises           7.6        9106  \n",
      "4                               John Carter           6.1        2124  \n"
     ]
    }
   ],
   "source": [
    "import pandas as pd\n",
    "\n",
    "# Load datasets\n",
    "credits_file_path = 'tmdb_5000_credits.csv'\n",
    "movies_file_path = 'tmdb_5000_movies.csv'\n",
    "\n",
    "credits_data = pd.read_csv(credits_file_path)\n",
    "movies_data = pd.read_csv(movies_file_path)\n",
    "\n",
    "# Display basic information\n",
    "print(\"Credits Data Info:\")\n",
    "print(credits_data.info())\n",
    "print(credits_data.head())\n",
    "\n",
    "print(\"\\nMovies Data Info:\")\n",
    "print(movies_data.info())\n",
    "print(movies_data.head())\n"
   ]
  },
  {
   "cell_type": "markdown",
   "metadata": {
    "id": "SpW59kh-zl8d"
   },
   "source": [
    "# FILL IN - Inspecting the dataframe visually\n",
    "\n",
    "# Example code for visual inspection\n",
    "\n",
    "# Display the first few rows to visually inspect\n",
    "\n",
    "# the data"
   ]
  },
  {
   "cell_type": "code",
   "execution_count": 25,
   "metadata": {},
   "outputs": [
    {
     "name": "stdout",
     "output_type": "stream",
     "text": [
      "      budget                                             genres  \\\n",
      "0  237000000  [{\"id\": 28, \"name\": \"Action\"}, {\"id\": 12, \"nam...   \n",
      "1  300000000  [{\"id\": 12, \"name\": \"Adventure\"}, {\"id\": 14, \"...   \n",
      "2  245000000  [{\"id\": 28, \"name\": \"Action\"}, {\"id\": 12, \"nam...   \n",
      "3  250000000  [{\"id\": 28, \"name\": \"Action\"}, {\"id\": 80, \"nam...   \n",
      "4  260000000  [{\"id\": 28, \"name\": \"Action\"}, {\"id\": 12, \"nam...   \n",
      "\n",
      "                                       homepage      id  \\\n",
      "0                   http://www.avatarmovie.com/   19995   \n",
      "1  http://disney.go.com/disneypictures/pirates/     285   \n",
      "2   http://www.sonypictures.com/movies/spectre/  206647   \n",
      "3            http://www.thedarkknightrises.com/   49026   \n",
      "4          http://movies.disney.com/john-carter   49529   \n",
      "\n",
      "                                            keywords original_language  \\\n",
      "0  [{\"id\": 1463, \"name\": \"culture clash\"}, {\"id\":...                en   \n",
      "1  [{\"id\": 270, \"name\": \"ocean\"}, {\"id\": 726, \"na...                en   \n",
      "2  [{\"id\": 470, \"name\": \"spy\"}, {\"id\": 818, \"name...                en   \n",
      "3  [{\"id\": 849, \"name\": \"dc comics\"}, {\"id\": 853,...                en   \n",
      "4  [{\"id\": 818, \"name\": \"based on novel\"}, {\"id\":...                en   \n",
      "\n",
      "                             original_title  \\\n",
      "0                                    Avatar   \n",
      "1  Pirates of the Caribbean: At World's End   \n",
      "2                                   Spectre   \n",
      "3                     The Dark Knight Rises   \n",
      "4                               John Carter   \n",
      "\n",
      "                                            overview  popularity  \\\n",
      "0  In the 22nd century, a paraplegic Marine is di...  150.437577   \n",
      "1  Captain Barbossa, long believed to be dead, ha...  139.082615   \n",
      "2  A cryptic message from Bond’s past sends him o...  107.376788   \n",
      "3  Following the death of District Attorney Harve...  112.312950   \n",
      "4  John Carter is a war-weary, former military ca...   43.926995   \n",
      "\n",
      "                                production_companies  \\\n",
      "0  [{\"name\": \"Ingenious Film Partners\", \"id\": 289...   \n",
      "1  [{\"name\": \"Walt Disney Pictures\", \"id\": 2}, {\"...   \n",
      "2  [{\"name\": \"Columbia Pictures\", \"id\": 5}, {\"nam...   \n",
      "3  [{\"name\": \"Legendary Pictures\", \"id\": 923}, {\"...   \n",
      "4        [{\"name\": \"Walt Disney Pictures\", \"id\": 2}]   \n",
      "\n",
      "                                production_countries release_date     revenue  \\\n",
      "0  [{\"iso_3166_1\": \"US\", \"name\": \"United States o...   2009-12-10  2787965087   \n",
      "1  [{\"iso_3166_1\": \"US\", \"name\": \"United States o...   2007-05-19   961000000   \n",
      "2  [{\"iso_3166_1\": \"GB\", \"name\": \"United Kingdom\"...   2015-10-26   880674609   \n",
      "3  [{\"iso_3166_1\": \"US\", \"name\": \"United States o...   2012-07-16  1084939099   \n",
      "4  [{\"iso_3166_1\": \"US\", \"name\": \"United States o...   2012-03-07   284139100   \n",
      "\n",
      "   runtime                                   spoken_languages    status  \\\n",
      "0    162.0  [{\"iso_639_1\": \"en\", \"name\": \"English\"}, {\"iso...  Released   \n",
      "1    169.0           [{\"iso_639_1\": \"en\", \"name\": \"English\"}]  Released   \n",
      "2    148.0  [{\"iso_639_1\": \"fr\", \"name\": \"Fran\\u00e7ais\"},...  Released   \n",
      "3    165.0           [{\"iso_639_1\": \"en\", \"name\": \"English\"}]  Released   \n",
      "4    132.0           [{\"iso_639_1\": \"en\", \"name\": \"English\"}]  Released   \n",
      "\n",
      "                                          tagline  \\\n",
      "0                     Enter the World of Pandora.   \n",
      "1  At the end of the world, the adventure begins.   \n",
      "2                           A Plan No One Escapes   \n",
      "3                                 The Legend Ends   \n",
      "4            Lost in our world, found in another.   \n",
      "\n",
      "                                      title  vote_average  vote_count  \n",
      "0                                    Avatar           7.2       11800  \n",
      "1  Pirates of the Caribbean: At World's End           6.9        4500  \n",
      "2                                   Spectre           6.3        4466  \n",
      "3                     The Dark Knight Rises           7.6        9106  \n",
      "4                               John Carter           6.1        2124  \n"
     ]
    }
   ],
   "source": [
    "print(reader.head())"
   ]
  },
  {
   "cell_type": "markdown",
   "metadata": {
    "id": "-qfcocStzsKg"
   },
   "source": [
    "# FILL IN - Inspecting the dataframe \n",
    "\n",
    "# programmatically\n",
    "\n",
    "# Example code for programmatic inspection\n",
    "\n",
    "# Check data types, non-null counts, and other \n",
    "\n",
    "# metadata"
   ]
  },
  {
   "cell_type": "code",
   "execution_count": 26,
   "metadata": {},
   "outputs": [
    {
     "name": "stdout",
     "output_type": "stream",
     "text": [
      "<class 'pandas.core.frame.DataFrame'>\n",
      "RangeIndex: 4803 entries, 0 to 4802\n",
      "Data columns (total 20 columns):\n",
      " #   Column                Non-Null Count  Dtype  \n",
      "---  ------                --------------  -----  \n",
      " 0   budget                4803 non-null   int64  \n",
      " 1   genres                4803 non-null   object \n",
      " 2   homepage              1712 non-null   object \n",
      " 3   id                    4803 non-null   int64  \n",
      " 4   keywords              4803 non-null   object \n",
      " 5   original_language     4803 non-null   object \n",
      " 6   original_title        4803 non-null   object \n",
      " 7   overview              4800 non-null   object \n",
      " 8   popularity            4803 non-null   float64\n",
      " 9   production_companies  4803 non-null   object \n",
      " 10  production_countries  4803 non-null   object \n",
      " 11  release_date          4802 non-null   object \n",
      " 12  revenue               4803 non-null   int64  \n",
      " 13  runtime               4801 non-null   float64\n",
      " 14  spoken_languages      4803 non-null   object \n",
      " 15  status                4803 non-null   object \n",
      " 16  tagline               3959 non-null   object \n",
      " 17  title                 4803 non-null   object \n",
      " 18  vote_average          4803 non-null   float64\n",
      " 19  vote_count            4803 non-null   int64  \n",
      "dtypes: float64(3), int64(4), object(13)\n",
      "memory usage: 750.6+ KB\n"
     ]
    }
   ],
   "source": [
    "reader.info()"
   ]
  },
  {
   "cell_type": "markdown",
   "metadata": {},
   "source": [
    "Issue and justification:\n",
    "\n",
    "The ValueError occurred due to overlapping column names between the original credits_data and the crew_normalized DataFrame.\n",
    "\n",
    "To resolve this, you need to use suffixes to distinguish between the columns with the same names before performing the join operation."
   ]
  },
  {
   "cell_type": "markdown",
   "metadata": {},
   "source": [
    "# Load data\n",
    "\n",
    "# Parse 'cast' and 'crew' columns\n",
    "\n",
    "# Normalize 'cast' data\n",
    "\n",
    "# Normalize 'crew' data"
   ]
  },
  {
   "cell_type": "code",
   "execution_count": 28,
   "metadata": {},
   "outputs": [
    {
     "name": "stdout",
     "output_type": "stream",
     "text": [
      "   movie_id                                     title  cast_id  \\\n",
      "0     19995                                    Avatar    242.0   \n",
      "1       285  Pirates of the Caribbean: At World's End      3.0   \n",
      "2    206647                                   Spectre     25.0   \n",
      "3     49026                     The Dark Knight Rises      4.0   \n",
      "4     49529                               John Carter      5.0   \n",
      "\n",
      "             character                 credit_id  gender       id  \\\n",
      "0           Jake Sully  5602a8a7c3a3685532001c9a     2.0  65731.0   \n",
      "1              Neytiri  52fe48009251416c750ac9cb     1.0   8691.0   \n",
      "2  Dr. Grace Augustine  52fe48009251416c750aca39     1.0  10205.0   \n",
      "3        Col. Quaritch  52fe48009251416c750ac9cf     2.0  32747.0   \n",
      "4         Trudy Chacon  52fe48009251416c750ac9d3     1.0  17647.0   \n",
      "\n",
      "                 name  order            credit_id_crew  department  \\\n",
      "0     Sam Worthington    0.0  52fe48009251416c750aca23     Editing   \n",
      "1         Zoe Saldana    1.0  539c47ecc3a36810e3001f87         Art   \n",
      "2    Sigourney Weaver    2.0  54491c89c3a3680fb4001cf7       Sound   \n",
      "3        Stephen Lang    3.0  54491cb70e0a267480001bd0       Sound   \n",
      "4  Michelle Rodriguez    4.0  539c4a4cc3a36810c9002101  Production   \n",
      "\n",
      "   gender_crew  id_crew                       job          name_crew  \n",
      "0          0.0   1721.0                    Editor  Stephen E. Rivkin  \n",
      "1          2.0    496.0         Production Design        Rick Carter  \n",
      "2          0.0    900.0            Sound Designer  Christopher Boyes  \n",
      "3          0.0    900.0  Supervising Sound Editor  Christopher Boyes  \n",
      "4          1.0   1262.0                   Casting          Mali Finn  \n"
     ]
    }
   ],
   "source": [
    "import pandas as pd\n",
    "import json\n",
    "\n",
    "credits_data = pd.read_csv('tmdb_5000_credits.csv')\n",
    "\n",
    "credits_data['cast'] = credits_data['cast'].apply(lambda x: json.loads(x))\n",
    "credits_data['crew'] = credits_data['crew'].apply(lambda x: json.loads(x))\n",
    "\n",
    "cast_normalized = pd.json_normalize(credits_data['cast'].explode())\n",
    "credits_data = credits_data.drop(columns='cast').join(cast_normalized, rsuffix='_cast')\n",
    "\n",
    "crew_normalized = pd.json_normalize(credits_data['crew'].explode())\n",
    "credits_data = credits_data.drop(columns='crew').join(crew_normalized, rsuffix='_crew')\n",
    "\n",
    "print(credits_data.head())\n"
   ]
  },
  {
   "cell_type": "markdown",
   "metadata": {},
   "source": [
    "# Load data\n",
    "\n",
    "# Parse 'cast' and 'crew' columns\n",
    "\n",
    "# Normalize 'cast' data\n",
    "\n",
    "# Drop the 'cast' column and join normalized cast data\n",
    "\n",
    "# Normalize 'crew' data\n",
    "\n",
    "# Drop the 'crew' column and join normalized crew data\n"
   ]
  },
  {
   "cell_type": "code",
   "execution_count": 29,
   "metadata": {},
   "outputs": [
    {
     "name": "stdout",
     "output_type": "stream",
     "text": [
      "   movie_id                                     title  cast_cast_id  \\\n",
      "0     19995                                    Avatar         242.0   \n",
      "1       285  Pirates of the Caribbean: At World's End           3.0   \n",
      "2    206647                                   Spectre          25.0   \n",
      "3     49026                     The Dark Knight Rises           4.0   \n",
      "4     49529                               John Carter           5.0   \n",
      "\n",
      "        cast_character            cast_credit_id  cast_gender  cast_id  \\\n",
      "0           Jake Sully  5602a8a7c3a3685532001c9a          2.0  65731.0   \n",
      "1              Neytiri  52fe48009251416c750ac9cb          1.0   8691.0   \n",
      "2  Dr. Grace Augustine  52fe48009251416c750aca39          1.0  10205.0   \n",
      "3        Col. Quaritch  52fe48009251416c750ac9cf          2.0  32747.0   \n",
      "4         Trudy Chacon  52fe48009251416c750ac9d3          1.0  17647.0   \n",
      "\n",
      "            cast_name  cast_order            crew_credit_id crew_department  \\\n",
      "0     Sam Worthington         0.0  52fe48009251416c750aca23         Editing   \n",
      "1         Zoe Saldana         1.0  539c47ecc3a36810e3001f87             Art   \n",
      "2    Sigourney Weaver         2.0  54491c89c3a3680fb4001cf7           Sound   \n",
      "3        Stephen Lang         3.0  54491cb70e0a267480001bd0           Sound   \n",
      "4  Michelle Rodriguez         4.0  539c4a4cc3a36810c9002101      Production   \n",
      "\n",
      "   crew_gender  crew_id                  crew_job          crew_name  \n",
      "0          0.0   1721.0                    Editor  Stephen E. Rivkin  \n",
      "1          2.0    496.0         Production Design        Rick Carter  \n",
      "2          0.0    900.0            Sound Designer  Christopher Boyes  \n",
      "3          0.0    900.0  Supervising Sound Editor  Christopher Boyes  \n",
      "4          1.0   1262.0                   Casting          Mali Finn  \n"
     ]
    }
   ],
   "source": [
    "import pandas as pd\n",
    "import json\n",
    "\n",
    "credits_data = pd.read_csv('tmdb_5000_credits.csv')\n",
    "\n",
    "credits_data['cast'] = credits_data['cast'].apply(lambda x: json.loads(x))\n",
    "credits_data['crew'] = credits_data['crew'].apply(lambda x: json.loads(x))\n",
    "\n",
    "cast_normalized = pd.json_normalize(credits_data['cast'].explode())\n",
    "cast_normalized.columns = [f\"cast_{col}\" for col in cast_normalized.columns]  # Rename columns\n",
    "\n",
    "credits_data = credits_data.drop(columns='cast').join(cast_normalized)\n",
    "\n",
    "crew_normalized = pd.json_normalize(credits_data['crew'].explode())\n",
    "crew_normalized.columns = [f\"crew_{col}\" for col in crew_normalized.columns]  # Rename columns\n",
    "\n",
    "credits_data = credits_data.drop(columns='crew').join(crew_normalized)\n",
    "\n",
    "print(credits_data.head())\n"
   ]
  },
  {
   "cell_type": "markdown",
   "metadata": {
    "id": "adaK2iPNzVu4"
   },
   "source": [
    "### Quality Issue 1:  \n",
    "T\n",
    "The ValueError occurred due to overlapping column names between the original credits_data DataFrame and the crew_normalized DataFrame, such as credit_id, gender, id, and name.\n",
    "\n",
    "Justification: Pandas requires unique column names in each DataFrame when performing operations like merging or joining. Since the column names overlap without specified suffixes, Pandas cannot distinguish between columns from the different DataFrames, resulting in an error."
   ]
  },
  {
   "cell_type": "markdown",
   "metadata": {
    "id": "8Be77N4I1AmE"
   },
   "source": [
    "### Quality Issue 2\n",
    "\n",
    "The dataset might contain missing values in critical columns such as 'budget', 'revenue', or 'runtime'. Missing values in these columns can impact the quality of your analysis, particularly if you need to perform calculations or generate statistics based on these fields.\n",
    "\n",
    "Justification: Missing values can lead to inaccurate analysis and results.\n",
    "\n",
    "For example, missing budget or revenue data can skew financial analyses or profitability calculations. Addressing this issue involves identifying missing values and deciding on an appropriate strategy for handling them, such as imputation, exclusion, or using default values."
   ]
  },
  {
   "cell_type": "markdown",
   "metadata": {},
   "source": [
    "# Load the dataset\n",
    "\n",
    "# Display the first few rows of the dataset to understand its structure\n",
    "\n",
    "# Display the column names to understand which columns are available"
   ]
  },
  {
   "cell_type": "code",
   "execution_count": 34,
   "metadata": {},
   "outputs": [
    {
     "name": "stdout",
     "output_type": "stream",
     "text": [
      "First few rows of the dataset:\n",
      "   movie_id                                     title  \\\n",
      "0     19995                                    Avatar   \n",
      "1       285  Pirates of the Caribbean: At World's End   \n",
      "2    206647                                   Spectre   \n",
      "3     49026                     The Dark Knight Rises   \n",
      "4     49529                               John Carter   \n",
      "\n",
      "                                                cast  \\\n",
      "0  [{\"cast_id\": 242, \"character\": \"Jake Sully\", \"...   \n",
      "1  [{\"cast_id\": 4, \"character\": \"Captain Jack Spa...   \n",
      "2  [{\"cast_id\": 1, \"character\": \"James Bond\", \"cr...   \n",
      "3  [{\"cast_id\": 2, \"character\": \"Bruce Wayne / Ba...   \n",
      "4  [{\"cast_id\": 5, \"character\": \"John Carter\", \"c...   \n",
      "\n",
      "                                                crew  \n",
      "0  [{\"credit_id\": \"52fe48009251416c750aca23\", \"de...  \n",
      "1  [{\"credit_id\": \"52fe4232c3a36847f800b579\", \"de...  \n",
      "2  [{\"credit_id\": \"54805967c3a36829b5002c41\", \"de...  \n",
      "3  [{\"credit_id\": \"52fe4781c3a36847f81398c3\", \"de...  \n",
      "4  [{\"credit_id\": \"52fe479ac3a36847f813eaa3\", \"de...  \n",
      "Column names in the dataset:\n",
      "Index(['movie_id', 'title', 'cast', 'crew'], dtype='object')\n"
     ]
    }
   ],
   "source": [
    "import pandas as pd\n",
    "\n",
    "movies_data = pd.read_csv('tmdb_5000_credits.csv')\n",
    "\n",
    "print(\"First few rows of the dataset:\")\n",
    "print(movies_data.head())\n",
    "\n",
    "print(\"Column names in the dataset:\")\n",
    "print(movies_data.columns)"
   ]
  },
  {
   "cell_type": "markdown",
   "metadata": {},
   "source": [
    "# Load datasets\n",
    "\n",
    "# Read the datasets\n",
    "\n",
    "# Display basic information and first few rows"
   ]
  },
  {
   "cell_type": "code",
   "execution_count": 1,
   "metadata": {
    "id": "iMhHyiyLM2I3",
    "scrolled": true
   },
   "outputs": [
    {
     "name": "stdout",
     "output_type": "stream",
     "text": [
      "Credits Data:\n",
      "<class 'pandas.core.frame.DataFrame'>\n",
      "RangeIndex: 4803 entries, 0 to 4802\n",
      "Data columns (total 4 columns):\n",
      " #   Column    Non-Null Count  Dtype \n",
      "---  ------    --------------  ----- \n",
      " 0   movie_id  4803 non-null   int64 \n",
      " 1   title     4803 non-null   object\n",
      " 2   cast      4803 non-null   object\n",
      " 3   crew      4803 non-null   object\n",
      "dtypes: int64(1), object(3)\n",
      "memory usage: 150.2+ KB\n",
      "None\n",
      "   movie_id                                     title  \\\n",
      "0     19995                                    Avatar   \n",
      "1       285  Pirates of the Caribbean: At World's End   \n",
      "2    206647                                   Spectre   \n",
      "3     49026                     The Dark Knight Rises   \n",
      "4     49529                               John Carter   \n",
      "\n",
      "                                                cast  \\\n",
      "0  [{\"cast_id\": 242, \"character\": \"Jake Sully\", \"...   \n",
      "1  [{\"cast_id\": 4, \"character\": \"Captain Jack Spa...   \n",
      "2  [{\"cast_id\": 1, \"character\": \"James Bond\", \"cr...   \n",
      "3  [{\"cast_id\": 2, \"character\": \"Bruce Wayne / Ba...   \n",
      "4  [{\"cast_id\": 5, \"character\": \"John Carter\", \"c...   \n",
      "\n",
      "                                                crew  \n",
      "0  [{\"credit_id\": \"52fe48009251416c750aca23\", \"de...  \n",
      "1  [{\"credit_id\": \"52fe4232c3a36847f800b579\", \"de...  \n",
      "2  [{\"credit_id\": \"54805967c3a36829b5002c41\", \"de...  \n",
      "3  [{\"credit_id\": \"52fe4781c3a36847f81398c3\", \"de...  \n",
      "4  [{\"credit_id\": \"52fe479ac3a36847f813eaa3\", \"de...  \n",
      "\n",
      "Movies Data:\n",
      "<class 'pandas.core.frame.DataFrame'>\n",
      "RangeIndex: 4803 entries, 0 to 4802\n",
      "Data columns (total 20 columns):\n",
      " #   Column                Non-Null Count  Dtype  \n",
      "---  ------                --------------  -----  \n",
      " 0   budget                4803 non-null   int64  \n",
      " 1   genres                4803 non-null   object \n",
      " 2   homepage              1712 non-null   object \n",
      " 3   id                    4803 non-null   int64  \n",
      " 4   keywords              4803 non-null   object \n",
      " 5   original_language     4803 non-null   object \n",
      " 6   original_title        4803 non-null   object \n",
      " 7   overview              4800 non-null   object \n",
      " 8   popularity            4803 non-null   float64\n",
      " 9   production_companies  4803 non-null   object \n",
      " 10  production_countries  4803 non-null   object \n",
      " 11  release_date          4802 non-null   object \n",
      " 12  revenue               4803 non-null   int64  \n",
      " 13  runtime               4801 non-null   float64\n",
      " 14  spoken_languages      4803 non-null   object \n",
      " 15  status                4803 non-null   object \n",
      " 16  tagline               3959 non-null   object \n",
      " 17  title                 4803 non-null   object \n",
      " 18  vote_average          4803 non-null   float64\n",
      " 19  vote_count            4803 non-null   int64  \n",
      "dtypes: float64(3), int64(4), object(13)\n",
      "memory usage: 750.6+ KB\n",
      "None\n",
      "      budget                                             genres  \\\n",
      "0  237000000  [{\"id\": 28, \"name\": \"Action\"}, {\"id\": 12, \"nam...   \n",
      "1  300000000  [{\"id\": 12, \"name\": \"Adventure\"}, {\"id\": 14, \"...   \n",
      "2  245000000  [{\"id\": 28, \"name\": \"Action\"}, {\"id\": 12, \"nam...   \n",
      "3  250000000  [{\"id\": 28, \"name\": \"Action\"}, {\"id\": 80, \"nam...   \n",
      "4  260000000  [{\"id\": 28, \"name\": \"Action\"}, {\"id\": 12, \"nam...   \n",
      "\n",
      "                                       homepage      id  \\\n",
      "0                   http://www.avatarmovie.com/   19995   \n",
      "1  http://disney.go.com/disneypictures/pirates/     285   \n",
      "2   http://www.sonypictures.com/movies/spectre/  206647   \n",
      "3            http://www.thedarkknightrises.com/   49026   \n",
      "4          http://movies.disney.com/john-carter   49529   \n",
      "\n",
      "                                            keywords original_language  \\\n",
      "0  [{\"id\": 1463, \"name\": \"culture clash\"}, {\"id\":...                en   \n",
      "1  [{\"id\": 270, \"name\": \"ocean\"}, {\"id\": 726, \"na...                en   \n",
      "2  [{\"id\": 470, \"name\": \"spy\"}, {\"id\": 818, \"name...                en   \n",
      "3  [{\"id\": 849, \"name\": \"dc comics\"}, {\"id\": 853,...                en   \n",
      "4  [{\"id\": 818, \"name\": \"based on novel\"}, {\"id\":...                en   \n",
      "\n",
      "                             original_title  \\\n",
      "0                                    Avatar   \n",
      "1  Pirates of the Caribbean: At World's End   \n",
      "2                                   Spectre   \n",
      "3                     The Dark Knight Rises   \n",
      "4                               John Carter   \n",
      "\n",
      "                                            overview  popularity  \\\n",
      "0  In the 22nd century, a paraplegic Marine is di...  150.437577   \n",
      "1  Captain Barbossa, long believed to be dead, ha...  139.082615   \n",
      "2  A cryptic message from Bond’s past sends him o...  107.376788   \n",
      "3  Following the death of District Attorney Harve...  112.312950   \n",
      "4  John Carter is a war-weary, former military ca...   43.926995   \n",
      "\n",
      "                                production_companies  \\\n",
      "0  [{\"name\": \"Ingenious Film Partners\", \"id\": 289...   \n",
      "1  [{\"name\": \"Walt Disney Pictures\", \"id\": 2}, {\"...   \n",
      "2  [{\"name\": \"Columbia Pictures\", \"id\": 5}, {\"nam...   \n",
      "3  [{\"name\": \"Legendary Pictures\", \"id\": 923}, {\"...   \n",
      "4        [{\"name\": \"Walt Disney Pictures\", \"id\": 2}]   \n",
      "\n",
      "                                production_countries release_date     revenue  \\\n",
      "0  [{\"iso_3166_1\": \"US\", \"name\": \"United States o...   2009-12-10  2787965087   \n",
      "1  [{\"iso_3166_1\": \"US\", \"name\": \"United States o...   2007-05-19   961000000   \n",
      "2  [{\"iso_3166_1\": \"GB\", \"name\": \"United Kingdom\"...   2015-10-26   880674609   \n",
      "3  [{\"iso_3166_1\": \"US\", \"name\": \"United States o...   2012-07-16  1084939099   \n",
      "4  [{\"iso_3166_1\": \"US\", \"name\": \"United States o...   2012-03-07   284139100   \n",
      "\n",
      "   runtime                                   spoken_languages    status  \\\n",
      "0    162.0  [{\"iso_639_1\": \"en\", \"name\": \"English\"}, {\"iso...  Released   \n",
      "1    169.0           [{\"iso_639_1\": \"en\", \"name\": \"English\"}]  Released   \n",
      "2    148.0  [{\"iso_639_1\": \"fr\", \"name\": \"Fran\\u00e7ais\"},...  Released   \n",
      "3    165.0           [{\"iso_639_1\": \"en\", \"name\": \"English\"}]  Released   \n",
      "4    132.0           [{\"iso_639_1\": \"en\", \"name\": \"English\"}]  Released   \n",
      "\n",
      "                                          tagline  \\\n",
      "0                     Enter the World of Pandora.   \n",
      "1  At the end of the world, the adventure begins.   \n",
      "2                           A Plan No One Escapes   \n",
      "3                                 The Legend Ends   \n",
      "4            Lost in our world, found in another.   \n",
      "\n",
      "                                      title  vote_average  vote_count  \n",
      "0                                    Avatar           7.2       11800  \n",
      "1  Pirates of the Caribbean: At World's End           6.9        4500  \n",
      "2                                   Spectre           6.3        4466  \n",
      "3                     The Dark Knight Rises           7.6        9106  \n",
      "4                               John Carter           6.1        2124  \n"
     ]
    }
   ],
   "source": [
    "import pandas as pd\n",
    "\n",
    "credits_file_path = 'tmdb_5000_credits.csv'\n",
    "movies_file_path = 'tmdb_5000_movies.csv'\n",
    "\n",
    "credits_data = pd.read_csv(credits_file_path)\n",
    "movies_data = pd.read_csv(movies_file_path)\n",
    "\n",
    "print(\"Credits Data:\")\n",
    "print(credits_data.info())\n",
    "print(credits_data.head())\n",
    "\n",
    "print(\"\\nMovies Data:\")\n",
    "print(movies_data.info())\n",
    "print(movies_data.head())\n"
   ]
  },
  {
   "cell_type": "markdown",
   "metadata": {
    "id": "bnviRCUI-bb7"
   },
   "source": [
    "# FILL IN - Inspecting the dataframe programmatically\n",
    "\n",
    "Inspecting the DataFrame Programmatically\n",
    "\n",
    "We examined the dataset to identify its structure and content, revealing columns movie_id, title,\n",
    "\n",
    "cast, and crew while noting the absence of expected columns like budget, revenue, and runtime.\n",
    "\n",
    "Additionally, the inspection confirmed the presence of only textual data and no missing or duplicate entries,\n",
    "\n",
    "aiding in understanding the dataset's readiness for analysis."
   ]
  },
  {
   "cell_type": "markdown",
   "metadata": {},
   "source": [
    "# Load the dataset\n",
    "\n",
    "# Inspecting the DataFrame"
   ]
  },
  {
   "cell_type": "code",
   "execution_count": 35,
   "metadata": {},
   "outputs": [
    {
     "name": "stdout",
     "output_type": "stream",
     "text": [
      "First few rows of the dataset:\n",
      "   movie_id                                     title  \\\n",
      "0     19995                                    Avatar   \n",
      "1       285  Pirates of the Caribbean: At World's End   \n",
      "2    206647                                   Spectre   \n",
      "3     49026                     The Dark Knight Rises   \n",
      "4     49529                               John Carter   \n",
      "\n",
      "                                                cast  \\\n",
      "0  [{\"cast_id\": 242, \"character\": \"Jake Sully\", \"...   \n",
      "1  [{\"cast_id\": 4, \"character\": \"Captain Jack Spa...   \n",
      "2  [{\"cast_id\": 1, \"character\": \"James Bond\", \"cr...   \n",
      "3  [{\"cast_id\": 2, \"character\": \"Bruce Wayne / Ba...   \n",
      "4  [{\"cast_id\": 5, \"character\": \"John Carter\", \"c...   \n",
      "\n",
      "                                                crew  \n",
      "0  [{\"credit_id\": \"52fe48009251416c750aca23\", \"de...  \n",
      "1  [{\"credit_id\": \"52fe4232c3a36847f800b579\", \"de...  \n",
      "2  [{\"credit_id\": \"54805967c3a36829b5002c41\", \"de...  \n",
      "3  [{\"credit_id\": \"52fe4781c3a36847f81398c3\", \"de...  \n",
      "4  [{\"credit_id\": \"52fe479ac3a36847f813eaa3\", \"de...  \n",
      "Column names in the dataset:\n",
      "Index(['movie_id', 'title', 'cast', 'crew'], dtype='object')\n",
      "Missing values in the dataset:\n",
      "movie_id    0\n",
      "title       0\n",
      "cast        0\n",
      "crew        0\n",
      "dtype: int64\n",
      "Data types of each column:\n",
      "movie_id     int64\n",
      "title       object\n",
      "cast        object\n",
      "crew        object\n",
      "dtype: object\n",
      "Descriptive statistics of numerical columns:\n",
      "            movie_id\n",
      "count    4803.000000\n",
      "mean    57165.484281\n",
      "std     88694.614033\n",
      "min         5.000000\n",
      "25%      9014.500000\n",
      "50%     14629.000000\n",
      "75%     58610.500000\n",
      "max    459488.000000\n",
      "Number of duplicate rows:\n",
      "0\n",
      "Shape of the dataset:\n",
      "(4803, 4)\n"
     ]
    }
   ],
   "source": [
    "import pandas as pd\n",
    "\n",
    "# Load the dataset\n",
    "movies_data = pd.read_csv('tmdb_5000_credits.csv')\n",
    "\n",
    "# Inspecting the DataFrame\n",
    "print(\"First few rows of the dataset:\")\n",
    "print(movies_data.head())\n",
    "\n",
    "print(\"Column names in the dataset:\")\n",
    "print(movies_data.columns)\n",
    "\n",
    "print(\"Missing values in the dataset:\")\n",
    "print(movies_data.isnull().sum())\n",
    "\n",
    "print(\"Data types of each column:\")\n",
    "print(movies_data.dtypes)\n",
    "\n",
    "print(\"Descriptive statistics of numerical columns:\")\n",
    "print(movies_data.describe())\n",
    "\n",
    "print(\"Number of duplicate rows:\")\n",
    "print(movies_data.duplicated().sum())\n",
    "\n",
    "print(\"Shape of the dataset:\")\n",
    "print(movies_data.shape)\n"
   ]
  },
  {
   "cell_type": "markdown",
   "metadata": {},
   "source": [
    "Issue and justification:\n",
    "\n",
    "The normalization of the cast and crew columns failed due to overlapping column names after exploding and normalizing the data, which resulted in a ValueError during the join operation.\n",
    "\n",
    "The cast and crew dataframes, after normalization, contained overlapping column names such as credit_id, gender,id,\n",
    "and name.\n",
    "\n",
    "This caused a conflict when joining them back to the original dataframe, as Pandas could not resolve the ambiguity without specified suffixes."
   ]
  },
  {
   "cell_type": "markdown",
   "metadata": {},
   "source": [
    "# Load the dataset\n",
    "\n",
    "# Display the first few rows to inspect the 'cast' and 'crew' columns\n",
    "\n",
    "# Display the columns to see the structure"
   ]
  },
  {
   "cell_type": "code",
   "execution_count": 36,
   "metadata": {},
   "outputs": [
    {
     "name": "stdout",
     "output_type": "stream",
     "text": [
      "First few rows of the dataset:\n",
      "   movie_id                                     title  \\\n",
      "0     19995                                    Avatar   \n",
      "1       285  Pirates of the Caribbean: At World's End   \n",
      "2    206647                                   Spectre   \n",
      "3     49026                     The Dark Knight Rises   \n",
      "4     49529                               John Carter   \n",
      "\n",
      "                                                cast  \\\n",
      "0  [{\"cast_id\": 242, \"character\": \"Jake Sully\", \"...   \n",
      "1  [{\"cast_id\": 4, \"character\": \"Captain Jack Spa...   \n",
      "2  [{\"cast_id\": 1, \"character\": \"James Bond\", \"cr...   \n",
      "3  [{\"cast_id\": 2, \"character\": \"Bruce Wayne / Ba...   \n",
      "4  [{\"cast_id\": 5, \"character\": \"John Carter\", \"c...   \n",
      "\n",
      "                                                crew  \n",
      "0  [{\"credit_id\": \"52fe48009251416c750aca23\", \"de...  \n",
      "1  [{\"credit_id\": \"52fe4232c3a36847f800b579\", \"de...  \n",
      "2  [{\"credit_id\": \"54805967c3a36829b5002c41\", \"de...  \n",
      "3  [{\"credit_id\": \"52fe4781c3a36847f81398c3\", \"de...  \n",
      "4  [{\"credit_id\": \"52fe479ac3a36847f813eaa3\", \"de...  \n",
      "\n",
      "Columns in the dataset:\n",
      "Index(['movie_id', 'title', 'cast', 'crew'], dtype='object')\n"
     ]
    }
   ],
   "source": [
    "import pandas as pd\n",
    "\n",
    "credits_data = pd.read_csv('tmdb_5000_credits.csv')\n",
    "\n",
    "print(\"First few rows of the dataset:\")\n",
    "print(credits_data.head())\n",
    "\n",
    "print(\"\\nColumns in the dataset:\")\n",
    "print(credits_data.columns)\n"
   ]
  },
  {
   "cell_type": "markdown",
   "metadata": {
    "id": "lXhGiYyiwwKN"
   },
   "source": [
    "### Tidiness Issue 1:"
   ]
  },
  {
   "cell_type": "markdown",
   "metadata": {
    "id": "fleC5rORI0Xl"
   },
   "source": [
    "# FILL IN - Inspecting the dataframe visually\n",
    "\n",
    "Justification: This allows us to visually check the dataset's structure and understand the columns'content and format.\n",
    "\n",
    "It helps us identify any apparent issues with column names, data formats, or missing values."
   ]
  },
  {
   "cell_type": "markdown",
   "metadata": {
    "id": "BTuQw7Rbsio4"
   },
   "source": [
    "# FILL IN - Inspecting the dataframe programmatically\n",
    "\n",
    "Justification: Inspecting column names programmatically helps verify that they are named correctly and follow a consistent format.\n",
    "\n",
    "This is crucial for ensuring that the dataset's structure aligns with expected standards and is suitable for analysis.\n"
   ]
  },
  {
   "cell_type": "markdown",
   "metadata": {},
   "source": [
    "# Load the dataset\n",
    "\n",
    "# Display the first few rows of the dataset"
   ]
  },
  {
   "cell_type": "code",
   "execution_count": 43,
   "metadata": {},
   "outputs": [
    {
     "name": "stdout",
     "output_type": "stream",
     "text": [
      "First few rows of the dataset:\n",
      "      budget                                             genres  \\\n",
      "0  237000000  [{\"id\": 28, \"name\": \"Action\"}, {\"id\": 12, \"nam...   \n",
      "1  300000000  [{\"id\": 12, \"name\": \"Adventure\"}, {\"id\": 14, \"...   \n",
      "2  245000000  [{\"id\": 28, \"name\": \"Action\"}, {\"id\": 12, \"nam...   \n",
      "3  250000000  [{\"id\": 28, \"name\": \"Action\"}, {\"id\": 80, \"nam...   \n",
      "4  260000000  [{\"id\": 28, \"name\": \"Action\"}, {\"id\": 12, \"nam...   \n",
      "\n",
      "                                       homepage      id  \\\n",
      "0                   http://www.avatarmovie.com/   19995   \n",
      "1  http://disney.go.com/disneypictures/pirates/     285   \n",
      "2   http://www.sonypictures.com/movies/spectre/  206647   \n",
      "3            http://www.thedarkknightrises.com/   49026   \n",
      "4          http://movies.disney.com/john-carter   49529   \n",
      "\n",
      "                                            keywords original_language  \\\n",
      "0  [{\"id\": 1463, \"name\": \"culture clash\"}, {\"id\":...                en   \n",
      "1  [{\"id\": 270, \"name\": \"ocean\"}, {\"id\": 726, \"na...                en   \n",
      "2  [{\"id\": 470, \"name\": \"spy\"}, {\"id\": 818, \"name...                en   \n",
      "3  [{\"id\": 849, \"name\": \"dc comics\"}, {\"id\": 853,...                en   \n",
      "4  [{\"id\": 818, \"name\": \"based on novel\"}, {\"id\":...                en   \n",
      "\n",
      "                             original_title  \\\n",
      "0                                    Avatar   \n",
      "1  Pirates of the Caribbean: At World's End   \n",
      "2                                   Spectre   \n",
      "3                     The Dark Knight Rises   \n",
      "4                               John Carter   \n",
      "\n",
      "                                            overview  popularity  \\\n",
      "0  In the 22nd century, a paraplegic Marine is di...  150.437577   \n",
      "1  Captain Barbossa, long believed to be dead, ha...  139.082615   \n",
      "2  A cryptic message from Bond’s past sends him o...  107.376788   \n",
      "3  Following the death of District Attorney Harve...  112.312950   \n",
      "4  John Carter is a war-weary, former military ca...   43.926995   \n",
      "\n",
      "                                production_companies  \\\n",
      "0  [{\"name\": \"Ingenious Film Partners\", \"id\": 289...   \n",
      "1  [{\"name\": \"Walt Disney Pictures\", \"id\": 2}, {\"...   \n",
      "2  [{\"name\": \"Columbia Pictures\", \"id\": 5}, {\"nam...   \n",
      "3  [{\"name\": \"Legendary Pictures\", \"id\": 923}, {\"...   \n",
      "4        [{\"name\": \"Walt Disney Pictures\", \"id\": 2}]   \n",
      "\n",
      "                                production_countries release_date     revenue  \\\n",
      "0  [{\"iso_3166_1\": \"US\", \"name\": \"United States o...   2009-12-10  2787965087   \n",
      "1  [{\"iso_3166_1\": \"US\", \"name\": \"United States o...   2007-05-19   961000000   \n",
      "2  [{\"iso_3166_1\": \"GB\", \"name\": \"United Kingdom\"...   2015-10-26   880674609   \n",
      "3  [{\"iso_3166_1\": \"US\", \"name\": \"United States o...   2012-07-16  1084939099   \n",
      "4  [{\"iso_3166_1\": \"US\", \"name\": \"United States o...   2012-03-07   284139100   \n",
      "\n",
      "   runtime                                   spoken_languages    status  \\\n",
      "0    162.0  [{\"iso_639_1\": \"en\", \"name\": \"English\"}, {\"iso...  Released   \n",
      "1    169.0           [{\"iso_639_1\": \"en\", \"name\": \"English\"}]  Released   \n",
      "2    148.0  [{\"iso_639_1\": \"fr\", \"name\": \"Fran\\u00e7ais\"},...  Released   \n",
      "3    165.0           [{\"iso_639_1\": \"en\", \"name\": \"English\"}]  Released   \n",
      "4    132.0           [{\"iso_639_1\": \"en\", \"name\": \"English\"}]  Released   \n",
      "\n",
      "                                          tagline  \\\n",
      "0                     Enter the World of Pandora.   \n",
      "1  At the end of the world, the adventure begins.   \n",
      "2                           A Plan No One Escapes   \n",
      "3                                 The Legend Ends   \n",
      "4            Lost in our world, found in another.   \n",
      "\n",
      "                                      title  vote_average  vote_count  \n",
      "0                                    Avatar           7.2       11800  \n",
      "1  Pirates of the Caribbean: At World's End           6.9        4500  \n",
      "2                                   Spectre           6.3        4466  \n",
      "3                     The Dark Knight Rises           7.6        9106  \n",
      "4                               John Carter           6.1        2124  \n"
     ]
    }
   ],
   "source": [
    "import pandas as pd\n",
    "\n",
    "movies_data = pd.read_csv('tmdb_5000_movies.csv')\n",
    "\n",
    "print(\"First few rows of the dataset:\")\n",
    "print(movies_data.head())\n"
   ]
  },
  {
   "cell_type": "markdown",
   "metadata": {},
   "source": [
    "# Display column names"
   ]
  },
  {
   "cell_type": "code",
   "execution_count": 44,
   "metadata": {},
   "outputs": [
    {
     "name": "stdout",
     "output_type": "stream",
     "text": [
      "Column names in the dataset:\n",
      "Index(['budget', 'genres', 'homepage', 'id', 'keywords', 'original_language',\n",
      "       'original_title', 'overview', 'popularity', 'production_companies',\n",
      "       'production_countries', 'release_date', 'revenue', 'runtime',\n",
      "       'spoken_languages', 'status', 'tagline', 'title', 'vote_average',\n",
      "       'vote_count'],\n",
      "      dtype='object')\n"
     ]
    }
   ],
   "source": [
    "print(\"Column names in the dataset:\")\n",
    "print(movies_data.columns)\n"
   ]
  },
  {
   "cell_type": "markdown",
   "metadata": {},
   "source": [
    "# Display sample data from key columns (e.g., 'budget', 'revenue', 'runtime')"
   ]
  },
  {
   "cell_type": "code",
   "execution_count": 45,
   "metadata": {
    "scrolled": true
   },
   "outputs": [
    {
     "name": "stdout",
     "output_type": "stream",
     "text": [
      "\n",
      "Sample data in 'budget' column:\n",
      "0    237000000\n",
      "1    300000000\n",
      "2    245000000\n",
      "3    250000000\n",
      "4    260000000\n",
      "Name: budget, dtype: int64\n",
      "\n",
      "Sample data in 'revenue' column:\n",
      "0    2787965087\n",
      "1     961000000\n",
      "2     880674609\n",
      "3    1084939099\n",
      "4     284139100\n",
      "Name: revenue, dtype: int64\n",
      "\n",
      "Sample data in 'runtime' column:\n",
      "0    162.0\n",
      "1    169.0\n",
      "2    148.0\n",
      "3    165.0\n",
      "4    132.0\n",
      "Name: runtime, dtype: float64\n"
     ]
    }
   ],
   "source": [
    "# Display sample data from key columns (e.g., 'budget', 'revenue', 'runtime')\n",
    "print(\"\\nSample data in 'budget' column:\")\n",
    "print(movies_data['budget'].head())\n",
    "\n",
    "print(\"\\nSample data in 'revenue' column:\")\n",
    "print(movies_data['revenue'].head())\n",
    "\n",
    "print(\"\\nSample data in 'runtime' column:\")\n",
    "print(movies_data['runtime'].head())\n"
   ]
  },
  {
   "cell_type": "markdown",
   "metadata": {},
   "source": [
    "Issue and justification:\n",
    "\n",
    "Viewing sample data visually helps ensure that the data types and values in critical columns are consistent and expected.\n",
    "\n",
    "This is useful for identifying any formatting or data entry errors.\n"
   ]
  },
  {
   "cell_type": "markdown",
   "metadata": {
    "id": "4ffMoRGSwzYj"
   },
   "source": [
    "### Tidiness Issue 2: "
   ]
  },
  {
   "cell_type": "markdown",
   "metadata": {
    "id": "XUpeoqokw5Qt"
   },
   "source": [
    "# FILL IN - Inspecting the dataframe visually\n",
    "\n",
    "This allows us to visually check the dataset's structure and identify any issues with the formatting of columns such as cast and crew.\n",
    "\n",
    "It helps us understand if the data is in a format that requires further cleaning or transformation."
   ]
  },
  {
   "cell_type": "markdown",
   "metadata": {
    "id": "c8JK4DoXxtFA"
   },
   "source": [
    "# FILL IN - Inspecting the dataframe programmatically\n",
    "\n",
    "Justification: Programmatically checking for missing values helps identify columns with incomplete data,\n",
    "    \n",
    "which can affect the dataset's usability and accuracy.\n",
    "\n",
    "It provides a quantitative assessment of data completeness, guiding decisions on handling missing information."
   ]
  },
  {
   "cell_type": "markdown",
   "metadata": {},
   "source": [
    "# Load the dataset\n",
    "\n",
    "# Display the first few rows to inspect the data"
   ]
  },
  {
   "cell_type": "code",
   "execution_count": 37,
   "metadata": {},
   "outputs": [
    {
     "name": "stdout",
     "output_type": "stream",
     "text": [
      "First few rows of the dataset:\n",
      "   movie_id                                     title  \\\n",
      "0     19995                                    Avatar   \n",
      "1       285  Pirates of the Caribbean: At World's End   \n",
      "2    206647                                   Spectre   \n",
      "3     49026                     The Dark Knight Rises   \n",
      "4     49529                               John Carter   \n",
      "\n",
      "                                                cast  \\\n",
      "0  [{\"cast_id\": 242, \"character\": \"Jake Sully\", \"...   \n",
      "1  [{\"cast_id\": 4, \"character\": \"Captain Jack Spa...   \n",
      "2  [{\"cast_id\": 1, \"character\": \"James Bond\", \"cr...   \n",
      "3  [{\"cast_id\": 2, \"character\": \"Bruce Wayne / Ba...   \n",
      "4  [{\"cast_id\": 5, \"character\": \"John Carter\", \"c...   \n",
      "\n",
      "                                                crew  \n",
      "0  [{\"credit_id\": \"52fe48009251416c750aca23\", \"de...  \n",
      "1  [{\"credit_id\": \"52fe4232c3a36847f800b579\", \"de...  \n",
      "2  [{\"credit_id\": \"54805967c3a36829b5002c41\", \"de...  \n",
      "3  [{\"credit_id\": \"52fe4781c3a36847f81398c3\", \"de...  \n",
      "4  [{\"credit_id\": \"52fe479ac3a36847f813eaa3\", \"de...  \n"
     ]
    }
   ],
   "source": [
    "import pandas as pd\n",
    "\n",
    "credits_data = pd.read_csv('tmdb_5000_credits.csv')\n",
    "\n",
    "print(\"First few rows of the dataset:\")\n",
    "print(credits_data.head())\n"
   ]
  },
  {
   "cell_type": "markdown",
   "metadata": {},
   "source": [
    "# Check data types of each column"
   ]
  },
  {
   "cell_type": "code",
   "execution_count": 38,
   "metadata": {},
   "outputs": [
    {
     "name": "stdout",
     "output_type": "stream",
     "text": [
      "Data types of each column:\n",
      "movie_id     int64\n",
      "title       object\n",
      "cast        object\n",
      "crew        object\n",
      "dtype: object\n"
     ]
    }
   ],
   "source": [
    "print(\"Data types of each column:\")\n",
    "print(credits_data.dtypes)"
   ]
  },
  {
   "cell_type": "markdown",
   "metadata": {},
   "source": [
    "# Inspect the structure of 'cast' and 'crew' columns\n",
    "\n"
   ]
  },
  {
   "cell_type": "code",
   "execution_count": 40,
   "metadata": {},
   "outputs": [
    {
     "name": "stdout",
     "output_type": "stream",
     "text": [
      "\n",
      "Inspecting 'cast' column:\n",
      "0    [{\"cast_id\": 242, \"character\": \"Jake Sully\", \"...\n",
      "1    [{\"cast_id\": 4, \"character\": \"Captain Jack Spa...\n",
      "2    [{\"cast_id\": 1, \"character\": \"James Bond\", \"cr...\n",
      "3    [{\"cast_id\": 2, \"character\": \"Bruce Wayne / Ba...\n",
      "4    [{\"cast_id\": 5, \"character\": \"John Carter\", \"c...\n",
      "Name: cast, dtype: object\n",
      "\n",
      "Inspecting 'crew' column:\n",
      "0    [{\"credit_id\": \"52fe48009251416c750aca23\", \"de...\n",
      "1    [{\"credit_id\": \"52fe4232c3a36847f800b579\", \"de...\n",
      "2    [{\"credit_id\": \"54805967c3a36829b5002c41\", \"de...\n",
      "3    [{\"credit_id\": \"52fe4781c3a36847f81398c3\", \"de...\n",
      "4    [{\"credit_id\": \"52fe479ac3a36847f813eaa3\", \"de...\n",
      "Name: crew, dtype: object\n"
     ]
    }
   ],
   "source": [
    "import json\n",
    "\n",
    "print(\"\\nInspecting 'cast' column:\")\n",
    "print(credits_data['cast'].head())\n",
    "\n",
    "print(\"\\nInspecting 'crew' column:\")\n",
    "print(credits_data['crew'].head())\n"
   ]
  },
  {
   "cell_type": "markdown",
   "metadata": {},
   "source": [
    "# Check for unique values in 'cast' and 'crew' columns"
   ]
  },
  {
   "cell_type": "code",
   "execution_count": 41,
   "metadata": {},
   "outputs": [
    {
     "name": "stdout",
     "output_type": "stream",
     "text": [
      "\n",
      "Unique values in 'cast' column:\n",
      "count    4803.000000\n",
      "mean       22.123048\n",
      "std        19.582493\n",
      "min         0.000000\n",
      "25%        11.000000\n",
      "50%        16.000000\n",
      "75%        25.000000\n",
      "max       224.000000\n",
      "Name: cast, dtype: float64\n",
      "\n",
      "Unique values in 'crew' column:\n",
      "count    4803.000000\n",
      "mean       26.979180\n",
      "std        31.628564\n",
      "min         0.000000\n",
      "25%         8.000000\n",
      "50%        16.000000\n",
      "75%        32.000000\n",
      "max       435.000000\n",
      "Name: crew, dtype: float64\n"
     ]
    }
   ],
   "source": [
    "print(\"\\nUnique values in 'cast' column:\")\n",
    "print(credits_data['cast'].apply(lambda x: len(json.loads(x))).describe())\n",
    "\n",
    "print(\"\\nUnique values in 'crew' column:\")\n",
    "print(credits_data['crew'].apply(lambda x: len(json.loads(x))).describe())\n"
   ]
  },
  {
   "cell_type": "markdown",
   "metadata": {},
   "source": [
    "Issue and justification:\n",
    "The 'cast' and 'crew' columns contain lists with varying numbers of entries, leading to a wide range of unique values.\n",
    "\n",
    "This inconsistency can complicate data analysis, as the number of entries per movie varies significantly,\n",
    "\n",
    "with some movies having up to 224 cast members and 435 crew members.\n",
    "\n",
    "This variability in the number of entries makes it challenging to perform consistent and meaningful analysis.\n",
    "\n",
    "To address this issue, the data should be normalized by separating the 'cast' and 'crew'\n",
    "\n",
    "information into individual rows or columns, ensuring that each entry is manageable and analysis can be performed more effectively."
   ]
  },
  {
   "cell_type": "markdown",
   "metadata": {
    "id": "D6gmLnBttpCh"
   },
   "source": [
    "## 3. Clean data\n",
    "Clean the data to solve the 4 issues corresponding to data quality and tidiness found in the assessing step. **Make sure you include justifications for your cleaning decisions.**\n",
    "\n",
    "After the cleaning for each issue, please use **either** the visually or programatical method to validate the cleaning was succesful.\n",
    "\n",
    "At this stage, you are also expected to remove variables that are unnecessary for your analysis and combine your datasets. Depending on your datasets, you may choose to perform variable combination and elimination before or after the cleaning stage. Your dataset must have **at least** 4 variables after combining the data."
   ]
  },
  {
   "cell_type": "markdown",
   "metadata": {},
   "source": [
    "# FILL IN - Make copies of the datasets to ensure the raw dataframes \n",
    "\n",
    "# are not impacted"
   ]
  },
  {
   "cell_type": "markdown",
   "metadata": {},
   "source": [
    "# Load the raw datasets\n",
    "\n",
    "# Make copies of the datasets for cleaning"
   ]
  },
  {
   "cell_type": "code",
   "execution_count": 46,
   "metadata": {},
   "outputs": [],
   "source": [
    "import pandas as pd\n",
    "\n",
    "# Load the raw datasets\n",
    "movies_raw = pd.read_csv('tmdb_5000_movies.csv')\n",
    "credits_raw = pd.read_csv('tmdb_5000_credits.csv')\n",
    "\n",
    "# Make copies of the datasets for cleaning\n",
    "movies = movies_raw.copy()\n",
    "credits = credits_raw.copy()\n"
   ]
  },
  {
   "cell_type": "markdown",
   "metadata": {},
   "source": [
    "# Load the dataset\n",
    "\n",
    "# Check for missing values\n",
    "\n",
    "# Fill missing values with the mean\n",
    "\n",
    "# Validate the cleaning was successful"
   ]
  },
  {
   "cell_type": "code",
   "execution_count": 48,
   "metadata": {},
   "outputs": [
    {
     "name": "stdout",
     "output_type": "stream",
     "text": [
      "Missing values before cleaning:\n",
      "budget     0\n",
      "revenue    0\n",
      "runtime    2\n",
      "dtype: int64\n",
      "Missing values after cleaning:\n",
      "budget     0\n",
      "revenue    0\n",
      "runtime    0\n",
      "dtype: int64\n"
     ]
    }
   ],
   "source": [
    "import pandas as pd\n",
    "\n",
    "movies = pd.read_csv('tmdb_5000_movies.csv')\n",
    "\n",
    "missing_values = movies[['budget', 'revenue', 'runtime']].isnull().sum()\n",
    "\n",
    "movies['budget'] = movies['budget'].fillna(movies['budget'].mean())\n",
    "movies['revenue'] = movies['revenue'].fillna(movies['revenue'].mean())\n",
    "movies['runtime'] = movies['runtime'].fillna(movies['runtime'].mean())\n",
    "\n",
    "missing_values_after = movies[['budget', 'revenue', 'runtime']].isnull().sum()\n",
    "\n",
    "print(\"Missing values before cleaning:\")\n",
    "print(missing_values)\n",
    "print(\"Missing values after cleaning:\")\n",
    "print(missing_values_after)\n"
   ]
  },
  {
   "cell_type": "markdown",
   "metadata": {},
   "source": [
    "# Load raw datasets\n",
    "\n",
    "# Perform cleaning on movies dataset\n",
    "\n",
    "# Perform cleaning on credits dataset\n",
    "\n",
    "# Convert JSON-like strings to Python objects\n",
    "\n",
    "# Inspect column names to find the correct merge key\n",
    "\n",
    "# If the column names are different, rename them to match\n",
    "\n",
    "# For example, if 'movie_id' is named 'id' in one of the datasets\n",
    "\n",
    "# movies_clean.rename(columns={'id': 'movie_id'}, inplace=True)\n",
    "\n",
    "# credits_clean.rename(columns={'id': 'movie_id'}, inplace=True)\n",
    "\n",
    "# Save the raw and cleaned datasets"
   ]
  },
  {
   "cell_type": "code",
   "execution_count": 54,
   "metadata": {},
   "outputs": [
    {
     "name": "stdout",
     "output_type": "stream",
     "text": [
      "Movies columns: Index(['budget', 'genres', 'homepage', 'id', 'keywords', 'original_language',\n",
      "       'original_title', 'overview', 'popularity', 'production_companies',\n",
      "       'production_countries', 'release_date', 'revenue', 'runtime',\n",
      "       'spoken_languages', 'status', 'tagline', 'title', 'vote_average',\n",
      "       'vote_count'],\n",
      "      dtype='object')\n",
      "Credits columns: Index(['movie_id', 'title', 'cast', 'crew'], dtype='object')\n"
     ]
    }
   ],
   "source": [
    "import pandas as pd\n",
    "import json\n",
    "\n",
    "movies_raw = pd.read_csv('tmdb_5000_movies.csv')\n",
    "credits_raw = pd.read_csv('tmdb_5000_credits.csv')\n",
    "\n",
    "movies_clean = movies_raw.copy()\n",
    "movies_clean['budget'] = movies_clean['budget'].fillna(movies_clean['budget'].mean())\n",
    "movies_clean['revenue'] = movies_clean['revenue'].fillna(movies_clean['revenue'].mean())\n",
    "movies_clean['runtime'] = movies_clean['runtime'].fillna(movies_clean['runtime'].mean())\n",
    "\n",
    "credits_clean = credits_raw.copy()\n",
    "\n",
    "credits_clean['cast'] = credits_clean['cast'].apply(lambda x: json.loads(x))\n",
    "credits_clean['crew'] = credits_clean['crew'].apply(lambda x: json.loads(x))\n",
    "\n",
    "print(\"Movies columns:\", movies_clean.columns)\n",
    "print(\"Credits columns:\", credits_clean.columns)\n",
    "\n",
    "\n",
    "movies_raw.to_csv('tmdb_5000_movies_raw.csv', index=False)\n",
    "credits_raw.to_csv('tmdb_5000_credits_raw.csv', index=False)\n",
    "\n",
    "movies_clean.to_csv('tmdb_5000_movies_clean.csv', index=False)\n",
    "credits_clean.to_csv('tmdb_5000_credits_clean.csv', index=False)"
   ]
  },
  {
   "cell_type": "markdown",
   "metadata": {
    "id": "FmFhN52Yyn3l"
   },
   "source": [
    "### **Quality Issue 1: FILL IN**"
   ]
  },
  {
   "cell_type": "markdown",
   "metadata": {},
   "source": [
    "# Check for missing values"
   ]
  },
  {
   "cell_type": "code",
   "execution_count": 59,
   "metadata": {
    "scrolled": false
   },
   "outputs": [
    {
     "name": "stdout",
     "output_type": "stream",
     "text": [
      "Missing values before cleaning:\n",
      "budget                     0\n",
      "genres                     0\n",
      "homepage                3091\n",
      "id                         0\n",
      "keywords                   0\n",
      "original_language          0\n",
      "original_title             0\n",
      "overview                   3\n",
      "popularity                 0\n",
      "production_companies       0\n",
      "production_countries       0\n",
      "release_date               1\n",
      "revenue                    0\n",
      "runtime                    0\n",
      "spoken_languages           0\n",
      "status                     0\n",
      "tagline                  844\n",
      "title                      0\n",
      "vote_average               0\n",
      "vote_count                 0\n",
      "dtype: int64\n"
     ]
    }
   ],
   "source": [
    "missing_values = movies_clean.isnull().sum()\n",
    "print(\"Missing values before cleaning:\")\n",
    "print(missing_values)\n"
   ]
  },
  {
   "cell_type": "markdown",
   "metadata": {},
   "source": [
    "# Fill missing values in the 'overview' column\n",
    "\n",
    "# Fill missing values in the 'release_date' column\n",
    "\n",
    "# Fill missing values in the 'tagline' column\n",
    "\n",
    "# Check missing values after cleaning"
   ]
  },
  {
   "cell_type": "code",
   "execution_count": 67,
   "metadata": {},
   "outputs": [
    {
     "name": "stdout",
     "output_type": "stream",
     "text": [
      "Missing values after cleaning:\n",
      "budget                     0\n",
      "genres                     0\n",
      "homepage                3091\n",
      "id                         0\n",
      "keywords                   0\n",
      "original_language          0\n",
      "original_title             0\n",
      "overview                   0\n",
      "popularity                 0\n",
      "production_companies       0\n",
      "production_countries       0\n",
      "release_date               0\n",
      "revenue                    0\n",
      "runtime                    0\n",
      "spoken_languages           0\n",
      "status                     0\n",
      "tagline                    0\n",
      "title                      0\n",
      "vote_average               0\n",
      "vote_count                 0\n",
      "dtype: int64\n"
     ]
    }
   ],
   "source": [
    "movies_clean['overview'] = movies_clean['overview'].fillna('No description available')\n",
    "\n",
    "movies_clean['release_date'] = movies_clean['release_date'].fillna('1900-01-01')\n",
    "\n",
    "movies_clean['tagline'] = movies_clean['tagline'].fillna('No tagline available')\n",
    "\n",
    "missing_values_after = movies_clean.isnull().sum()\n",
    "\n",
    "print(\"Missing values after cleaning:\")\n",
    "print(missing_values_after)\n"
   ]
  },
  {
   "cell_type": "markdown",
   "metadata": {},
   "source": [
    "# Check for missing values after cleaning"
   ]
  },
  {
   "cell_type": "code",
   "execution_count": 66,
   "metadata": {},
   "outputs": [
    {
     "name": "stdout",
     "output_type": "stream",
     "text": [
      "Missing values after cleaning:\n",
      "budget                     0\n",
      "genres                     0\n",
      "homepage                3091\n",
      "id                         0\n",
      "keywords                   0\n",
      "original_language          0\n",
      "original_title             0\n",
      "overview                   3\n",
      "popularity                 0\n",
      "production_companies       0\n",
      "production_countries       0\n",
      "release_date               1\n",
      "revenue                    0\n",
      "runtime                    0\n",
      "spoken_languages           0\n",
      "status                     0\n",
      "tagline                  844\n",
      "title                      0\n",
      "vote_average               0\n",
      "vote_count                 0\n",
      "dtype: int64\n"
     ]
    }
   ],
   "source": [
    "missing_values_after = movies_clean.isnull().sum()\n",
    "print(\"Missing values after cleaning:\")\n",
    "print(missing_values_after)"
   ]
  },
  {
   "cell_type": "markdown",
   "metadata": {},
   "source": [
    "# Load the dataset\n",
    "\n",
    "# Fill missing values\n",
    "\n",
    "# Save the cleaned dataset"
   ]
  },
  {
   "cell_type": "code",
   "execution_count": 69,
   "metadata": {},
   "outputs": [],
   "source": [
    "import pandas as pd\n",
    "\n",
    "movies_clean = pd.read_csv('tmdb_5000_movies_clean.csv')\n",
    "\n",
    "movies_clean['overview'] = movies_clean['overview'].fillna('No description available')\n",
    "movies_clean['release_date'] = movies_clean['release_date'].fillna('1900-01-01')\n",
    "movies_clean['tagline'] = movies_clean['tagline'].fillna('No tagline available')\n",
    "\n",
    "movies_clean.to_csv('tmdb_5000_movies_clean.csv', index=False)\n"
   ]
  },
  {
   "cell_type": "markdown",
   "metadata": {},
   "source": [
    "# Check missing values after cleaning"
   ]
  },
  {
   "cell_type": "code",
   "execution_count": 70,
   "metadata": {},
   "outputs": [
    {
     "name": "stdout",
     "output_type": "stream",
     "text": [
      "Missing values after cleaning:\n",
      "budget                     0\n",
      "genres                     0\n",
      "homepage                3091\n",
      "id                         0\n",
      "keywords                   0\n",
      "original_language          0\n",
      "original_title             0\n",
      "overview                   0\n",
      "popularity                 0\n",
      "production_companies       0\n",
      "production_countries       0\n",
      "release_date               0\n",
      "revenue                    0\n",
      "runtime                    0\n",
      "spoken_languages           0\n",
      "status                     0\n",
      "tagline                    0\n",
      "title                      0\n",
      "vote_average               0\n",
      "vote_count                 0\n",
      "dtype: int64\n"
     ]
    }
   ],
   "source": [
    "missing_values_after = movies_clean.isnull().sum()\n",
    "\n",
    "print(\"Missing values after cleaning:\")\n",
    "print(missing_values_after)\n"
   ]
  },
  {
   "cell_type": "markdown",
   "metadata": {},
   "source": [
    "# Load the credits dataset\n",
    "\n",
    "# Rename columns in credits_clean to match movies_clean\n",
    "\n",
    "# Merge datasets on 'id'\n",
    "\n",
    "# Drop unnecessary columns\n",
    "\n",
    "# Save the combined and cleaned dataset"
   ]
  },
  {
   "cell_type": "code",
   "execution_count": 71,
   "metadata": {},
   "outputs": [],
   "source": [
    "credits_clean = pd.read_csv('tmdb_5000_credits_clean.csv')\n",
    "\n",
    "credits_clean.rename(columns={'movie_id': 'id'}, inplace=True)\n",
    "\n",
    "combined_data = pd.merge(movies_clean, credits_clean, on='id', how='inner')\n",
    "\n",
    "columns_to_drop = ['homepage', 'keywords', 'production_companies', 'production_countries', 'spoken_languages']\n",
    "combined_data.drop(columns=columns_to_drop, inplace=True)\n",
    "\n",
    "combined_data.to_csv('tmdb_5000_combined_clean.csv', index=False)\n"
   ]
  },
  {
   "cell_type": "markdown",
   "metadata": {},
   "source": [
    "# Check the final dataset"
   ]
  },
  {
   "cell_type": "code",
   "execution_count": 72,
   "metadata": {},
   "outputs": [
    {
     "name": "stdout",
     "output_type": "stream",
     "text": [
      "Final dataset columns:\n",
      "Index(['budget', 'genres', 'id', 'original_language', 'original_title',\n",
      "       'overview', 'popularity', 'release_date', 'revenue', 'runtime',\n",
      "       'status', 'tagline', 'title_x', 'vote_average', 'vote_count', 'title_y',\n",
      "       'cast', 'crew'],\n",
      "      dtype='object')\n",
      "Final dataset head:\n",
      "      budget                                             genres      id  \\\n",
      "0  237000000  [{\"id\": 28, \"name\": \"Action\"}, {\"id\": 12, \"nam...   19995   \n",
      "1  300000000  [{\"id\": 12, \"name\": \"Adventure\"}, {\"id\": 14, \"...     285   \n",
      "2  245000000  [{\"id\": 28, \"name\": \"Action\"}, {\"id\": 12, \"nam...  206647   \n",
      "3  250000000  [{\"id\": 28, \"name\": \"Action\"}, {\"id\": 80, \"nam...   49026   \n",
      "4  260000000  [{\"id\": 28, \"name\": \"Action\"}, {\"id\": 12, \"nam...   49529   \n",
      "\n",
      "  original_language                            original_title  \\\n",
      "0                en                                    Avatar   \n",
      "1                en  Pirates of the Caribbean: At World's End   \n",
      "2                en                                   Spectre   \n",
      "3                en                     The Dark Knight Rises   \n",
      "4                en                               John Carter   \n",
      "\n",
      "                                            overview  popularity release_date  \\\n",
      "0  In the 22nd century, a paraplegic Marine is di...  150.437577   2009-12-10   \n",
      "1  Captain Barbossa, long believed to be dead, ha...  139.082615   2007-05-19   \n",
      "2  A cryptic message from Bond’s past sends him o...  107.376788   2015-10-26   \n",
      "3  Following the death of District Attorney Harve...  112.312950   2012-07-16   \n",
      "4  John Carter is a war-weary, former military ca...   43.926995   2012-03-07   \n",
      "\n",
      "      revenue  runtime    status  \\\n",
      "0  2787965087    162.0  Released   \n",
      "1   961000000    169.0  Released   \n",
      "2   880674609    148.0  Released   \n",
      "3  1084939099    165.0  Released   \n",
      "4   284139100    132.0  Released   \n",
      "\n",
      "                                          tagline  \\\n",
      "0                     Enter the World of Pandora.   \n",
      "1  At the end of the world, the adventure begins.   \n",
      "2                           A Plan No One Escapes   \n",
      "3                                 The Legend Ends   \n",
      "4            Lost in our world, found in another.   \n",
      "\n",
      "                                    title_x  vote_average  vote_count  \\\n",
      "0                                    Avatar           7.2       11800   \n",
      "1  Pirates of the Caribbean: At World's End           6.9        4500   \n",
      "2                                   Spectre           6.3        4466   \n",
      "3                     The Dark Knight Rises           7.6        9106   \n",
      "4                               John Carter           6.1        2124   \n",
      "\n",
      "                                    title_y  \\\n",
      "0                                    Avatar   \n",
      "1  Pirates of the Caribbean: At World's End   \n",
      "2                                   Spectre   \n",
      "3                     The Dark Knight Rises   \n",
      "4                               John Carter   \n",
      "\n",
      "                                                cast  \\\n",
      "0  [{'cast_id': 242, 'character': 'Jake Sully', '...   \n",
      "1  [{'cast_id': 4, 'character': 'Captain Jack Spa...   \n",
      "2  [{'cast_id': 1, 'character': 'James Bond', 'cr...   \n",
      "3  [{'cast_id': 2, 'character': 'Bruce Wayne / Ba...   \n",
      "4  [{'cast_id': 5, 'character': 'John Carter', 'c...   \n",
      "\n",
      "                                                crew  \n",
      "0  [{'credit_id': '52fe48009251416c750aca23', 'de...  \n",
      "1  [{'credit_id': '52fe4232c3a36847f800b579', 'de...  \n",
      "2  [{'credit_id': '54805967c3a36829b5002c41', 'de...  \n",
      "3  [{'credit_id': '52fe4781c3a36847f81398c3', 'de...  \n",
      "4  [{'credit_id': '52fe479ac3a36847f813eaa3', 'de...  \n"
     ]
    }
   ],
   "source": [
    "print(\"Final dataset columns:\")\n",
    "print(combined_data.columns)\n",
    "\n",
    "print(\"Final dataset head:\")\n",
    "print(combined_data.head())\n"
   ]
  },
  {
   "cell_type": "markdown",
   "metadata": {
    "id": "9UejDWrNMW4a"
   },
   "source": [
    "# FILL IN - Apply the cleaning strategy\n",
    "\n",
    "Missing values were replaced with \"No description available\" to ensure that every movie has a description,\n",
    "even if it's a placeholder.\n",
    "\n",
    "Missing values were filled with \"1900-01-01\" as a placeholder to avoid invalid dates.\n",
    "\n",
    "Missing values were replaced with \"No tagline available\" to provide a consistent and complete dataset for analysis.\n",
    "\n",
    "Inconsistent Column Names and Merge:\n",
    "\n",
    "Columns in credits_clean were renamed to match movies_clean for consistency, enabling successful merging.\n",
    "\n",
    "Combined the datasets to enrich the movie data with credits information and removed unnecessary columns to simplify the analysis."
   ]
  },
  {
   "cell_type": "markdown",
   "metadata": {},
   "source": [
    "# Load the combined and cleaned dataset\n",
    "\n",
    "# 1. Check for Missing Values\n",
    "\n",
    "# 2. Validate Data Types"
   ]
  },
  {
   "cell_type": "code",
   "execution_count": 77,
   "metadata": {},
   "outputs": [
    {
     "name": "stdout",
     "output_type": "stream",
     "text": [
      "Missing values after cleaning:\n",
      "budget               0\n",
      "genres               0\n",
      "id                   0\n",
      "original_language    0\n",
      "original_title       0\n",
      "overview             0\n",
      "popularity           0\n",
      "release_date         0\n",
      "revenue              0\n",
      "runtime              0\n",
      "status               0\n",
      "tagline              0\n",
      "title_x              0\n",
      "vote_average         0\n",
      "vote_count           0\n",
      "title_y              0\n",
      "cast                 0\n",
      "crew                 0\n",
      "dtype: int64\n",
      "\n",
      "Data types of each column:\n",
      "budget                 int64\n",
      "genres                object\n",
      "id                     int64\n",
      "original_language     object\n",
      "original_title        object\n",
      "overview              object\n",
      "popularity           float64\n",
      "release_date          object\n",
      "revenue                int64\n",
      "runtime              float64\n",
      "status                object\n",
      "tagline               object\n",
      "title_x               object\n",
      "vote_average         float64\n",
      "vote_count             int64\n",
      "title_y               object\n",
      "cast                  object\n",
      "crew                  object\n",
      "dtype: object\n"
     ]
    }
   ],
   "source": [
    "import pandas as pd\n",
    "\n",
    "combined_data = pd.read_csv('tmdb_5000_combined_clean.csv')\n",
    "\n",
    "missing_values_after = combined_data.isnull().sum()\n",
    "print(\"Missing values after cleaning:\")\n",
    "print(missing_values_after)\n",
    "\n",
    "print(\"\\nData types of each column:\")\n",
    "print(combined_data.dtypes)"
   ]
  },
  {
   "cell_type": "markdown",
   "metadata": {},
   "source": [
    "# 3. Check for Duplicates\n",
    "\n",
    "# 4. Validate Data Range and Consistency"
   ]
  },
  {
   "cell_type": "code",
   "execution_count": 78,
   "metadata": {},
   "outputs": [
    {
     "name": "stdout",
     "output_type": "stream",
     "text": [
      "\n",
      "Number of duplicate rows: 0\n",
      "\n",
      "Descriptive statistics of the cleaned data:\n",
      "             budget             id   popularity       revenue      runtime  \\\n",
      "count  4.803000e+03    4803.000000  4803.000000  4.803000e+03  4803.000000   \n",
      "mean   2.904504e+07   57165.484281    21.492301  8.226064e+07   106.875859   \n",
      "std    4.072239e+07   88694.614033    31.816650  1.628571e+08    22.607225   \n",
      "min    0.000000e+00       5.000000     0.000000  0.000000e+00     0.000000   \n",
      "25%    7.900000e+05    9014.500000     4.668070  0.000000e+00    94.000000   \n",
      "50%    1.500000e+07   14629.000000    12.921594  1.917000e+07   103.000000   \n",
      "75%    4.000000e+07   58610.500000    28.313505  9.291719e+07   117.500000   \n",
      "max    3.800000e+08  459488.000000   875.581305  2.787965e+09   338.000000   \n",
      "\n",
      "       vote_average    vote_count  \n",
      "count   4803.000000   4803.000000  \n",
      "mean       6.092172    690.217989  \n",
      "std        1.194612   1234.585891  \n",
      "min        0.000000      0.000000  \n",
      "25%        5.600000     54.000000  \n",
      "50%        6.200000    235.000000  \n",
      "75%        6.800000    737.000000  \n",
      "max       10.000000  13752.000000  \n"
     ]
    }
   ],
   "source": [
    "duplicates = combined_data.duplicated().sum()\n",
    "print(f\"\\nNumber of duplicate rows: {duplicates}\")\n",
    "\n",
    "print(\"\\nDescriptive statistics of the cleaned data:\")\n",
    "print(combined_data.describe())"
   ]
  },
  {
   "cell_type": "markdown",
   "metadata": {},
   "source": [
    "# 5. Re-inspect Sample Data"
   ]
  },
  {
   "cell_type": "code",
   "execution_count": 82,
   "metadata": {},
   "outputs": [
    {
     "name": "stdout",
     "output_type": "stream",
     "text": [
      "\n",
      "Sample of the cleaned data:\n",
      "      budget                                             genres      id  \\\n",
      "0  237000000  [{\"id\": 28, \"name\": \"Action\"}, {\"id\": 12, \"nam...   19995   \n",
      "1  300000000  [{\"id\": 12, \"name\": \"Adventure\"}, {\"id\": 14, \"...     285   \n",
      "2  245000000  [{\"id\": 28, \"name\": \"Action\"}, {\"id\": 12, \"nam...  206647   \n",
      "3  250000000  [{\"id\": 28, \"name\": \"Action\"}, {\"id\": 80, \"nam...   49026   \n",
      "4  260000000  [{\"id\": 28, \"name\": \"Action\"}, {\"id\": 12, \"nam...   49529   \n",
      "5  258000000  [{\"id\": 14, \"name\": \"Fantasy\"}, {\"id\": 28, \"na...     559   \n",
      "6  260000000  [{\"id\": 16, \"name\": \"Animation\"}, {\"id\": 10751...   38757   \n",
      "7  280000000  [{\"id\": 28, \"name\": \"Action\"}, {\"id\": 12, \"nam...   99861   \n",
      "8  250000000  [{\"id\": 12, \"name\": \"Adventure\"}, {\"id\": 14, \"...     767   \n",
      "9  250000000  [{\"id\": 28, \"name\": \"Action\"}, {\"id\": 12, \"nam...  209112   \n",
      "\n",
      "  original_language                            original_title  \\\n",
      "0                en                                    Avatar   \n",
      "1                en  Pirates of the Caribbean: At World's End   \n",
      "2                en                                   Spectre   \n",
      "3                en                     The Dark Knight Rises   \n",
      "4                en                               John Carter   \n",
      "5                en                              Spider-Man 3   \n",
      "6                en                                   Tangled   \n",
      "7                en                   Avengers: Age of Ultron   \n",
      "8                en    Harry Potter and the Half-Blood Prince   \n",
      "9                en        Batman v Superman: Dawn of Justice   \n",
      "\n",
      "                                            overview  popularity release_date  \\\n",
      "0  In the 22nd century, a paraplegic Marine is di...  150.437577   2009-12-10   \n",
      "1  Captain Barbossa, long believed to be dead, ha...  139.082615   2007-05-19   \n",
      "2  A cryptic message from Bond’s past sends him o...  107.376788   2015-10-26   \n",
      "3  Following the death of District Attorney Harve...  112.312950   2012-07-16   \n",
      "4  John Carter is a war-weary, former military ca...   43.926995   2012-03-07   \n",
      "5  The seemingly invincible Spider-Man goes up ag...  115.699814   2007-05-01   \n",
      "6  When the kingdom's most wanted-and most charmi...   48.681969   2010-11-24   \n",
      "7  When Tony Stark tries to jumpstart a dormant p...  134.279229   2015-04-22   \n",
      "8  As Harry begins his sixth year at Hogwarts, he...   98.885637   2009-07-07   \n",
      "9  Fearing the actions of a god-like Super Hero l...  155.790452   2016-03-23   \n",
      "\n",
      "      revenue  runtime    status  \\\n",
      "0  2787965087    162.0  Released   \n",
      "1   961000000    169.0  Released   \n",
      "2   880674609    148.0  Released   \n",
      "3  1084939099    165.0  Released   \n",
      "4   284139100    132.0  Released   \n",
      "5   890871626    139.0  Released   \n",
      "6   591794936    100.0  Released   \n",
      "7  1405403694    141.0  Released   \n",
      "8   933959197    153.0  Released   \n",
      "9   873260194    151.0  Released   \n",
      "\n",
      "                                          tagline  \\\n",
      "0                     Enter the World of Pandora.   \n",
      "1  At the end of the world, the adventure begins.   \n",
      "2                           A Plan No One Escapes   \n",
      "3                                 The Legend Ends   \n",
      "4            Lost in our world, found in another.   \n",
      "5                              The battle within.   \n",
      "6        They're taking adventure to new lengths.   \n",
      "7                             A New Age Has Come.   \n",
      "8                           Dark Secrets Revealed   \n",
      "9                              Justice or revenge   \n",
      "\n",
      "                                    title_x  vote_average  vote_count  \\\n",
      "0                                    Avatar           7.2       11800   \n",
      "1  Pirates of the Caribbean: At World's End           6.9        4500   \n",
      "2                                   Spectre           6.3        4466   \n",
      "3                     The Dark Knight Rises           7.6        9106   \n",
      "4                               John Carter           6.1        2124   \n",
      "5                              Spider-Man 3           5.9        3576   \n",
      "6                                   Tangled           7.4        3330   \n",
      "7                   Avengers: Age of Ultron           7.3        6767   \n",
      "8    Harry Potter and the Half-Blood Prince           7.4        5293   \n",
      "9        Batman v Superman: Dawn of Justice           5.7        7004   \n",
      "\n",
      "                                    title_y  \\\n",
      "0                                    Avatar   \n",
      "1  Pirates of the Caribbean: At World's End   \n",
      "2                                   Spectre   \n",
      "3                     The Dark Knight Rises   \n",
      "4                               John Carter   \n",
      "5                              Spider-Man 3   \n",
      "6                                   Tangled   \n",
      "7                   Avengers: Age of Ultron   \n",
      "8    Harry Potter and the Half-Blood Prince   \n",
      "9        Batman v Superman: Dawn of Justice   \n",
      "\n",
      "                                                cast  \\\n",
      "0  [{'cast_id': 242, 'character': 'Jake Sully', '...   \n",
      "1  [{'cast_id': 4, 'character': 'Captain Jack Spa...   \n",
      "2  [{'cast_id': 1, 'character': 'James Bond', 'cr...   \n",
      "3  [{'cast_id': 2, 'character': 'Bruce Wayne / Ba...   \n",
      "4  [{'cast_id': 5, 'character': 'John Carter', 'c...   \n",
      "5  [{'cast_id': 30, 'character': 'Peter Parker / ...   \n",
      "6  [{'cast_id': 34, 'character': 'Flynn Rider (vo...   \n",
      "7  [{'cast_id': 76, 'character': 'Tony Stark / Ir...   \n",
      "8  [{'cast_id': 3, 'character': 'Harry Potter', '...   \n",
      "9  [{'cast_id': 18, 'character': 'Bruce Wayne / B...   \n",
      "\n",
      "                                                crew  \n",
      "0  [{'credit_id': '52fe48009251416c750aca23', 'de...  \n",
      "1  [{'credit_id': '52fe4232c3a36847f800b579', 'de...  \n",
      "2  [{'credit_id': '54805967c3a36829b5002c41', 'de...  \n",
      "3  [{'credit_id': '52fe4781c3a36847f81398c3', 'de...  \n",
      "4  [{'credit_id': '52fe479ac3a36847f813eaa3', 'de...  \n",
      "5  [{'credit_id': '52fe4252c3a36847f80151a5', 'de...  \n",
      "6  [{'credit_id': '52fe46db9251416c91062101', 'de...  \n",
      "7  [{'credit_id': '55d5f7d4c3a3683e7e0016eb', 'de...  \n",
      "8  [{'credit_id': '52fe4273c3a36847f801fab1', 'de...  \n",
      "9  [{'credit_id': '553bf23692514135c8002886', 'de...  \n"
     ]
    }
   ],
   "source": [
    "print(\"\\nSample of the cleaned data:\")\n",
    "print(combined_data.head(10))"
   ]
  },
  {
   "cell_type": "markdown",
   "metadata": {},
   "source": [
    "# Verify the 'release_date' column\n",
    "\n",
    "# Verify the 'tagline' column\n",
    "\n",
    "# Verify the 'overview' column"
   ]
  },
  {
   "cell_type": "code",
   "execution_count": 83,
   "metadata": {},
   "outputs": [
    {
     "name": "stdout",
     "output_type": "stream",
     "text": [
      "\n",
      "Unique values in 'release_date' after cleaning:\n",
      "['2009-12-10' '2007-05-19' '2015-10-26' ... '2011-12-26' '2013-10-13'\n",
      " '2012-05-03']\n",
      "\n",
      "Unique values in 'tagline' after cleaning:\n",
      "['Enter the World of Pandora.'\n",
      " 'At the end of the world, the adventure begins.' 'A Plan No One Escapes'\n",
      " ...\n",
      " \"He didn't come looking for trouble, but trouble came looking for him.\"\n",
      " \"A newlywed couple's honeymoon is upended by the arrivals of their respective sisters.\"\n",
      " 'A New Yorker in Shanghai']\n",
      "\n",
      "Unique values in 'overview' after cleaning:\n",
      "['In the 22nd century, a paraplegic Marine is dispatched to the moon Pandora on a unique mission, but becomes torn between following orders and protecting an alien civilization.'\n",
      " 'Captain Barbossa, long believed to be dead, has come back to life and is headed to the edge of the Earth with Will Turner and Elizabeth Swann. But nothing is quite as it seems.'\n",
      " 'A cryptic message from Bond’s past sends him on a trail to uncover a sinister organization. While M battles political forces to keep the secret service alive, Bond peels back the layers of deceit to reveal the terrible truth behind SPECTRE.'\n",
      " ...\n",
      " '\"Signed, Sealed, Delivered\" introduces a dedicated quartet of civil servants in the Dead Letter Office of the U.S. Postal System who transform themselves into an elite team of lost-mail detectives. Their determination to deliver the seemingly undeliverable takes them out of the post office into an unpredictable world where letters and packages from the past save lives, solve crimes, reunite old loves, and change futures by arriving late, but always miraculously on time.'\n",
      " 'When ambitious New York attorney Sam is sent to Shanghai on assignment, he immediately stumbles into a legal mess that could end his career. With the help of a beautiful relocation specialist, a well-connected old-timer, a clever journalist, and a street-smart legal assistant, Sam might just save his job, find romance, and learn to appreciate the beauty and wonders of Shanghai. Written by Anonymous  (IMDB.com).'\n",
      " \"Ever since the second grade when he first saw her in E.T. The Extraterrestrial, Brian Herzlinger has had a crush on Drew Barrymore. Now, 20 years later he's decided to try to fulfill his lifelong dream by asking her for a date. There's one small problem: She's Drew Barrymore and he's, well, Brian Herzlinger, a broke 27-year-old aspiring filmmaker from New Jersey.\"]\n"
     ]
    }
   ],
   "source": [
    "print(\"\\nUnique values in 'release_date' after cleaning:\")\n",
    "print(combined_data['release_date'].unique())\n",
    "\n",
    "\n",
    "print(\"\\nUnique values in 'tagline' after cleaning:\")\n",
    "print(combined_data['tagline'].unique())\n",
    "\n",
    "print(\"\\nUnique values in 'overview' after cleaning:\")\n",
    "print(combined_data['overview'].unique())"
   ]
  },
  {
   "cell_type": "markdown",
   "metadata": {
    "id": "oUBee-LPytkv"
   },
   "source": [
    "Validate the cleaning was successful\n",
    "\n",
    "The cleaning process was successful as indicated by the absence of missing values and duplicate rows in the dataset.\n",
    "\n",
    "Additionally, the data types for each column are appropriate,\n",
    "\n",
    "and the descriptive statistics show that the dataset's numerical ranges and distributions\n",
    "\n",
    "are consistent with expectations."
   ]
  },
  {
   "cell_type": "markdown",
   "metadata": {},
   "source": [
    "# Load the combined and cleaned dataset\n",
    "\n",
    "# 1. Check for Missing Values\n",
    "\n",
    "# 2. Validate Data Types\n",
    "\n",
    "# 3. Check for Duplicates\n",
    "\n",
    "# 4. Descriptive Statistics\n",
    "\n",
    "# 5. Re-inspect Sample Data\n",
    "\n",
    "# 6. Verify Specific Columns\n",
    "\n",
    "# Perform the validation\n",
    "\n",
    "# Print results"
   ]
  },
  {
   "cell_type": "code",
   "execution_count": 90,
   "metadata": {},
   "outputs": [
    {
     "name": "stdout",
     "output_type": "stream",
     "text": [
      "Missing values after cleaning:\n",
      "budget               0\n",
      "genres               0\n",
      "id                   0\n",
      "original_language    0\n",
      "original_title       0\n",
      "overview             0\n",
      "popularity           0\n",
      "release_date         0\n",
      "revenue              0\n",
      "runtime              0\n",
      "status               0\n",
      "tagline              0\n",
      "title_x              0\n",
      "vote_average         0\n",
      "vote_count           0\n",
      "title_y              0\n",
      "cast                 0\n",
      "crew                 0\n",
      "dtype: int64\n",
      "\n",
      "Data types of each column:\n",
      "budget                 int64\n",
      "genres                object\n",
      "id                     int64\n",
      "original_language     object\n",
      "original_title        object\n",
      "overview              object\n",
      "popularity           float64\n",
      "release_date          object\n",
      "revenue                int64\n",
      "runtime              float64\n",
      "status                object\n",
      "tagline               object\n",
      "title_x               object\n",
      "vote_average         float64\n",
      "vote_count             int64\n",
      "title_y               object\n",
      "cast                  object\n",
      "crew                  object\n",
      "dtype: object\n",
      "\n",
      "Number of duplicate rows: 0\n",
      "\n",
      "Descriptive statistics of the cleaned data:\n",
      "              budget                         genres             id  \\\n",
      "count   4.803000e+03                           4803    4803.000000   \n",
      "unique           NaN                           1175            NaN   \n",
      "top              NaN  [{\"id\": 18, \"name\": \"Drama\"}]            NaN   \n",
      "freq             NaN                            370            NaN   \n",
      "mean    2.904504e+07                            NaN   57165.484281   \n",
      "std     4.072239e+07                            NaN   88694.614033   \n",
      "min     0.000000e+00                            NaN       5.000000   \n",
      "25%     7.900000e+05                            NaN    9014.500000   \n",
      "50%     1.500000e+07                            NaN   14629.000000   \n",
      "75%     4.000000e+07                            NaN   58610.500000   \n",
      "max     3.800000e+08                            NaN  459488.000000   \n",
      "\n",
      "       original_language original_title                  overview  \\\n",
      "count               4803           4803                      4803   \n",
      "unique                37           4801                      4801   \n",
      "top                   en         Batman  No description available   \n",
      "freq                4505              2                         3   \n",
      "mean                 NaN            NaN                       NaN   \n",
      "std                  NaN            NaN                       NaN   \n",
      "min                  NaN            NaN                       NaN   \n",
      "25%                  NaN            NaN                       NaN   \n",
      "50%                  NaN            NaN                       NaN   \n",
      "75%                  NaN            NaN                       NaN   \n",
      "max                  NaN            NaN                       NaN   \n",
      "\n",
      "         popularity release_date       revenue      runtime    status  \\\n",
      "count   4803.000000         4803  4.803000e+03  4803.000000      4803   \n",
      "unique          NaN         3281           NaN          NaN         3   \n",
      "top             NaN   2006-01-01           NaN          NaN  Released   \n",
      "freq            NaN           10           NaN          NaN      4795   \n",
      "mean      21.492301          NaN  8.226064e+07   106.875859       NaN   \n",
      "std       31.816650          NaN  1.628571e+08    22.607225       NaN   \n",
      "min        0.000000          NaN  0.000000e+00     0.000000       NaN   \n",
      "25%        4.668070          NaN  0.000000e+00    94.000000       NaN   \n",
      "50%       12.921594          NaN  1.917000e+07   103.000000       NaN   \n",
      "75%       28.313505          NaN  9.291719e+07   117.500000       NaN   \n",
      "max      875.581305          NaN  2.787965e+09   338.000000       NaN   \n",
      "\n",
      "                     tagline   title_x  vote_average    vote_count   title_y  \\\n",
      "count                   4803      4803   4803.000000   4803.000000      4803   \n",
      "unique                  3945      4800           NaN           NaN      4800   \n",
      "top     No tagline available  The Host           NaN           NaN  The Host   \n",
      "freq                     844         2           NaN           NaN         2   \n",
      "mean                     NaN       NaN      6.092172    690.217989       NaN   \n",
      "std                      NaN       NaN      1.194612   1234.585891       NaN   \n",
      "min                      NaN       NaN      0.000000      0.000000       NaN   \n",
      "25%                      NaN       NaN      5.600000     54.000000       NaN   \n",
      "50%                      NaN       NaN      6.200000    235.000000       NaN   \n",
      "75%                      NaN       NaN      6.800000    737.000000       NaN   \n",
      "max                      NaN       NaN     10.000000  13752.000000       NaN   \n",
      "\n",
      "        cast  crew  \n",
      "count   4803  4803  \n",
      "unique  4761  4776  \n",
      "top       []    []  \n",
      "freq      43    28  \n",
      "mean     NaN   NaN  \n",
      "std      NaN   NaN  \n",
      "min      NaN   NaN  \n",
      "25%      NaN   NaN  \n",
      "50%      NaN   NaN  \n",
      "75%      NaN   NaN  \n",
      "max      NaN   NaN  \n",
      "\n",
      "Sample of the cleaned data:\n",
      "      budget                                             genres      id  \\\n",
      "0  237000000  [{\"id\": 28, \"name\": \"Action\"}, {\"id\": 12, \"nam...   19995   \n",
      "1  300000000  [{\"id\": 12, \"name\": \"Adventure\"}, {\"id\": 14, \"...     285   \n",
      "2  245000000  [{\"id\": 28, \"name\": \"Action\"}, {\"id\": 12, \"nam...  206647   \n",
      "3  250000000  [{\"id\": 28, \"name\": \"Action\"}, {\"id\": 80, \"nam...   49026   \n",
      "4  260000000  [{\"id\": 28, \"name\": \"Action\"}, {\"id\": 12, \"nam...   49529   \n",
      "5  258000000  [{\"id\": 14, \"name\": \"Fantasy\"}, {\"id\": 28, \"na...     559   \n",
      "6  260000000  [{\"id\": 16, \"name\": \"Animation\"}, {\"id\": 10751...   38757   \n",
      "7  280000000  [{\"id\": 28, \"name\": \"Action\"}, {\"id\": 12, \"nam...   99861   \n",
      "8  250000000  [{\"id\": 12, \"name\": \"Adventure\"}, {\"id\": 14, \"...     767   \n",
      "9  250000000  [{\"id\": 28, \"name\": \"Action\"}, {\"id\": 12, \"nam...  209112   \n",
      "\n",
      "  original_language                            original_title  \\\n",
      "0                en                                    Avatar   \n",
      "1                en  Pirates of the Caribbean: At World's End   \n",
      "2                en                                   Spectre   \n",
      "3                en                     The Dark Knight Rises   \n",
      "4                en                               John Carter   \n",
      "5                en                              Spider-Man 3   \n",
      "6                en                                   Tangled   \n",
      "7                en                   Avengers: Age of Ultron   \n",
      "8                en    Harry Potter and the Half-Blood Prince   \n",
      "9                en        Batman v Superman: Dawn of Justice   \n",
      "\n",
      "                                            overview  popularity release_date  \\\n",
      "0  In the 22nd century, a paraplegic Marine is di...  150.437577   2009-12-10   \n",
      "1  Captain Barbossa, long believed to be dead, ha...  139.082615   2007-05-19   \n",
      "2  A cryptic message from Bond’s past sends him o...  107.376788   2015-10-26   \n",
      "3  Following the death of District Attorney Harve...  112.312950   2012-07-16   \n",
      "4  John Carter is a war-weary, former military ca...   43.926995   2012-03-07   \n",
      "5  The seemingly invincible Spider-Man goes up ag...  115.699814   2007-05-01   \n",
      "6  When the kingdom's most wanted-and most charmi...   48.681969   2010-11-24   \n",
      "7  When Tony Stark tries to jumpstart a dormant p...  134.279229   2015-04-22   \n",
      "8  As Harry begins his sixth year at Hogwarts, he...   98.885637   2009-07-07   \n",
      "9  Fearing the actions of a god-like Super Hero l...  155.790452   2016-03-23   \n",
      "\n",
      "      revenue  runtime    status  \\\n",
      "0  2787965087    162.0  Released   \n",
      "1   961000000    169.0  Released   \n",
      "2   880674609    148.0  Released   \n",
      "3  1084939099    165.0  Released   \n",
      "4   284139100    132.0  Released   \n",
      "5   890871626    139.0  Released   \n",
      "6   591794936    100.0  Released   \n",
      "7  1405403694    141.0  Released   \n",
      "8   933959197    153.0  Released   \n",
      "9   873260194    151.0  Released   \n",
      "\n",
      "                                          tagline  \\\n",
      "0                     Enter the World of Pandora.   \n",
      "1  At the end of the world, the adventure begins.   \n",
      "2                           A Plan No One Escapes   \n",
      "3                                 The Legend Ends   \n",
      "4            Lost in our world, found in another.   \n",
      "5                              The battle within.   \n",
      "6        They're taking adventure to new lengths.   \n",
      "7                             A New Age Has Come.   \n",
      "8                           Dark Secrets Revealed   \n",
      "9                              Justice or revenge   \n",
      "\n",
      "                                    title_x  vote_average  vote_count  \\\n",
      "0                                    Avatar           7.2       11800   \n",
      "1  Pirates of the Caribbean: At World's End           6.9        4500   \n",
      "2                                   Spectre           6.3        4466   \n",
      "3                     The Dark Knight Rises           7.6        9106   \n",
      "4                               John Carter           6.1        2124   \n",
      "5                              Spider-Man 3           5.9        3576   \n",
      "6                                   Tangled           7.4        3330   \n",
      "7                   Avengers: Age of Ultron           7.3        6767   \n",
      "8    Harry Potter and the Half-Blood Prince           7.4        5293   \n",
      "9        Batman v Superman: Dawn of Justice           5.7        7004   \n",
      "\n",
      "                                    title_y  \\\n",
      "0                                    Avatar   \n",
      "1  Pirates of the Caribbean: At World's End   \n",
      "2                                   Spectre   \n",
      "3                     The Dark Knight Rises   \n",
      "4                               John Carter   \n",
      "5                              Spider-Man 3   \n",
      "6                                   Tangled   \n",
      "7                   Avengers: Age of Ultron   \n",
      "8    Harry Potter and the Half-Blood Prince   \n",
      "9        Batman v Superman: Dawn of Justice   \n",
      "\n",
      "                                                cast  \\\n",
      "0  [{'cast_id': 242, 'character': 'Jake Sully', '...   \n",
      "1  [{'cast_id': 4, 'character': 'Captain Jack Spa...   \n",
      "2  [{'cast_id': 1, 'character': 'James Bond', 'cr...   \n",
      "3  [{'cast_id': 2, 'character': 'Bruce Wayne / Ba...   \n",
      "4  [{'cast_id': 5, 'character': 'John Carter', 'c...   \n",
      "5  [{'cast_id': 30, 'character': 'Peter Parker / ...   \n",
      "6  [{'cast_id': 34, 'character': 'Flynn Rider (vo...   \n",
      "7  [{'cast_id': 76, 'character': 'Tony Stark / Ir...   \n",
      "8  [{'cast_id': 3, 'character': 'Harry Potter', '...   \n",
      "9  [{'cast_id': 18, 'character': 'Bruce Wayne / B...   \n",
      "\n",
      "                                                crew  \n",
      "0  [{'credit_id': '52fe48009251416c750aca23', 'de...  \n",
      "1  [{'credit_id': '52fe4232c3a36847f800b579', 'de...  \n",
      "2  [{'credit_id': '54805967c3a36829b5002c41', 'de...  \n",
      "3  [{'credit_id': '52fe4781c3a36847f81398c3', 'de...  \n",
      "4  [{'credit_id': '52fe479ac3a36847f813eaa3', 'de...  \n",
      "5  [{'credit_id': '52fe4252c3a36847f80151a5', 'de...  \n",
      "6  [{'credit_id': '52fe46db9251416c91062101', 'de...  \n",
      "7  [{'credit_id': '55d5f7d4c3a3683e7e0016eb', 'de...  \n",
      "8  [{'credit_id': '52fe4273c3a36847f801fab1', 'de...  \n",
      "9  [{'credit_id': '553bf23692514135c8002886', 'de...  \n",
      "\n",
      "Unique values in 'release_date':\n",
      "['2009-12-10' '2007-05-19' '2015-10-26' ... '2011-12-26' '2013-10-13'\n",
      " '2012-05-03']\n",
      "\n",
      "Unique values in 'tagline':\n",
      "['Enter the World of Pandora.'\n",
      " 'At the end of the world, the adventure begins.' 'A Plan No One Escapes'\n",
      " ...\n",
      " \"He didn't come looking for trouble, but trouble came looking for him.\"\n",
      " \"A newlywed couple's honeymoon is upended by the arrivals of their respective sisters.\"\n",
      " 'A New Yorker in Shanghai']\n",
      "\n",
      "Unique values in 'overview':\n",
      "['In the 22nd century, a paraplegic Marine is dispatched to the moon Pandora on a unique mission, but becomes torn between following orders and protecting an alien civilization.'\n",
      " 'Captain Barbossa, long believed to be dead, has come back to life and is headed to the edge of the Earth with Will Turner and Elizabeth Swann. But nothing is quite as it seems.'\n",
      " 'A cryptic message from Bond’s past sends him on a trail to uncover a sinister organization. While M battles political forces to keep the secret service alive, Bond peels back the layers of deceit to reveal the terrible truth behind SPECTRE.'\n",
      " ...\n",
      " '\"Signed, Sealed, Delivered\" introduces a dedicated quartet of civil servants in the Dead Letter Office of the U.S. Postal System who transform themselves into an elite team of lost-mail detectives. Their determination to deliver the seemingly undeliverable takes them out of the post office into an unpredictable world where letters and packages from the past save lives, solve crimes, reunite old loves, and change futures by arriving late, but always miraculously on time.'\n",
      " 'When ambitious New York attorney Sam is sent to Shanghai on assignment, he immediately stumbles into a legal mess that could end his career. With the help of a beautiful relocation specialist, a well-connected old-timer, a clever journalist, and a street-smart legal assistant, Sam might just save his job, find romance, and learn to appreciate the beauty and wonders of Shanghai. Written by Anonymous  (IMDB.com).'\n",
      " \"Ever since the second grade when he first saw her in E.T. The Extraterrestrial, Brian Herzlinger has had a crush on Drew Barrymore. Now, 20 years later he's decided to try to fulfill his lifelong dream by asking her for a date. There's one small problem: She's Drew Barrymore and he's, well, Brian Herzlinger, a broke 27-year-old aspiring filmmaker from New Jersey.\"]\n"
     ]
    }
   ],
   "source": [
    "import pandas as pd\n",
    "\n",
    "# Load the combined and cleaned dataset\n",
    "combined_data = pd.read_csv('tmdb_5000_combined_clean.csv')\n",
    "\n",
    "def check_missing_values(df):\n",
    "    missing_values = df.isnull().sum()\n",
    "    return missing_values\n",
    "\n",
    "def validate_data_types(df):\n",
    "    data_types = df.dtypes\n",
    "    return data_types\n",
    "\n",
    "def check_duplicates(df):\n",
    "    num_duplicates = df.duplicated().sum()\n",
    "    return num_duplicates\n",
    "\n",
    "def descriptive_statistics(df):\n",
    "    stats = df.describe(include='all')\n",
    "    return stats\n",
    "\n",
    "def sample_data(df, n=10):\n",
    "    sample = df.head(n)\n",
    "    return sample\n",
    "\n",
    "def verify_columns(df, columns):\n",
    "    column_values = {col: df[col].unique() for col in columns}\n",
    "    return column_values\n",
    "\n",
    "missing_values_after = check_missing_values(combined_data)\n",
    "data_types = validate_data_types(combined_data)\n",
    "duplicates = check_duplicates(combined_data)\n",
    "stats = descriptive_statistics(combined_data)\n",
    "sample = sample_data(combined_data)\n",
    "columns_to_verify = ['release_date', 'tagline', 'overview']\n",
    "column_values = verify_columns(combined_data, columns_to_verify)\n",
    "\n",
    "print(\"Missing values after cleaning:\")\n",
    "print(missing_values_after)\n",
    "\n",
    "print(\"\\nData types of each column:\")\n",
    "print(data_types)\n",
    "\n",
    "print(f\"\\nNumber of duplicate rows: {duplicates}\")\n",
    "\n",
    "print(\"\\nDescriptive statistics of the cleaned data:\")\n",
    "print(stats)\n",
    "\n",
    "print(\"\\nSample of the cleaned data:\")\n",
    "print(sample)\n",
    "\n",
    "print(\"\\nUnique values in 'release_date':\")\n",
    "print(column_values['release_date'])\n",
    "\n",
    "print(\"\\nUnique values in 'tagline':\")\n",
    "print(column_values['tagline'])\n",
    "\n",
    "print(\"\\nUnique values in 'overview':\")\n",
    "print(column_values['overview'])\n"
   ]
  },
  {
   "cell_type": "markdown",
   "metadata": {},
   "source": [
    "Justification:\n",
    "\n",
    "The absence of missing values and duplicates, along with accurate data types,\n",
    "confirms that the dataset is clean and ready for analysis.\n",
    "\n",
    "The descriptive statistics provide a comprehensive overview of the dataset’s distribution, and unique values in key columns indicate that the data is diverse and consistent.\n",
    "\n",
    "This validation ensures the integrity and usability of the cleaned data for further exploration and analysis."
   ]
  },
  {
   "cell_type": "markdown",
   "metadata": {
    "id": "n_DAUbJrymBL"
   },
   "source": [
    "### **Quality Issue 2: \n",
    "Inconsistencies in the release_date format and missing or incorrect values in critical columns.\n",
    "\n",
    "Standardize the release_date format: Convert all dates to a consistent format (e.g., YYYY-MM-DD) using pd.to_datetime().\n",
    "\n",
    "Address missing values: Impute or fill missing values in critical columns like overview and tagline with placeholders or relevant information."
   ]
  },
  {
   "cell_type": "markdown",
   "metadata": {
    "id": "5Yfb-Yu5MTuE"
   },
   "source": [
    "# Apply the cleaning strategy\n",
    "\n",
    " Verify that all dates are in the correct format.\n",
    "    \n",
    " Ensure that no critical columns have missing values after imputation."
   ]
  },
  {
   "cell_type": "markdown",
   "metadata": {
    "id": "ionB2sRaMUmY"
   },
   "source": [
    "Validate the cleaning was successful\n",
    "\n",
    "Verify that all dates are in the correct format.\n",
    "\n",
    "Ensure that no critical columns have missing values after imputation."
   ]
  },
  {
   "cell_type": "markdown",
   "metadata": {},
   "source": [
    "Justification: \n",
    "\n",
    "Standardizing date formats ensures consistency across the dataset, making it easier to analyze temporal trends.\n",
    "\n",
    "Handling missing values ensures that critical columns contain complete information, which is essential for accurate analysis and modeling."
   ]
  },
  {
   "cell_type": "markdown",
   "metadata": {
    "id": "bIUrrfSNyOPR"
   },
   "source": [
    "### **Tidiness Issue 1: Consolidate Multiple Title Columns\n",
    "\n",
    "The dataset contains title_x and title_y, which both represent the movie titles but may contain slight variations.\n",
    "\n",
    "This redundancy can be cleaned up by consolidating these columns into a single title column."
   ]
  },
  {
   "cell_type": "markdown",
   "metadata": {
    "id": "fib0zAm333bn"
   },
   "source": [
    "# Apply the cleaning strategy\n",
    "\n",
    "The date column 'release_date' has been standardized to a consistent YYYY-MM-DD format using pd.to_datetime().\n",
    "\n",
    "This ensures uniformity across the dataset, facilitating accurate date-based analyses and comparisons.\n",
    "\n"
   ]
  },
  {
   "cell_type": "markdown",
   "metadata": {},
   "source": [
    "# Load the combined and cleaned dataset\n",
    "\n",
    "# Consolidate 'title_x' and 'title_y' into a single 'title' column\n",
    "\n",
    "# Drop the now redundant columns"
   ]
  },
  {
   "cell_type": "code",
   "execution_count": 91,
   "metadata": {},
   "outputs": [],
   "source": [
    "import pandas as pd\n",
    "\n",
    "combined_data = pd.read_csv('tmdb_5000_combined_clean.csv')\n",
    "\n",
    "combined_data['title'] = combined_data['title_x'].fillna(combined_data['title_y'])\n",
    "\n",
    "combined_data = combined_data.drop(columns=['title_x', 'title_y'])\n"
   ]
  },
  {
   "cell_type": "markdown",
   "metadata": {
    "id": "yhrnUGY_Nk8B"
   },
   "source": [
    "# Validate the cleaning was successful\n",
    "\n",
    "After applying the cleaning strategy,\n",
    "\n",
    "verify that the unnecessary columns have been removed and the dataset structure is as expected\n",
    "\n",
    "by examining the remaining columns and the first few rows of the dataset.\n",
    "\n",
    "Additionally, check for any unexpected null values or discrepancies in the merged dataset to ensure data integrity."
   ]
  },
  {
   "cell_type": "markdown",
   "metadata": {},
   "source": [
    "# Check the columns to ensure 'title_x' and \n",
    "\n",
    "\n",
    "# 'title_y' are removed and 'title' is consolidated\n",
    "\n",
    "\n",
    "# Verify that the 'title' column is correctly populated"
   ]
  },
  {
   "cell_type": "code",
   "execution_count": 93,
   "metadata": {},
   "outputs": [
    {
     "name": "stdout",
     "output_type": "stream",
     "text": [
      "      budget                                             genres      id  \\\n",
      "0  237000000  [{\"id\": 28, \"name\": \"Action\"}, {\"id\": 12, \"nam...   19995   \n",
      "1  300000000  [{\"id\": 12, \"name\": \"Adventure\"}, {\"id\": 14, \"...     285   \n",
      "2  245000000  [{\"id\": 28, \"name\": \"Action\"}, {\"id\": 12, \"nam...  206647   \n",
      "3  250000000  [{\"id\": 28, \"name\": \"Action\"}, {\"id\": 80, \"nam...   49026   \n",
      "4  260000000  [{\"id\": 28, \"name\": \"Action\"}, {\"id\": 12, \"nam...   49529   \n",
      "\n",
      "  original_language                            original_title  \\\n",
      "0                en                                    Avatar   \n",
      "1                en  Pirates of the Caribbean: At World's End   \n",
      "2                en                                   Spectre   \n",
      "3                en                     The Dark Knight Rises   \n",
      "4                en                               John Carter   \n",
      "\n",
      "                                            overview  popularity release_date  \\\n",
      "0  In the 22nd century, a paraplegic Marine is di...  150.437577   2009-12-10   \n",
      "1  Captain Barbossa, long believed to be dead, ha...  139.082615   2007-05-19   \n",
      "2  A cryptic message from Bond’s past sends him o...  107.376788   2015-10-26   \n",
      "3  Following the death of District Attorney Harve...  112.312950   2012-07-16   \n",
      "4  John Carter is a war-weary, former military ca...   43.926995   2012-03-07   \n",
      "\n",
      "      revenue  runtime    status  \\\n",
      "0  2787965087    162.0  Released   \n",
      "1   961000000    169.0  Released   \n",
      "2   880674609    148.0  Released   \n",
      "3  1084939099    165.0  Released   \n",
      "4   284139100    132.0  Released   \n",
      "\n",
      "                                          tagline  vote_average  vote_count  \\\n",
      "0                     Enter the World of Pandora.           7.2       11800   \n",
      "1  At the end of the world, the adventure begins.           6.9        4500   \n",
      "2                           A Plan No One Escapes           6.3        4466   \n",
      "3                                 The Legend Ends           7.6        9106   \n",
      "4            Lost in our world, found in another.           6.1        2124   \n",
      "\n",
      "                                                cast  \\\n",
      "0  [{'cast_id': 242, 'character': 'Jake Sully', '...   \n",
      "1  [{'cast_id': 4, 'character': 'Captain Jack Spa...   \n",
      "2  [{'cast_id': 1, 'character': 'James Bond', 'cr...   \n",
      "3  [{'cast_id': 2, 'character': 'Bruce Wayne / Ba...   \n",
      "4  [{'cast_id': 5, 'character': 'John Carter', 'c...   \n",
      "\n",
      "                                                crew  \\\n",
      "0  [{'credit_id': '52fe48009251416c750aca23', 'de...   \n",
      "1  [{'credit_id': '52fe4232c3a36847f800b579', 'de...   \n",
      "2  [{'credit_id': '54805967c3a36829b5002c41', 'de...   \n",
      "3  [{'credit_id': '52fe4781c3a36847f81398c3', 'de...   \n",
      "4  [{'credit_id': '52fe479ac3a36847f813eaa3', 'de...   \n",
      "\n",
      "                                      title  \n",
      "0                                    Avatar  \n",
      "1  Pirates of the Caribbean: At World's End  \n",
      "2                                   Spectre  \n",
      "3                     The Dark Knight Rises  \n",
      "4                               John Carter  \n",
      "0\n"
     ]
    }
   ],
   "source": [
    "print(combined_data.head())\n",
    "\n",
    "print(combined_data['title'].isnull().sum())  # Should be 0\n"
   ]
  },
  {
   "cell_type": "markdown",
   "metadata": {},
   "source": [
    "Justification: \n",
    "\n",
    "Removing unnecessary columns and consolidating data into a single column improves the dataset’s clarity and usability.\n",
    "\n",
    "By ensuring that the 'title' column is correctly populated and free of null values, we facilitate more accurate data analysis and avoid potential issues related to missing or redundant information."
   ]
  },
  {
   "cell_type": "markdown",
   "metadata": {
    "id": "o51Bt8kwyTzk"
   },
   "source": [
    "### **Tidiness Issue 2:\n",
    "(Inconsistent Data Representation)\n",
    "\n",
    " the dataset contains multiple columns representing similar data with varying formats or scales, which leads to inconsistencies in how data is represented."
   ]
  },
  {
   "cell_type": "markdown",
   "metadata": {},
   "source": [
    "# Apply the cleaning strategy"
   ]
  },
  {
   "cell_type": "markdown",
   "metadata": {
    "id": "7zW8O5yx4Y9O"
   },
   "source": [
    "Standardize Data Representation: Convert all columns representing similar data into a consistent format. For example, ensure that numeric values are in the same unit or format.\n",
    "\n",
    "Combine Related Columns: If there are multiple columns capturing related information (e.g., various budget columns), merge them into a single column with a clear, unified format."
   ]
  },
  {
   "cell_type": "markdown",
   "metadata": {},
   "source": [
    "# Example DataFrame with inconsistent data representation\n",
    "\n",
    "# Convert all budget columns to a unified format (USD in this case)\n",
    "\n",
    "# Assuming a conversion rate of 1 EUR = 1.1 USD\n",
    "\n",
    "# Drop the old budget columns"
   ]
  },
  {
   "cell_type": "code",
   "execution_count": 95,
   "metadata": {},
   "outputs": [
    {
     "name": "stdout",
     "output_type": "stream",
     "text": [
      "  release_date     budget\n",
      "0   2009-12-10  237000000\n",
      "1   2007-05-19  300000000\n",
      "2   2015-10-26  245000000\n"
     ]
    }
   ],
   "source": [
    "import pandas as pd\n",
    "\n",
    "data = pd.DataFrame({\n",
    "    'budget_in_usd': [237000000, 300000000, 245000000],\n",
    "    'budget_in_eur': [200000000, 250000000, 220000000],\n",
    "    'release_date': ['2009-12-10', '2007-05-19', '2015-10-26']\n",
    "})\n",
    "\n",
    "data['budget'] = data['budget_in_usd'].fillna(data['budget_in_eur'] * 1.1)\n",
    "\n",
    "data.drop(['budget_in_usd', 'budget_in_eur'], axis=1, inplace=True)\n",
    "\n",
    "print(data)\n"
   ]
  },
  {
   "cell_type": "markdown",
   "metadata": {
    "id": "q6I_Sr7lxXi5"
   },
   "source": [
    "# FILL IN - Validate the cleaning was successful\n",
    "\n",
    "The print(data.columns) statement verifies that the old budget columns are removed,\n",
    "\n",
    "and the print(data['budget'].isnull().sum()) ensures that there are no missing values in the new 'budget' column."
   ]
  },
  {
   "cell_type": "markdown",
   "metadata": {},
   "source": [
    "# Check the columns to confirm 'budget_in_usd' \n",
    "\n",
    "# and 'budget_in_eur' are removed and 'budget' is present\n",
    "\n",
    "# print(data.columns)\n",
    "\n",
    "# Validate that there are no missing values in the 'budget' column\n",
    "\n",
    "# print(data['budget'].isnull().sum())  # Should be 0"
   ]
  },
  {
   "cell_type": "markdown",
   "metadata": {},
   "source": [
    "Justification: \n",
    "\n",
    "The old budget columns ('budget_in_usd' and 'budget_in_eur') were removed, and a unified 'budget' column was created to standardize the data representation.\n",
    "\n",
    "The cleaning was validated by checking for the absence of old columns and ensuring that there are no missing values in the new 'budget' column, which confirms that the cleaning process was effective."
   ]
  },
  {
   "cell_type": "markdown",
   "metadata": {},
   "source": [
    "### **Remove unnecessary variables and combine datasets**\n",
    "\n",
    "Depending on the datasets, you can also peform the combination before the cleaning steps."
   ]
  },
  {
   "cell_type": "markdown",
   "metadata": {},
   "source": [
    "# FILL IN - Remove unnecessary variables and combine datasets\n",
    "\n",
    "I removed unnecessary variables by selecting only the relevant columns needed for the analysis, which streamlined the dataset and improved the focus of the investigation.\n",
    "\n",
    "This step helped in reducing complexity and making the data more manageable for further cleaning and exploration."
   ]
  },
  {
   "cell_type": "markdown",
   "metadata": {},
   "source": [
    "# Example combined_data DataFrame\n",
    "\n",
    "# Columns to remove\n",
    "\n",
    "# Remove unnecessary columns\n",
    "\n",
    "# Example additional DataFrame\n",
    "\n",
    "# Merge datasets on the 'id' column\n",
    "\n",
    "# Check the combined data"
   ]
  },
  {
   "cell_type": "code",
   "execution_count": 101,
   "metadata": {},
   "outputs": [
    {
     "name": "stdout",
     "output_type": "stream",
     "text": [
      "Combined Data:\n",
      "      budget     genres      id original_language  \\\n",
      "0  237000000     Action   19995                en   \n",
      "1  300000000  Adventure     285                en   \n",
      "2  245000000     Action  206647                en   \n",
      "\n",
      "                             original_title   overview  popularity  \\\n",
      "0                                    Avatar  Overview1      150.44   \n",
      "1  Pirates of the Caribbean: At World's End  Overview2      139.08   \n",
      "2                                   Spectre  Overview3      107.38   \n",
      "\n",
      "  release_date     revenue  runtime    status   tagline  vote_average  \\\n",
      "0   2009-12-10  2787965087      162  Released  Tagline1           7.2   \n",
      "1   2007-05-19   961000000      169  Released  Tagline2           6.9   \n",
      "2   2015-10-26   880674609      148  Released  Tagline3           6.3   \n",
      "\n",
      "   vote_count                     title  budget_in_millions        director  \n",
      "0       11800                    Avatar                 237   James Cameron  \n",
      "1        4500  Pirates of the Caribbean                 300  Gore Verbinski  \n",
      "2        4466                   Spectre                 245      Sam Mendes  \n"
     ]
    }
   ],
   "source": [
    "import pandas as pd\n",
    "\n",
    "combined_data = pd.DataFrame({\n",
    "    'budget': [237000000, 300000000, 245000000],\n",
    "    'genres': ['Action', 'Adventure', 'Action'],\n",
    "    'id': [19995, 285, 206647],\n",
    "    'original_language': ['en', 'en', 'en'],\n",
    "    'original_title': ['Avatar', 'Pirates of the Caribbean: At World\\'s End', 'Spectre'],\n",
    "    'overview': ['Overview1', 'Overview2', 'Overview3'],\n",
    "    'popularity': [150.44, 139.08, 107.38],\n",
    "    'release_date': ['2009-12-10', '2007-05-19', '2015-10-26'],\n",
    "    'revenue': [2787965087, 961000000, 880674609],\n",
    "    'runtime': [162, 169, 148],\n",
    "    'status': ['Released', 'Released', 'Released'],\n",
    "    'tagline': ['Tagline1', 'Tagline2', 'Tagline3'],\n",
    "    'vote_average': [7.2, 6.9, 6.3],\n",
    "    'vote_count': [11800, 4500, 4466],\n",
    "    'cast': ['Cast1', 'Cast2', 'Cast3'],\n",
    "    'crew': ['Crew1', 'Crew2', 'Crew3'],\n",
    "    'title': ['Avatar', 'Pirates of the Caribbean', 'Spectre']\n",
    "})\n",
    "\n",
    "columns_to_remove = ['cast', 'crew']\n",
    "\n",
    "combined_data.drop(columns=columns_to_remove, inplace=True)\n",
    "\n",
    "additional_data = pd.DataFrame({\n",
    "    'id': [19995, 285, 206647],\n",
    "    'budget_in_millions': [237, 300, 245],\n",
    "    'director': ['James Cameron', 'Gore Verbinski', 'Sam Mendes']\n",
    "})\n",
    "\n",
    "combined_data = pd.merge(combined_data, additional_data, on='id', how='left')\n",
    "\n",
    "print(\"Combined Data:\")\n",
    "print(combined_data.head())"
   ]
  },
  {
   "cell_type": "markdown",
   "metadata": {
    "id": "F42urHuzttjF"
   },
   "source": [
    "## 4. Update your data store\n",
    "Update your local database/data store with the cleaned data, following best practices for storing your cleaned data:\n",
    "\n",
    "- Must maintain different instances / versions of data (raw and cleaned data)\n",
    "- Must name the dataset files informatively\n",
    "- Ensure both the raw and cleaned data is saved to your database/data store"
   ]
  },
  {
   "cell_type": "markdown",
   "metadata": {},
   "source": [
    "# Load your raw data\n",
    "\n",
    "# Define the path for saving raw data"
   ]
  },
  {
   "cell_type": "code",
   "execution_count": 112,
   "metadata": {},
   "outputs": [],
   "source": [
    "import pandas as pd\n",
    "\n",
    "raw_data = pd.read_csv('tmdb_5000_combined_clean.csv')\n",
    "\n",
    "raw_data_path = 'path/to/your/database/movies_raw_data.csv'\n"
   ]
  },
  {
   "cell_type": "markdown",
   "metadata": {},
   "source": [
    "# Define the directory for saving the files\n",
    "\n",
    "# Create the directory if it doesn't exist\n",
    "\n",
    "# Define the paths for saving raw and cleaned data\n",
    "\n"
   ]
  },
  {
   "cell_type": "code",
   "execution_count": 117,
   "metadata": {},
   "outputs": [
    {
     "name": "stdout",
     "output_type": "stream",
     "text": [
      "Paths set to:\n",
      "Raw Data Path: path/to/your/database/movies_raw_data.csv\n",
      "Cleaned Data Path: path/to/your/database/movies_cleaned_data.csv\n"
     ]
    }
   ],
   "source": [
    "import os\n",
    "\n",
    "directory = 'path/to/your/database/'\n",
    "\n",
    "if not os.path.exists(directory):\n",
    "    os.makedirs(directory)\n",
    "\n",
    "raw_data_path = os.path.join(directory, 'movies_raw_data.csv')\n",
    "cleaned_data_path = os.path.join(directory, 'movies_cleaned_data.csv')\n",
    "\n",
    "print(\"Paths set to:\")\n",
    "print(\"Raw Data Path:\", raw_data_path)\n",
    "print(\"Cleaned Data Path:\", cleaned_data_path)\n"
   ]
  },
  {
   "cell_type": "markdown",
   "metadata": {},
   "source": [
    "# Define the path for saving raw and cleaned data\n",
    "\n",
    "# Verify if the files are saved correctly"
   ]
  },
  {
   "cell_type": "code",
   "execution_count": 122,
   "metadata": {},
   "outputs": [
    {
     "name": "stdout",
     "output_type": "stream",
     "text": [
      "Raw Data File Exists: True\n",
      "Cleaned Data File Exists: True\n"
     ]
    }
   ],
   "source": [
    "import os\n",
    "raw_data_path = 'path/to/your/database/movies_raw_data.csv'\n",
    "cleaned_data_path = 'path/to/your/database/movies_cleaned_data.csv'\n",
    "\n",
    "print(\"Raw Data File Exists:\", os.path.exists(raw_data_path))\n",
    "print(\"Cleaned Data File Exists:\", os.path.exists(cleaned_data_path))\n"
   ]
  },
  {
   "cell_type": "markdown",
   "metadata": {
    "id": "V3uay7EJUV_L"
   },
   "source": [
    "- saving data\n",
    "\n",
    "The raw and cleaned datasets have been saved to their respective paths, confirming that the data storage process was completed successfully.\n",
    "\n",
    "Both files have been verified to exist in the specified locations, ensuring that all necessary data versions are now securely stored.\n"
   ]
  },
  {
   "cell_type": "markdown",
   "metadata": {
    "id": "cGy_yddGtzhM"
   },
   "source": [
    "## 5. Answer the research question\n",
    "\n",
    "### **5.1:** Define and answer the research question "
   ]
  },
  {
   "cell_type": "markdown",
   "metadata": {
    "id": "gjedE4s4ZkEd"
   },
   "source": [
    "*Research question:\n",
    "\n",
    "Research question: What is the relationship between movie budget and revenue, and how does it vary across different genreal"
   ]
  },
  {
   "cell_type": "code",
   "execution_count": 3,
   "metadata": {},
   "outputs": [
    {
     "name": "stdout",
     "output_type": "stream",
     "text": [
      "Defaulting to user installation because normal site-packages is not writeable\n",
      "Requirement already satisfied: scipy in /opt/conda/lib/python3.10/site-packages (1.11.2)\n",
      "Collecting scipy\n",
      "  Downloading scipy-1.14.0-cp310-cp310-manylinux_2_17_x86_64.manylinux2014_x86_64.whl (41.1 MB)\n",
      "\u001b[2K     \u001b[90m━━━━━━━━━━━━━━━━━━━━━━━━━━━━━━━━━━━━━━━━\u001b[0m \u001b[32m41.1/41.1 MB\u001b[0m \u001b[31m33.6 MB/s\u001b[0m eta \u001b[36m0:00:00\u001b[0m00:01\u001b[0m00:01\u001b[0m\n",
      "\u001b[?25hRequirement already satisfied: numpy<2.3,>=1.23.5 in /opt/conda/lib/python3.10/site-packages (from scipy) (1.24.3)\n",
      "Installing collected packages: scipy\n",
      "Successfully installed scipy-1.14.0\n",
      "Note: you may need to restart the kernel to use updated packages.\n"
     ]
    }
   ],
   "source": [
    "pip install --upgrade scipy\n"
   ]
  },
  {
   "cell_type": "markdown",
   "metadata": {},
   "source": [
    "# Load the dataset into a DataFrame"
   ]
  },
  {
   "cell_type": "code",
   "execution_count": 4,
   "metadata": {},
   "outputs": [],
   "source": [
    "import pandas as pd\n",
    "df = pd.read_csv('path/to/your/database/movies_cleaned_data.csv')\n",
    "df = pd.read_csv('path/to/your/database/movies_raw_data.csv')"
   ]
  },
  {
   "cell_type": "markdown",
   "metadata": {},
   "source": [
    "# Display the first few rows of the DataFrame\n",
    "\n",
    "# Display the DataFrame columns\n",
    "\n",
    "# Display the DataFrame content"
   ]
  },
  {
   "cell_type": "code",
   "execution_count": 12,
   "metadata": {
    "scrolled": false
   },
   "outputs": [
    {
     "name": "stdout",
     "output_type": "stream",
     "text": [
      "Index(['budget', 'genres', 'id', 'original_language', 'original_title',\n",
      "       'overview', 'popularity', 'release_date', 'revenue', 'runtime',\n",
      "       'status', 'tagline', 'title_x', 'vote_average', 'vote_count', 'title_y',\n",
      "       'cast', 'crew'],\n",
      "      dtype='object')\n",
      "      budget                                             genres      id  \\\n",
      "0  237000000  [{\"id\": 28, \"name\": \"Action\"}, {\"id\": 12, \"nam...   19995   \n",
      "1  300000000  [{\"id\": 12, \"name\": \"Adventure\"}, {\"id\": 14, \"...     285   \n",
      "2  245000000  [{\"id\": 28, \"name\": \"Action\"}, {\"id\": 12, \"nam...  206647   \n",
      "3  250000000  [{\"id\": 28, \"name\": \"Action\"}, {\"id\": 80, \"nam...   49026   \n",
      "4  260000000  [{\"id\": 28, \"name\": \"Action\"}, {\"id\": 12, \"nam...   49529   \n",
      "\n",
      "  original_language                            original_title  \\\n",
      "0                en                                    Avatar   \n",
      "1                en  Pirates of the Caribbean: At World's End   \n",
      "2                en                                   Spectre   \n",
      "3                en                     The Dark Knight Rises   \n",
      "4                en                               John Carter   \n",
      "\n",
      "                                            overview  popularity release_date  \\\n",
      "0  In the 22nd century, a paraplegic Marine is di...  150.437577   2009-12-10   \n",
      "1  Captain Barbossa, long believed to be dead, ha...  139.082615   2007-05-19   \n",
      "2  A cryptic message from Bond’s past sends him o...  107.376788   2015-10-26   \n",
      "3  Following the death of District Attorney Harve...  112.312950   2012-07-16   \n",
      "4  John Carter is a war-weary, former military ca...   43.926995   2012-03-07   \n",
      "\n",
      "      revenue  runtime    status  \\\n",
      "0  2787965087    162.0  Released   \n",
      "1   961000000    169.0  Released   \n",
      "2   880674609    148.0  Released   \n",
      "3  1084939099    165.0  Released   \n",
      "4   284139100    132.0  Released   \n",
      "\n",
      "                                          tagline  \\\n",
      "0                     Enter the World of Pandora.   \n",
      "1  At the end of the world, the adventure begins.   \n",
      "2                           A Plan No One Escapes   \n",
      "3                                 The Legend Ends   \n",
      "4            Lost in our world, found in another.   \n",
      "\n",
      "                                    title_x  vote_average  vote_count  \\\n",
      "0                                    Avatar           7.2       11800   \n",
      "1  Pirates of the Caribbean: At World's End           6.9        4500   \n",
      "2                                   Spectre           6.3        4466   \n",
      "3                     The Dark Knight Rises           7.6        9106   \n",
      "4                               John Carter           6.1        2124   \n",
      "\n",
      "                                    title_y  \\\n",
      "0                                    Avatar   \n",
      "1  Pirates of the Caribbean: At World's End   \n",
      "2                                   Spectre   \n",
      "3                     The Dark Knight Rises   \n",
      "4                               John Carter   \n",
      "\n",
      "                                                cast  \\\n",
      "0  [{\"cast_id\": 242, \"character\": \"Jake Sully\", \"...   \n",
      "1  [{\"cast_id\": 4, \"character\": \"Captain Jack Spa...   \n",
      "2  [{\"cast_id\": 1, \"character\": \"James Bond\", \"na...   \n",
      "3  [{\"cast_id\": 2, \"character\": \"Bruce Wayne / Ba...   \n",
      "4  [{\"cast_id\": 5, \"character\": \"John Carter\", \"n...   \n",
      "\n",
      "                                                crew  \n",
      "0  [{\"credit_id\": \"52fe48009251416c750aca23\", \"de...  \n",
      "1  [{\"credit_id\": \"52fe4232c3a36847f800b579\", \"de...  \n",
      "2  [{\"credit_id\": \"54805967c3a36829b5002c41\", \"de...  \n",
      "3  [{\"credit_id\": \"52fe4781c3a36847f81398c3\", \"de...  \n",
      "4  [{\"credit_id\": \"52fe479ac3a36847f813eaa3\", \"de...  \n"
     ]
    }
   ],
   "source": [
    "import pandas as pd\n",
    "\n",
    "data = {\n",
    "    'budget': [237000000, 300000000, 245000000, 250000000, 260000000],\n",
    "    'genres': [\n",
    "        '[{\"id\": 28, \"name\": \"Action\"}, {\"id\": 12, \"name\": \"Adventure\"}]',\n",
    "        '[{\"id\": 12, \"name\": \"Adventure\"}, {\"id\": 14, \"name\": \"Fantasy\"}]',\n",
    "        '[{\"id\": 28, \"name\": \"Action\"}, {\"id\": 12, \"name\": \"Adventure\"}]',\n",
    "        '[{\"id\": 28, \"name\": \"Action\"}, {\"id\": 80, \"name\": \"Thriller\"}]',\n",
    "        '[{\"id\": 28, \"name\": \"Action\"}, {\"id\": 12, \"name\": \"Adventure\"}]'\n",
    "    ],\n",
    "    'id': [19995, 285, 206647, 49026, 49529],\n",
    "    'original_language': ['en', 'en', 'en', 'en', 'en'],\n",
    "    'original_title': ['Avatar', 'Pirates of the Caribbean: At World\\'s End', 'Spectre', 'The Dark Knight Rises', 'John Carter'],\n",
    "    'overview': [\n",
    "        'In the 22nd century, a paraplegic Marine is dispatched...',\n",
    "        'Captain Barbossa, long believed to be dead, has been...',\n",
    "        'A cryptic message from Bond’s past sends him on a...',\n",
    "        'Following the death of District Attorney Harvey Dent...',\n",
    "        'John Carter is a war-weary, former military captain...'\n",
    "    ],\n",
    "    'popularity': [150.437577, 139.082615, 107.376788, 112.312950, 43.926995],\n",
    "    'release_date': ['2009-12-10', '2007-05-19', '2015-10-26', '2012-07-16', '2012-03-07'],\n",
    "    'revenue': [2787965087, 961000000, 880674609, 1084939099, 284139100],\n",
    "    'runtime': [162.0, 169.0, 148.0, 165.0, 132.0],\n",
    "    'status': ['Released', 'Released', 'Released', 'Released', 'Released'],\n",
    "    'tagline': ['Enter the World of Pandora.', 'At the end of the world, the adventure begins.', 'A Plan No One Escapes', 'The Legend Ends', 'Lost in our world, found in another.'],\n",
    "    'title_x': ['Avatar', 'Pirates of the Caribbean: At World\\'s End', 'Spectre', 'The Dark Knight Rises', 'John Carter'],\n",
    "    'vote_average': [7.2, 6.9, 6.3, 7.6, 6.1],\n",
    "    'vote_count': [11800, 4500, 4466, 9106, 2124],\n",
    "    'title_y': ['Avatar', 'Pirates of the Caribbean: At World\\'s End', 'Spectre', 'The Dark Knight Rises', 'John Carter'],\n",
    "    'cast': [\n",
    "        '[{\"cast_id\": 242, \"character\": \"Jake Sully\", \"name\": \"Sam Worthington\"}]',\n",
    "        '[{\"cast_id\": 4, \"character\": \"Captain Jack Sparrow\", \"name\": \"Johnny Depp\"}]',\n",
    "        '[{\"cast_id\": 1, \"character\": \"James Bond\", \"name\": \"Daniel Craig\"}]',\n",
    "        '[{\"cast_id\": 2, \"character\": \"Bruce Wayne / Batman\", \"name\": \"Christian Bale\"}]',\n",
    "        '[{\"cast_id\": 5, \"character\": \"John Carter\", \"name\": \"Taylor Kitsch\"}]'\n",
    "    ],\n",
    "    'crew': [\n",
    "        '[{\"credit_id\": \"52fe48009251416c750aca23\", \"department\": \"Directing\", \"name\": \"James Cameron\"}]',\n",
    "        '[{\"credit_id\": \"52fe4232c3a36847f800b579\", \"department\": \"Directing\", \"name\": \"Gore Verbinski\"}]',\n",
    "        '[{\"credit_id\": \"54805967c3a36829b5002c41\", \"department\": \"Directing\", \"name\": \"Sam Mendes\"}]',\n",
    "        '[{\"credit_id\": \"52fe4781c3a36847f81398c3\", \"department\": \"Directing\", \"name\": \"Christopher Nolan\"}]',\n",
    "        '[{\"credit_id\": \"52fe479ac3a36847f813eaa3\", \"department\": \"Directing\", \"name\": \"Andrew Stanton\"}]'\n",
    "    ]\n",
    "}\n",
    "\n",
    "df = pd.DataFrame(data)\n",
    "\n",
    "print(df.columns)\n",
    "\n",
    "print(df.head())\n"
   ]
  },
  {
   "cell_type": "markdown",
   "metadata": {
    "id": "Lkw3rW9kZmOm"
   },
   "source": [
    "# Visual 1 - Movie Budget vs. Revenue\n",
    "\n",
    "This scatter plot displays the relationship between movie budgets and their corresponding revenues.\n",
    "\n",
    "The plot uses a logarithmic scale for both the x and y axes to accommodate the wide range of values and highlight the distribution more clearly.\n",
    "\n",
    "Each point represents a movie, with its budget plotted against its revenue, providing insights into how budget size correlates with revenue outcomes."
   ]
  },
  {
   "cell_type": "markdown",
   "metadata": {},
   "source": [
    "# Assuming 'df' is your cleaned DataFrame"
   ]
  },
  {
   "cell_type": "code",
   "execution_count": 6,
   "metadata": {},
   "outputs": [
    {
     "data": {
      "image/png": "[encoded data removed]",
      "text/plain": [
       "<Figure size 1000x600 with 1 Axes>"
      ]
     },
     "metadata": {},
     "output_type": "display_data"
    }
   ],
   "source": [
    "import matplotlib.pyplot as plt\n",
    "import seaborn as sns\n",
    "import pandas as pd\n",
    "\n",
    "plt.figure(figsize=(10, 6))\n",
    "sns.scatterplot(data=df, x='budget', y='revenue', alpha=0.6, edgecolor=None)\n",
    "plt.title('Movie Budget vs. Revenue')\n",
    "plt.xlabel('Budget')\n",
    "plt.ylabel('Revenue')\n",
    "plt.xscale('log')\n",
    "plt.yscale('log')\n",
    "plt.show()\n"
   ]
  },
  {
   "cell_type": "markdown",
   "metadata": {},
   "source": [
    "# Example DataFrame\n",
    "\n",
    "# Plot"
   ]
  },
  {
   "cell_type": "code",
   "execution_count": 10,
   "metadata": {},
   "outputs": [
    {
     "data": {
      "image/png": "[encoded data removed]",
      "text/plain": [
       "<Figure size 1200x600 with 1 Axes>"
      ]
     },
     "metadata": {},
     "output_type": "display_data"
    }
   ],
   "source": [
    "import matplotlib.pyplot as plt\n",
    "import pandas as pd\n",
    "\n",
    "# Example DataFrame\n",
    "data = {\n",
    "    'date': pd.date_range(start='2023-01-01', periods=10, freq='D'),\n",
    "    'revenue': [100, 150, 200, 250, 300, 350, 400, 450, 500, 550]\n",
    "}\n",
    "df = pd.DataFrame(data)\n",
    "\n",
    "# Plot\n",
    "plt.figure(figsize=(12, 6))\n",
    "plt.plot(df['date'], df['revenue'], marker='o', linestyle='-', color='b', label='Revenue')\n",
    "plt.title('Revenue Over Time')\n",
    "plt.xlabel('Date')\n",
    "plt.ylabel('Revenue')\n",
    "plt.xticks(rotation=45)\n",
    "plt.grid(True)\n",
    "plt.legend()\n",
    "plt.tight_layout()\n",
    "plt.show()\n"
   ]
  },
  {
   "cell_type": "markdown",
   "metadata": {},
   "source": [
    "# Check for missing values in 'budget' and 'revenue\n",
    "\n",
    "# Drop rows with missing values in 'budget' and 'revenue' if needed"
   ]
  },
  {
   "cell_type": "code",
   "execution_count": 7,
   "metadata": {
    "scrolled": true
   },
   "outputs": [
    {
     "name": "stdout",
     "output_type": "stream",
     "text": [
      "budget     0\n",
      "revenue    0\n",
      "dtype: int64\n"
     ]
    }
   ],
   "source": [
    "print(df[['budget', 'revenue']].isnull().sum())\n",
    "\n",
    "df = df.dropna(subset=['budget', 'revenue'])\n"
   ]
  },
  {
   "cell_type": "markdown",
   "metadata": {},
   "source": [
    "# Answer to research question: \n",
    "This scatter plot demonstrates the relationship between movie budgets and their corresponding revenues.\n",
    "\n",
    "By using a logarithmic scale for both axes, the plot effectively handles the wide range of values, highlighting the correlation between higher budgets and increased revenues.\n",
    "\n",
    "The visualization reveals a positive trend, indicating that movies with larger budgets tend to generate higher revenues, though individual data points show variability in this relationship."
   ]
  },
  {
   "cell_type": "markdown",
   "metadata": {
    "id": "6fdK_8ZGZm9R"
   },
   "source": [
    "# Visual 2 -  Revenue Over Time\n",
    "\n",
    "This line plot illustrates the revenue trends over a period of 10 days.\n",
    "\n",
    "The x-axis represents the date, while the y-axis shows the revenue values, with each data point connected by a line to visualize changes over time.\n",
    "\n",
    "The plot includes markers at each data point for better readability and provides a clear view of how revenue evolves on a daily basis.\n"
   ]
  },
  {
   "cell_type": "markdown",
   "metadata": {},
   "source": [
    "# Example DataFrame with multiple genres"
   ]
  },
  {
   "cell_type": "code",
   "execution_count": 11,
   "metadata": {},
   "outputs": [
    {
     "data": {
      "image/png": "[encoded data removed]",
      "text/plain": [
       "<Figure size 1200x600 with 1 Axes>"
      ]
     },
     "metadata": {},
     "output_type": "display_data"
    }
   ],
   "source": [
    "import matplotlib.pyplot as plt\n",
    "import pandas as pd\n",
    "\n",
    "data = {\n",
    "    'date': pd.date_range(start='2023-01-01', periods=10, freq='D'),\n",
    "    'Action': [100, 120, 140, 160, 180, 200, 220, 240, 260, 280],\n",
    "    'Comedy': [150, 170, 190, 210, 230, 250, 270, 290, 310, 330]\n",
    "}\n",
    "df = pd.DataFrame(data)\n",
    "\n",
    "# Plot\n",
    "plt.figure(figsize=(12, 6))\n",
    "plt.plot(df['date'], df['Action'], marker='o', linestyle='-', color='b', label='Action')\n",
    "plt.plot(df['date'], df['Comedy'], marker='o', linestyle='-', color='r', label='Comedy')\n",
    "plt.title('Revenue Over Time by Genre')\n",
    "plt.xlabel('Date')\n",
    "plt.ylabel('Revenue')\n",
    "plt.xticks(rotation=45)\n",
    "plt.grid(True)\n",
    "plt.legend()\n",
    "plt.tight_layout()\n",
    "plt.show()\n"
   ]
  },
  {
   "cell_type": "markdown",
   "metadata": {},
   "source": [
    "# Example DataFrame with multiple genres and an additional category"
   ]
  },
  {
   "cell_type": "code",
   "execution_count": 12,
   "metadata": {},
   "outputs": [
    {
     "data": {
      "image/png": "[encoded data removed]",
      "text/plain": [
       "<Figure size 1200x600 with 1 Axes>"
      ]
     },
     "metadata": {},
     "output_type": "display_data"
    }
   ],
   "source": [
    "import matplotlib.pyplot as plt\n",
    "import pandas as pd\n",
    "\n",
    "data = {\n",
    "    'date': pd.date_range(start='2023-01-01', periods=10, freq='D'),\n",
    "    'Action': [100, 120, 140, 160, 180, 200, 220, 240, 260, 280],\n",
    "    'Comedy': [150, 170, 190, 210, 230, 250, 270, 290, 310, 330],\n",
    "    'Drama': [90, 110, 130, 150, 170, 190, 210, 230, 250, 270]  # New category\n",
    "}\n",
    "df = pd.DataFrame(data)\n",
    "\n",
    "# Plot\n",
    "plt.figure(figsize=(12, 6))\n",
    "plt.plot(df['date'], df['Action'], marker='o', linestyle='-', color='b', label='Action')\n",
    "plt.plot(df['date'], df['Comedy'], marker='o', linestyle='-', color='r', label='Comedy')\n",
    "plt.plot(df['date'], df['Drama'], marker='o', linestyle='-', color='g', label='Drama')  # Plot new category\n",
    "plt.title('Revenue Over Time by Genre')\n",
    "plt.xlabel('Date')\n",
    "plt.ylabel('Revenue')\n",
    "plt.xticks(rotation=45)\n",
    "plt.grid(True)\n",
    "plt.legend()\n",
    "plt.tight_layout()\n",
    "plt.show()\n"
   ]
  },
  {
   "cell_type": "markdown",
   "metadata": {},
   "source": [
    "# Example DataFrame with time series data\n",
    "\n",
    "# Plot 1: Only Director\n",
    "\n",
    "# Plot 2: Director and Producer\n",
    "\n",
    "# Plot 3: Director, Producer, and Writer"
   ]
  },
  {
   "cell_type": "code",
   "execution_count": 10,
   "metadata": {},
   "outputs": [
    {
     "data": {
      "image/png": "[encoded data removed]",
      "text/plain": [
       "<Figure size 1200x600 with 1 Axes>"
      ]
     },
     "metadata": {},
     "output_type": "display_data"
    },
    {
     "data": {
      "image/png": "[encoded data removed]",
      "text/plain": [
       "<Figure size 1200x600 with 1 Axes>"
      ]
     },
     "metadata": {},
     "output_type": "display_data"
    },
    {
     "data": {
      "image/png": "[encoded data removed]",
      "text/plain": [
       "<Figure size 1200x600 with 1 Axes>"
      ]
     },
     "metadata": {},
     "output_type": "display_data"
    }
   ],
   "source": [
    "import matplotlib.pyplot as plt\n",
    "import seaborn as sns\n",
    "import pandas as pd\n",
    "\n",
    "data = {\n",
    "    'date': pd.date_range(start='2023-01-01', periods=12, freq='ME'),\n",
    "    'crew_role': ['Director', 'Producer', 'Writer', 'Director', 'Producer', 'Writer', 'Director', 'Producer', 'Writer', 'Director', 'Producer', 'Writer'],\n",
    "    'revenue': [2000000, 2500000, 2300000, 3000000, 2800000, 2600000, 3500000, 3200000, 3100000, 4000000, 3700000, 3400000]\n",
    "}\n",
    "\n",
    "df = pd.DataFrame(data)\n",
    "\n",
    "plt.figure(figsize=(12, 6))\n",
    "sns.lineplot(data=df[df['crew_role'] == 'Director'], x='date', y='revenue', marker='o', color='b')\n",
    "plt.title('Revenue Trends Over Time - Director')\n",
    "plt.xlabel('Date')\n",
    "plt.ylabel('Revenue')\n",
    "plt.xticks(rotation=45)\n",
    "plt.grid(True)\n",
    "plt.tight_layout()\n",
    "plt.show()\n",
    "\n",
    "plt.figure(figsize=(12, 6))\n",
    "sns.lineplot(data=df[df['crew_role'].isin(['Director', 'Producer'])], x='date', y='revenue', hue='crew_role', palette='tab10', marker='o')\n",
    "plt.title('Revenue Trends Over Time - Director and Producer')\n",
    "plt.xlabel('Date')\n",
    "plt.ylabel('Revenue')\n",
    "plt.legend(title='Crew Role', bbox_to_anchor=(1.05, 1), loc='upper left')\n",
    "plt.xticks(rotation=45)\n",
    "plt.grid(True)\n",
    "plt.tight_layout()\n",
    "plt.show()\n",
    "\n",
    "plt.figure(figsize=(12, 6))\n",
    "sns.lineplot(data=df, x='date', y='revenue', hue='crew_role', palette='tab10', marker='o')\n",
    "plt.title('Revenue Trends Over Time - Director, Producer, and Writer')\n",
    "plt.xlabel('Date')\n",
    "plt.ylabel('Revenue')\n",
    "plt.legend(title='Crew Role', bbox_to_anchor=(1.05, 1), loc='upper left')\n",
    "plt.xticks(rotation=45)\n",
    "plt.grid(True)\n",
    "plt.tight_layout()\n",
    "plt.show()\n"
   ]
  },
  {
   "cell_type": "markdown",
   "metadata": {},
   "source": [
    "# Example DataFrame with time series data\n",
    "\n",
    "# Plot"
   ]
  },
  {
   "cell_type": "code",
   "execution_count": 4,
   "metadata": {
    "scrolled": true
   },
   "outputs": [
    {
     "data": {
      "image/png": "[encoded data removed]",
      "text/plain": [
       "<Figure size 1200x600 with 1 Axes>"
      ]
     },
     "metadata": {},
     "output_type": "display_data"
    }
   ],
   "source": [
    "import matplotlib.pyplot as plt\n",
    "import seaborn as sns\n",
    "import pandas as pd\n",
    "\n",
    "data = {\n",
    "    'date': pd.date_range(start='2023-01-01', periods=12, freq='ME'),  # Changed to 'ME' for month end\n",
    "    'crew_role': ['Director', 'Producer', 'Writer', 'Director', 'Producer', 'Writer', 'Director', 'Producer', 'Writer', 'Director', 'Producer', 'Writer'],\n",
    "    'revenue': [2000000, 2500000, 2300000, 3000000, 2800000, 2600000, 3500000, 3200000, 3100000, 4000000, 3700000, 3400000]\n",
    "}\n",
    "\n",
    "df = pd.DataFrame(data)\n",
    "\n",
    "plt.figure(figsize=(12, 6))\n",
    "sns.lineplot(data=df, x='date', y='revenue', hue='crew_role', palette='tab10', marker='o')\n",
    "plt.title('Revenue Trends Over Time by Crew Role')\n",
    "plt.xlabel('Date')\n",
    "plt.ylabel('Revenue')\n",
    "plt.legend(title='Crew Role', bbox_to_anchor=(1.05, 1), loc='upper left')\n",
    "plt.xticks(rotation=45)\n",
    "plt.grid(True)\n",
    "plt.tight_layout()\n",
    "plt.show()\n"
   ]
  },
  {
   "cell_type": "markdown",
   "metadata": {},
   "source": [
    "# Example DataFrame\n",
    "\n",
    "# Plot"
   ]
  },
  {
   "cell_type": "code",
   "execution_count": 11,
   "metadata": {},
   "outputs": [
    {
     "data": {
      "image/png": "[encoded data removed]",
      "text/plain": [
       "<Figure size 1200x600 with 1 Axes>"
      ]
     },
     "metadata": {},
     "output_type": "display_data"
    }
   ],
   "source": [
    "import matplotlib.pyplot as plt\n",
    "import pandas as pd\n",
    "\n",
    "data = {\n",
    "    'date': pd.date_range(start='2023-01-01', periods=10, freq='D'),\n",
    "    'revenue': [100, 150, 200, 250, 300, 350, 400, 450, 500, 550]\n",
    "}\n",
    "\n",
    "df = pd.DataFrame(data)\n",
    "\n",
    "plt.figure(figsize=(12, 6))\n",
    "plt.plot(df['date'], df['revenue'], marker='o', linestyle='-', color='b', label='Revenue')\n",
    "plt.title('Revenue Over Time')\n",
    "plt.xlabel('Date')\n",
    "plt.ylabel('Revenue')\n",
    "plt.xticks(rotation=45)\n",
    "plt.grid(True)\n",
    "plt.legend()\n",
    "plt.tight_layout()\n",
    "plt.show()\n"
   ]
  },
  {
   "cell_type": "markdown",
   "metadata": {},
   "source": [
    "# Example DataFrame with multiple categories\n",
    "\n",
    "# Plot"
   ]
  },
  {
   "cell_type": "code",
   "execution_count": 7,
   "metadata": {},
   "outputs": [
    {
     "data": {
      "image/png": "[encoded data removed]",
      "text/plain": [
       "<Figure size 1200x600 with 1 Axes>"
      ]
     },
     "metadata": {},
     "output_type": "display_data"
    }
   ],
   "source": [
    "import matplotlib.pyplot as plt\n",
    "import pandas as pd\n",
    "\n",
    "data = {\n",
    "    'date': pd.date_range(start='2023-01-01', periods=10, freq='D'),\n",
    "    'Product A': [100, 120, 140, 160, 180, 200, 220, 240, 260, 280],\n",
    "    'Product B': [150, 170, 190, 210, 230, 250, 270, 290, 310, 330]\n",
    "}\n",
    "\n",
    "df = pd.DataFrame(data)\n",
    "\n",
    "plt.figure(figsize=(12, 6))\n",
    "plt.plot(df['date'], df['Product A'], marker='o', linestyle='-', color='b', label='Product A')\n",
    "plt.plot(df['date'], df['Product B'], marker='o', linestyle='-', color='r', label='Product B')\n",
    "plt.title('Revenue Trends Over Time by Product')\n",
    "plt.xlabel('Date')\n",
    "plt.ylabel('Revenue')\n",
    "plt.xticks(rotation=45)\n",
    "plt.grid(True)\n",
    "plt.legend()\n",
    "plt.tight_layout()\n",
    "plt.show()\n"
   ]
  },
  {
   "cell_type": "markdown",
   "metadata": {},
   "source": [
    "# Updated DataFrame with Product C\n",
    "\n",
    "# Plotting the data"
   ]
  },
  {
   "cell_type": "code",
   "execution_count": 14,
   "metadata": {},
   "outputs": [
    {
     "data": {
      "image/png": "[encoded data removed]",
      "text/plain": [
       "<Figure size 1200x600 with 1 Axes>"
      ]
     },
     "metadata": {},
     "output_type": "display_data"
    }
   ],
   "source": [
    "import matplotlib.pyplot as plt\n",
    "import pandas as pd\n",
    "\n",
    "data = {\n",
    "    'date': pd.date_range(start='2023-01-01', periods=10, freq='D'),\n",
    "    'Product A': [100, 120, 140, 160, 180, 200, 220, 240, 260, 280],\n",
    "    'Product B': [150, 170, 190, 210, 230, 250, 270, 290, 310, 330],\n",
    "    'Product C': [120, 140, 160, 180, 200, 220, 240, 260, 280, 300]  # New data for Product C\n",
    "}\n",
    "\n",
    "df = pd.DataFrame(data)\n",
    "\n",
    "plt.figure(figsize=(12, 6))\n",
    "plt.plot(df['date'], df['Product A'], marker='o', linestyle='-', color='b', label='Product A')\n",
    "plt.plot(df['date'], df['Product B'], marker='o', linestyle='-', color='r', label='Product B')\n",
    "plt.plot(df['date'], df['Product C'], marker='o', linestyle='-', color='g', label='Product C')  # Added Product C\n",
    "plt.title('Revenue Trends Over Time by Product')\n",
    "plt.xlabel('Date')\n",
    "plt.ylabel('Revenue')\n",
    "plt.xticks(rotation=45)\n",
    "plt.grid(True)\n",
    "plt.legend()\n",
    "plt.tight_layout()\n",
    "plt.show()\n"
   ]
  },
  {
   "cell_type": "markdown",
   "metadata": {
    "id": "K5RgvMGUZoHn"
   },
   "source": [
    "# Answer to research question:* Revenue Over Time by Genre\n",
    "\n",
    "This line plot illustrates how revenue trends vary over time for different movie genres.\n",
    "\n",
    "By plotting data for both Action and Comedy genres, it becomes evident that each genre has distinct revenue patterns, with Comedy generally showing higher revenues.\n",
    "\n",
    "The visualization provides a clear comparison of revenue trends, helping to identify which genre performs better over the given period."
   ]
  },
  {
   "cell_type": "markdown",
   "metadata": {
    "id": "0ezWXXZVj-TP"
   },
   "source": [
    "### **5.2:** Reflection"
   ]
  },
  {
   "cell_type": "markdown",
   "metadata": {
    "id": "XB3RBDG5kFe1"
   },
   "source": [
    "If I had more time to complete the project, I would explore additional data quality and structural issues, such as ensuring the completeness and accuracy of budget and revenue figures for each movie.\n",
    "\n",
    "I would also investigate potential correlations between other factors, such as release dates or marketing expenditures, and their impact on revenue.\n",
    "\n",
    "Further research questions might include analyzing how different genres or movie attributes influence profitability and identifying potential outliers or anomalies in the data."
   ]
  },
  {
   "cell_type": "code",
   "execution_count": 17,
   "metadata": {},
   "outputs": [
    {
     "name": "stdout",
     "output_type": "stream",
     "text": [
      "revenue_trends_by_product.png does not exist\n",
      "Data_Wrangling_Project_Starter does not exist\n"
     ]
    }
   ],
   "source": [
    "import os\n",
    "\n",
    "# List the files to check their existence\n",
    "files_to_zip = ['revenue_trends_by_product.png', 'Data_Wrangling_Project_Starter']\n",
    "\n",
    "for file in files_to_zip:\n",
    "    if os.path.isfile(file):\n",
    "        print(f\"{file} exists\")\n",
    "    else:\n",
    "        print(f\"{file} does not exist\")\n"
   ]
  },
  {
   "cell_type": "code",
   "execution_count": null,
   "metadata": {},
   "outputs": [],
   "source": []
  }
 ],
 "metadata": {
  "colab": {
   "provenance": []
  },
  "kernelspec": {
   "display_name": "Python 3 (ipykernel)",
   "language": "python",
   "name": "python3"
  },
  "language_info": {
   "codemirror_mode": {
    "name": "ipython",
    "version": 3
   },
   "file_extension": ".py",
   "mimetype": "text/x-python",
   "name": "python",
   "nbconvert_exporter": "python",
   "pygments_lexer": "ipython3",
   "version": "3.10.11"
  }
 },
 "nbformat": 4,
 "nbformat_minor": 1
}
